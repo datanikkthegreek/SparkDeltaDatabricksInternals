{
 "cells": [
  {
   "cell_type": "markdown",
   "metadata": {},
   "source": [
    "# Today's topic: Introducing Spark"
   ]
  },
  {
   "cell_type": "code",
   "execution_count": 1,
   "metadata": {},
   "outputs": [],
   "source": [
    "from pyspark.sql import SparkSession\n",
    "from pyspark.sql import functions as f\n",
    "import gresearch.spark.parquet\n",
    "import os\n",
    "import sys\n"
   ]
  },
  {
   "cell_type": "code",
   "execution_count": 2,
   "metadata": {},
   "outputs": [],
   "source": [
    "os.environ['PYSPARK_PYTHON'] = sys.executable\n",
    "os.environ['PYSPARK_DRIVER_PYTHON'] = sys.executable"
   ]
  },
  {
   "cell_type": "code",
   "execution_count": 3,
   "metadata": {},
   "outputs": [],
   "source": [
    "spark = SparkSession \\\n",
    "    .builder \\\n",
    "    .appName(\"Data with Nikk the Greek Spark Session\") \\\n",
    "    .master(\"local[4]\") \\\n",
    "    .enableHiveSupport() \\\n",
    "    .config(\"spark.jars.packages\", \"uk.co.gresearch.spark:spark-extension_2.12:2.11.0-3.5\") \\\n",
    "    .getOrCreate()\n",
    "\n",
    "#Needed to specify the used cores: .master(\"local[4]\")\n",
    "#Needed for Hive Support: .enableHiveSupport()\n",
    "#Needed for the spark extension package: .config(\"spark.jars.packages\", \"uk.co.gresearch.spark:spark-extension_2.12:2.11.0-3.5\")\n",
    "\n",
    "\n",
    "sc = spark.sparkContext"
   ]
  },
  {
   "cell_type": "code",
   "execution_count": 4,
   "metadata": {},
   "outputs": [
    {
     "name": "stdout",
     "output_type": "stream",
     "text": [
      "+---+\n",
      "| id|\n",
      "+---+\n",
      "|  0|\n",
      "|  1|\n",
      "|  2|\n",
      "|  3|\n",
      "|  4|\n",
      "|  5|\n",
      "|  6|\n",
      "|  7|\n",
      "|  8|\n",
      "|  9|\n",
      "| 10|\n",
      "| 11|\n",
      "| 12|\n",
      "| 13|\n",
      "| 14|\n",
      "| 15|\n",
      "| 16|\n",
      "| 17|\n",
      "| 18|\n",
      "| 19|\n",
      "+---+\n",
      "\n"
     ]
    }
   ],
   "source": [
    "sdf = spark.range(20)\n",
    "sdf.show()"
   ]
  },
  {
   "cell_type": "code",
   "execution_count": 5,
   "metadata": {},
   "outputs": [],
   "source": [
    "#ADJUST PATH BASED ON YOUR CHOSEN ONE\n",
    "path = \"D:/Data/test_setup.parquet\""
   ]
  },
  {
   "cell_type": "code",
   "execution_count": 14,
   "metadata": {},
   "outputs": [],
   "source": [
    "sdf.write.format(\"parquet\").mode(\"overwrite\").save(path)"
   ]
  },
  {
   "cell_type": "code",
   "execution_count": 7,
   "metadata": {},
   "outputs": [
    {
     "name": "stdout",
     "output_type": "stream",
     "text": [
      "+---+\n",
      "| id|\n",
      "+---+\n",
      "|  5|\n",
      "|  6|\n",
      "|  7|\n",
      "|  8|\n",
      "|  9|\n",
      "| 15|\n",
      "| 16|\n",
      "| 17|\n",
      "| 18|\n",
      "| 19|\n",
      "| 10|\n",
      "| 11|\n",
      "| 12|\n",
      "| 13|\n",
      "| 14|\n",
      "|  0|\n",
      "|  1|\n",
      "|  2|\n",
      "|  3|\n",
      "|  4|\n",
      "+---+\n",
      "\n"
     ]
    }
   ],
   "source": [
    "sdf_load = spark.read.parquet(path)\n",
    "sdf_load.show()"
   ]
  },
  {
   "cell_type": "code",
   "execution_count": 16,
   "metadata": {},
   "outputs": [
    {
     "name": "stdout",
     "output_type": "stream",
     "text": [
      "+----------------------------------------------------------------------------------------------------+------+---------------+-----------------+--------+-------+---------+-----+--------------------------------------------------------------------------+----------------------------------------------------------------------------------------------------------------------------------------------------------------------------------------------------------------------------+-----------+-------------------------------------------------------------------------------------------------------------------------------------------------------------------------------------------------------------------------------------------------------------------------------------------------------------------------------------------------------------------------------------------------------------------------------------------------------------------------------------------------------------------+\n",
      "|filename                                                                                            |blocks|compressedBytes|uncompressedBytes|rows    |columns|values   |nulls|createdBy                                                                 |schema                                                                                                                                                                                                                      |encryption |keyValues                                                                                                                                                                                                                                                                                                                                                                                                                                                                                                          |\n",
      "+----------------------------------------------------------------------------------------------------+------+---------------+-----------------+--------+-------+---------+-----+--------------------------------------------------------------------------+----------------------------------------------------------------------------------------------------------------------------------------------------------------------------------------------------------------------------+-----------+-------------------------------------------------------------------------------------------------------------------------------------------------------------------------------------------------------------------------------------------------------------------------------------------------------------------------------------------------------------------------------------------------------------------------------------------------------------------------------------------------------------------+\n",
      "|file:/D:/Data/test_setup.parquet/part-00000-b18274ef-3d59-405c-9ae2-2ead53fede7f-c000.snappy.parquet|4     |424235869      |1014426412       |50000000|6      |300000000|0    |parquet-mr version 1.13.1 (build db4183109d5b734ec5930d870cdae161e408ddba)|message spark_schema {\\n  required int64 id;\\n  required int32 date (DATE);\\n  required int96 timestamp;\\n  required binary idstring (STRING);\\n  required binary idfirst (STRING);\\n  required binary idlast (STRING);\\n}\\n|UNENCRYPTED|{org.apache.spark.version -> 3.5.1, org.apache.spark.sql.parquet.row.metadata -> {\"type\":\"struct\",\"fields\":[{\"name\":\"id\",\"type\":\"long\",\"nullable\":false,\"metadata\":{}},{\"name\":\"date\",\"type\":\"date\",\"nullable\":false,\"metadata\":{}},{\"name\":\"timestamp\",\"type\":\"timestamp\",\"nullable\":false,\"metadata\":{}},{\"name\":\"idstring\",\"type\":\"string\",\"nullable\":false,\"metadata\":{}},{\"name\":\"idfirst\",\"type\":\"string\",\"nullable\":false,\"metadata\":{}},{\"name\":\"idlast\",\"type\":\"string\",\"nullable\":false,\"metadata\":{}}]}}|\n",
      "|file:/D:/Data/test_setup.parquet/part-00000-b18274ef-3d59-405c-9ae2-2ead53fede7f-c000.snappy.parquet|4     |424235869      |1014426412       |50000000|6      |300000000|0    |parquet-mr version 1.13.1 (build db4183109d5b734ec5930d870cdae161e408ddba)|message spark_schema {\\n  required int64 id;\\n  required int32 date (DATE);\\n  required int96 timestamp;\\n  required binary idstring (STRING);\\n  required binary idfirst (STRING);\\n  required binary idlast (STRING);\\n}\\n|UNENCRYPTED|{org.apache.spark.version -> 3.5.1, org.apache.spark.sql.parquet.row.metadata -> {\"type\":\"struct\",\"fields\":[{\"name\":\"id\",\"type\":\"long\",\"nullable\":false,\"metadata\":{}},{\"name\":\"date\",\"type\":\"date\",\"nullable\":false,\"metadata\":{}},{\"name\":\"timestamp\",\"type\":\"timestamp\",\"nullable\":false,\"metadata\":{}},{\"name\":\"idstring\",\"type\":\"string\",\"nullable\":false,\"metadata\":{}},{\"name\":\"idfirst\",\"type\":\"string\",\"nullable\":false,\"metadata\":{}},{\"name\":\"idlast\",\"type\":\"string\",\"nullable\":false,\"metadata\":{}}]}}|\n",
      "|file:/D:/Data/test_setup.parquet/part-00000-b18274ef-3d59-405c-9ae2-2ead53fede7f-c000.snappy.parquet|4     |424235869      |1014426412       |50000000|6      |300000000|0    |parquet-mr version 1.13.1 (build db4183109d5b734ec5930d870cdae161e408ddba)|message spark_schema {\\n  required int64 id;\\n  required int32 date (DATE);\\n  required int96 timestamp;\\n  required binary idstring (STRING);\\n  required binary idfirst (STRING);\\n  required binary idlast (STRING);\\n}\\n|UNENCRYPTED|{org.apache.spark.version -> 3.5.1, org.apache.spark.sql.parquet.row.metadata -> {\"type\":\"struct\",\"fields\":[{\"name\":\"id\",\"type\":\"long\",\"nullable\":false,\"metadata\":{}},{\"name\":\"date\",\"type\":\"date\",\"nullable\":false,\"metadata\":{}},{\"name\":\"timestamp\",\"type\":\"timestamp\",\"nullable\":false,\"metadata\":{}},{\"name\":\"idstring\",\"type\":\"string\",\"nullable\":false,\"metadata\":{}},{\"name\":\"idfirst\",\"type\":\"string\",\"nullable\":false,\"metadata\":{}},{\"name\":\"idlast\",\"type\":\"string\",\"nullable\":false,\"metadata\":{}}]}}|\n",
      "|file:/D:/Data/test_setup.parquet/part-00001-b18274ef-3d59-405c-9ae2-2ead53fede7f-c000.snappy.parquet|4     |424623387      |1025536876       |50000000|6      |300000000|0    |parquet-mr version 1.13.1 (build db4183109d5b734ec5930d870cdae161e408ddba)|message spark_schema {\\n  required int64 id;\\n  required int32 date (DATE);\\n  required int96 timestamp;\\n  required binary idstring (STRING);\\n  required binary idfirst (STRING);\\n  required binary idlast (STRING);\\n}\\n|UNENCRYPTED|{org.apache.spark.version -> 3.5.1, org.apache.spark.sql.parquet.row.metadata -> {\"type\":\"struct\",\"fields\":[{\"name\":\"id\",\"type\":\"long\",\"nullable\":false,\"metadata\":{}},{\"name\":\"date\",\"type\":\"date\",\"nullable\":false,\"metadata\":{}},{\"name\":\"timestamp\",\"type\":\"timestamp\",\"nullable\":false,\"metadata\":{}},{\"name\":\"idstring\",\"type\":\"string\",\"nullable\":false,\"metadata\":{}},{\"name\":\"idfirst\",\"type\":\"string\",\"nullable\":false,\"metadata\":{}},{\"name\":\"idlast\",\"type\":\"string\",\"nullable\":false,\"metadata\":{}}]}}|\n",
      "|file:/D:/Data/test_setup.parquet/part-00001-b18274ef-3d59-405c-9ae2-2ead53fede7f-c000.snappy.parquet|4     |424623387      |1025536876       |50000000|6      |300000000|0    |parquet-mr version 1.13.1 (build db4183109d5b734ec5930d870cdae161e408ddba)|message spark_schema {\\n  required int64 id;\\n  required int32 date (DATE);\\n  required int96 timestamp;\\n  required binary idstring (STRING);\\n  required binary idfirst (STRING);\\n  required binary idlast (STRING);\\n}\\n|UNENCRYPTED|{org.apache.spark.version -> 3.5.1, org.apache.spark.sql.parquet.row.metadata -> {\"type\":\"struct\",\"fields\":[{\"name\":\"id\",\"type\":\"long\",\"nullable\":false,\"metadata\":{}},{\"name\":\"date\",\"type\":\"date\",\"nullable\":false,\"metadata\":{}},{\"name\":\"timestamp\",\"type\":\"timestamp\",\"nullable\":false,\"metadata\":{}},{\"name\":\"idstring\",\"type\":\"string\",\"nullable\":false,\"metadata\":{}},{\"name\":\"idfirst\",\"type\":\"string\",\"nullable\":false,\"metadata\":{}},{\"name\":\"idlast\",\"type\":\"string\",\"nullable\":false,\"metadata\":{}}]}}|\n",
      "|file:/D:/Data/test_setup.parquet/part-00001-b18274ef-3d59-405c-9ae2-2ead53fede7f-c000.snappy.parquet|4     |424623387      |1025536876       |50000000|6      |300000000|0    |parquet-mr version 1.13.1 (build db4183109d5b734ec5930d870cdae161e408ddba)|message spark_schema {\\n  required int64 id;\\n  required int32 date (DATE);\\n  required int96 timestamp;\\n  required binary idstring (STRING);\\n  required binary idfirst (STRING);\\n  required binary idlast (STRING);\\n}\\n|UNENCRYPTED|{org.apache.spark.version -> 3.5.1, org.apache.spark.sql.parquet.row.metadata -> {\"type\":\"struct\",\"fields\":[{\"name\":\"id\",\"type\":\"long\",\"nullable\":false,\"metadata\":{}},{\"name\":\"date\",\"type\":\"date\",\"nullable\":false,\"metadata\":{}},{\"name\":\"timestamp\",\"type\":\"timestamp\",\"nullable\":false,\"metadata\":{}},{\"name\":\"idstring\",\"type\":\"string\",\"nullable\":false,\"metadata\":{}},{\"name\":\"idfirst\",\"type\":\"string\",\"nullable\":false,\"metadata\":{}},{\"name\":\"idlast\",\"type\":\"string\",\"nullable\":false,\"metadata\":{}}]}}|\n",
      "|file:/D:/Data/test_setup.parquet/part-00001-b18274ef-3d59-405c-9ae2-2ead53fede7f-c000.snappy.parquet|4     |424623387      |1025536876       |50000000|6      |300000000|0    |parquet-mr version 1.13.1 (build db4183109d5b734ec5930d870cdae161e408ddba)|message spark_schema {\\n  required int64 id;\\n  required int32 date (DATE);\\n  required int96 timestamp;\\n  required binary idstring (STRING);\\n  required binary idfirst (STRING);\\n  required binary idlast (STRING);\\n}\\n|UNENCRYPTED|{org.apache.spark.version -> 3.5.1, org.apache.spark.sql.parquet.row.metadata -> {\"type\":\"struct\",\"fields\":[{\"name\":\"id\",\"type\":\"long\",\"nullable\":false,\"metadata\":{}},{\"name\":\"date\",\"type\":\"date\",\"nullable\":false,\"metadata\":{}},{\"name\":\"timestamp\",\"type\":\"timestamp\",\"nullable\":false,\"metadata\":{}},{\"name\":\"idstring\",\"type\":\"string\",\"nullable\":false,\"metadata\":{}},{\"name\":\"idfirst\",\"type\":\"string\",\"nullable\":false,\"metadata\":{}},{\"name\":\"idlast\",\"type\":\"string\",\"nullable\":false,\"metadata\":{}}]}}|\n",
      "|file:/D:/Data/test_setup.parquet/part-00000-b18274ef-3d59-405c-9ae2-2ead53fede7f-c000.snappy.parquet|4     |424235869      |1014426412       |50000000|6      |300000000|0    |parquet-mr version 1.13.1 (build db4183109d5b734ec5930d870cdae161e408ddba)|message spark_schema {\\n  required int64 id;\\n  required int32 date (DATE);\\n  required int96 timestamp;\\n  required binary idstring (STRING);\\n  required binary idfirst (STRING);\\n  required binary idlast (STRING);\\n}\\n|UNENCRYPTED|{org.apache.spark.version -> 3.5.1, org.apache.spark.sql.parquet.row.metadata -> {\"type\":\"struct\",\"fields\":[{\"name\":\"id\",\"type\":\"long\",\"nullable\":false,\"metadata\":{}},{\"name\":\"date\",\"type\":\"date\",\"nullable\":false,\"metadata\":{}},{\"name\":\"timestamp\",\"type\":\"timestamp\",\"nullable\":false,\"metadata\":{}},{\"name\":\"idstring\",\"type\":\"string\",\"nullable\":false,\"metadata\":{}},{\"name\":\"idfirst\",\"type\":\"string\",\"nullable\":false,\"metadata\":{}},{\"name\":\"idlast\",\"type\":\"string\",\"nullable\":false,\"metadata\":{}}]}}|\n",
      "+----------------------------------------------------------------------------------------------------+------+---------------+-----------------+--------+-------+---------+-----+--------------------------------------------------------------------------+----------------------------------------------------------------------------------------------------------------------------------------------------------------------------------------------------------------------------+-----------+-------------------------------------------------------------------------------------------------------------------------------------------------------------------------------------------------------------------------------------------------------------------------------------------------------------------------------------------------------------------------------------------------------------------------------------------------------------------------------------------------------------------+\n",
      "\n"
     ]
    }
   ],
   "source": [
    "sdf_meta = spark.read.parquet_metadata(path)\n",
    "sdf_meta.show(10, False)"
   ]
  },
  {
   "cell_type": "code",
   "execution_count": null,
   "metadata": {},
   "outputs": [],
   "source": []
  }
 ],
 "metadata": {
  "kernelspec": {
   "display_name": "Python 3",
   "language": "python",
   "name": "python3"
  },
  "language_info": {
   "codemirror_mode": {
    "name": "ipython",
    "version": 3
   },
   "file_extension": ".py",
   "mimetype": "text/x-python",
   "name": "python",
   "nbconvert_exporter": "python",
   "pygments_lexer": "ipython3",
   "version": "3.10.13"
  }
 },
 "nbformat": 4,
 "nbformat_minor": 2
}
