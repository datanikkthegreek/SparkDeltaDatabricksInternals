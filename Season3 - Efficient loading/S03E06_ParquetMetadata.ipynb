{
 "cells": [
  {
   "cell_type": "markdown",
   "metadata": {},
   "source": [
    "# Today's topic: Introducing Spark"
   ]
  },
  {
   "cell_type": "code",
   "execution_count": 1,
   "metadata": {},
   "outputs": [],
   "source": [
    "from pyspark.sql import SparkSession\n",
    "from pyspark.sql import functions as f\n",
    "import gresearch.spark.parquet\n",
    "import os\n",
    "import sys\n"
   ]
  },
  {
   "cell_type": "code",
   "execution_count": 2,
   "metadata": {},
   "outputs": [],
   "source": [
    "os.environ['PYSPARK_PYTHON'] = sys.executable\n",
    "os.environ['PYSPARK_DRIVER_PYTHON'] = sys.executable"
   ]
  },
  {
   "cell_type": "code",
   "execution_count": 3,
   "metadata": {},
   "outputs": [],
   "source": [
    "spark = SparkSession \\\n",
    "    .builder \\\n",
    "    .appName(\"Data with Nikk the Greek Spark Session\") \\\n",
    "    .master(\"local[4]\") \\\n",
    "    .enableHiveSupport() \\\n",
    "    .config(\"spark.jars.packages\", \"uk.co.gresearch.spark:spark-extension_2.12:2.11.0-3.5\") \\\n",
    "    .getOrCreate()\n",
    "\n",
    "#Needed to specify the used cores: .master(\"local[4]\")\n",
    "#Needed for Hive Support: .enableHiveSupport()\n",
    "#Needed for the spark extension package: .config(\"spark.jars.packages\", \"uk.co.gresearch.spark:spark-extension_2.12:2.11.0-3.5\")\n",
    "\n",
    "\n",
    "sc = spark.sparkContext"
   ]
  },
  {
   "cell_type": "code",
   "execution_count": 11,
   "metadata": {},
   "outputs": [],
   "source": [
    "#ADJUST PATH BASED ON YOUR CHOSEN ONE\n",
    "path = \"D:/Data/metadata.parquet\""
   ]
  },
  {
   "cell_type": "code",
   "execution_count": 12,
   "metadata": {},
   "outputs": [],
   "source": [
    "def sdf_generator(num_rows: int, num_partitions: int = None) -> \"DataFrame\":\n",
    "    return (\n",
    "        spark.range(num_rows, numPartitions=num_partitions)\n",
    "        .withColumn(\"date\", f.current_date())\n",
    "        .withColumn(\"timestamp\",f.current_timestamp())\n",
    "        .withColumn(\"idstring\", f.col(\"id\").cast(\"string\"))\n",
    "        .withColumn(\"idfirst\", f.col(\"idstring\").substr(0,1))\n",
    "        .withColumn(\"idlast\", f.col(\"idstring\").substr(-1,1))\n",
    "        )"
   ]
  },
  {
   "cell_type": "code",
   "execution_count": 35,
   "metadata": {},
   "outputs": [],
   "source": [
    "#100 million rows, 2 files\n",
    "sdf = sdf_generator(100000000, 2)"
   ]
  },
  {
   "cell_type": "code",
   "execution_count": 36,
   "metadata": {},
   "outputs": [],
   "source": [
    "sdf.write.format(\"parquet\").mode(\"overwrite\").save(path)"
   ]
  },
  {
   "cell_type": "markdown",
   "metadata": {},
   "source": [
    "Doku: https://github.com/G-Research/spark-extension/blob/master/python/gresearch/spark/parquet/__init__.py"
   ]
  },
  {
   "cell_type": "markdown",
   "metadata": {},
   "source": [
    "# File Meta Data\n",
    "- 2 files with 4 blocks  (row groups)\n",
    "- 424235869 bytes (404 MB) and 424623387 (404 MB) big  \n",
    "- 50 million rows per file\n",
    "- no null values\n",
    "- schema\n",
    "\n",
    "This provides the following per-file information:\n",
    "- filename (string): The file name\n",
    "- blocks (int): Number of blocks / RowGroups in the Parquet file\n",
    "- compressedBytes (long): Number of compressed bytes of all blocks\n",
    "- uncompressedBytes (long): Number of uncompressed bytes of all blocks\n",
    "- rows (long): Number of rows in the file\n",
    "- columns (int): Number of rows in the file\n",
    "- values (long): Number of values in the file\n",
    "- nulls (long): Number of null values in the file\n",
    "- createdBy (string): The createdBy string of the Parquet file, e.g. library used to write the file\n",
    "- schema (string): The schema\n",
    "- encryption (string): The encryption\n",
    "- keyValues (string-to-string map): Key-value data of the file"
   ]
  },
  {
   "cell_type": "code",
   "execution_count": 37,
   "metadata": {},
   "outputs": [
    {
     "name": "stdout",
     "output_type": "stream",
     "text": [
      "+--------------------------------------------------------------------------------------------------+------+---------------+-----------------+--------+-------+---------+-----+--------------------------------------------------------------------------+----------------------------------------------------------------------------------------------------------------------------------------------------------------------------------------------------------------------------+-----------+-------------------------------------------------------------------------------------------------------------------------------------------------------------------------------------------------------------------------------------------------------------------------------------------------------------------------------------------------------------------------------------------------------------------------------------------------------------------------------------------------------------------+\n",
      "|filename                                                                                          |blocks|compressedBytes|uncompressedBytes|rows    |columns|values   |nulls|createdBy                                                                 |schema                                                                                                                                                                                                                      |encryption |keyValues                                                                                                                                                                                                                                                                                                                                                                                                                                                                                                          |\n",
      "+--------------------------------------------------------------------------------------------------+------+---------------+-----------------+--------+-------+---------+-----+--------------------------------------------------------------------------+----------------------------------------------------------------------------------------------------------------------------------------------------------------------------------------------------------------------------+-----------+-------------------------------------------------------------------------------------------------------------------------------------------------------------------------------------------------------------------------------------------------------------------------------------------------------------------------------------------------------------------------------------------------------------------------------------------------------------------------------------------------------------------+\n",
      "|file:/D:/Data/metadata.parquet/part-00000-ed21d362-019d-480c-b67f-0fefd2cca93b-c000.snappy.parquet|4     |424235869      |1014426412       |50000000|6      |300000000|0    |parquet-mr version 1.13.1 (build db4183109d5b734ec5930d870cdae161e408ddba)|message spark_schema {\\n  required int64 id;\\n  required int32 date (DATE);\\n  required int96 timestamp;\\n  required binary idstring (STRING);\\n  required binary idfirst (STRING);\\n  required binary idlast (STRING);\\n}\\n|UNENCRYPTED|{org.apache.spark.version -> 3.5.1, org.apache.spark.sql.parquet.row.metadata -> {\"type\":\"struct\",\"fields\":[{\"name\":\"id\",\"type\":\"long\",\"nullable\":false,\"metadata\":{}},{\"name\":\"date\",\"type\":\"date\",\"nullable\":false,\"metadata\":{}},{\"name\":\"timestamp\",\"type\":\"timestamp\",\"nullable\":false,\"metadata\":{}},{\"name\":\"idstring\",\"type\":\"string\",\"nullable\":false,\"metadata\":{}},{\"name\":\"idfirst\",\"type\":\"string\",\"nullable\":false,\"metadata\":{}},{\"name\":\"idlast\",\"type\":\"string\",\"nullable\":false,\"metadata\":{}}]}}|\n",
      "|file:/D:/Data/metadata.parquet/part-00001-ed21d362-019d-480c-b67f-0fefd2cca93b-c000.snappy.parquet|4     |424623387      |1025536876       |50000000|6      |300000000|0    |parquet-mr version 1.13.1 (build db4183109d5b734ec5930d870cdae161e408ddba)|message spark_schema {\\n  required int64 id;\\n  required int32 date (DATE);\\n  required int96 timestamp;\\n  required binary idstring (STRING);\\n  required binary idfirst (STRING);\\n  required binary idlast (STRING);\\n}\\n|UNENCRYPTED|{org.apache.spark.version -> 3.5.1, org.apache.spark.sql.parquet.row.metadata -> {\"type\":\"struct\",\"fields\":[{\"name\":\"id\",\"type\":\"long\",\"nullable\":false,\"metadata\":{}},{\"name\":\"date\",\"type\":\"date\",\"nullable\":false,\"metadata\":{}},{\"name\":\"timestamp\",\"type\":\"timestamp\",\"nullable\":false,\"metadata\":{}},{\"name\":\"idstring\",\"type\":\"string\",\"nullable\":false,\"metadata\":{}},{\"name\":\"idfirst\",\"type\":\"string\",\"nullable\":false,\"metadata\":{}},{\"name\":\"idlast\",\"type\":\"string\",\"nullable\":false,\"metadata\":{}}]}}|\n",
      "+--------------------------------------------------------------------------------------------------+------+---------------+-----------------+--------+-------+---------+-----+--------------------------------------------------------------------------+----------------------------------------------------------------------------------------------------------------------------------------------------------------------------------------------------------------------------+-----------+-------------------------------------------------------------------------------------------------------------------------------------------------------------------------------------------------------------------------------------------------------------------------------------------------------------------------------------------------------------------------------------------------------------------------------------------------------------------------------------------------------------------+\n",
      "\n"
     ]
    }
   ],
   "source": [
    "sdf_meta = spark.read.parquet_metadata(path)\n",
    "sdf_meta.dropDuplicates([\"filename\"]).orderBy(\"filename\").show(20, False)"
   ]
  },
  {
   "cell_type": "markdown",
   "metadata": {},
   "source": [
    "# Parquet Blocks\n",
    "- First block starts at 4 bytes (after Header)\n",
    "- First block is 133949814 bytes (127,44 MB) big and has 15790100 rows\n",
    "\n",
    "This provides the following per-block information:\n",
    "- filename (string): The file name\n",
    "- block (int): Block / RowGroup number starting at 1\n",
    "- blockStart (long): Start position of the block in the Parquet file\n",
    "- compressedBytes (long): Number of compressed bytes in block\n",
    "- uncompressedBytes (long): Number of uncompressed bytes in block\n",
    "- rows (long): Number of rows in block\n",
    "- columns (int): Number of columns in block\n",
    "- values (long): Number of values in block\n",
    "- nulls (long): Number of null values in block"
   ]
  },
  {
   "cell_type": "code",
   "execution_count": 40,
   "metadata": {},
   "outputs": [
    {
     "name": "stdout",
     "output_type": "stream",
     "text": [
      "+--------------------------------------------------------------------------------------------------+-----+----------+---------------+-----------------+--------+-------+--------+-----+\n",
      "|filename                                                                                          |block|blockStart|compressedBytes|uncompressedBytes|rows    |columns|values  |nulls|\n",
      "+--------------------------------------------------------------------------------------------------+-----+----------+---------------+-----------------+--------+-------+--------+-----+\n",
      "|file:/D:/Data/metadata.parquet/part-00000-ed21d362-019d-480c-b67f-0fefd2cca93b-c000.snappy.parquet|1    |4         |133949814      |312755950        |15790100|6      |94740600|0    |\n",
      "|file:/D:/Data/metadata.parquet/part-00000-ed21d362-019d-480c-b67f-0fefd2cca93b-c000.snappy.parquet|2    |133949818 |133895545      |323456519        |15770100|6      |94620600|0    |\n",
      "|file:/D:/Data/metadata.parquet/part-00000-ed21d362-019d-480c-b67f-0fefd2cca93b-c000.snappy.parquet|3    |267845363 |133932933      |323866521        |15790100|6      |94740600|0    |\n",
      "|file:/D:/Data/metadata.parquet/part-00000-ed21d362-019d-480c-b67f-0fefd2cca93b-c000.snappy.parquet|4    |401778296 |22457577       |54347422         |2649700 |6      |15898200|0    |\n",
      "|file:/D:/Data/metadata.parquet/part-00001-ed21d362-019d-480c-b67f-0fefd2cca93b-c000.snappy.parquet|1    |4         |133830440      |322635786        |15730100|6      |94380600|0    |\n",
      "|file:/D:/Data/metadata.parquet/part-00001-ed21d362-019d-480c-b67f-0fefd2cca93b-c000.snappy.parquet|2    |133830444 |133894523      |323456521        |15770100|6      |94620600|0    |\n",
      "|file:/D:/Data/metadata.parquet/part-00001-ed21d362-019d-480c-b67f-0fefd2cca93b-c000.snappy.parquet|3    |267724967 |133932559      |323866509        |15790100|6      |94740600|0    |\n",
      "|file:/D:/Data/metadata.parquet/part-00001-ed21d362-019d-480c-b67f-0fefd2cca93b-c000.snappy.parquet|4    |401657526 |22965865       |55578060         |2709700 |6      |16258200|0    |\n",
      "+--------------------------------------------------------------------------------------------------+-----+----------+---------------+-----------------+--------+-------+--------+-----+\n",
      "\n"
     ]
    }
   ],
   "source": [
    "spark.read.parquet_blocks(path).dropDuplicates([\"filename\", \"block\"]).orderBy(\"filename\", \"block\").show(50, False)"
   ]
  },
  {
   "cell_type": "markdown",
   "metadata": {},
   "source": [
    "# Parquet Partitions\n",
    "- We can see that every partition is one row group per partition except of the last one per file beeing small enough to be together in a partition. Meaning 7 partitions\n",
    "- Simplified Reason max partition around the same as row group size. Just the last row group suits into 128 MB.\n",
    "\n",
    "This provides the following per-partition information:\n",
    "- partition (int): The Spark partition id\n",
    "- partitionStart (long): The start position of the partition\n",
    "- partitionEnd (long): The end position of the partition\n",
    "- partitionLength (long): The length of the partition\n",
    "- blocks (int): The number of Parquet blocks / RowGroups in this partition\n",
    "- compressedBytes (long): The number of compressed bytes in this partition\n",
    "- uncompressedBytes (long): The number of uncompressed bytes in this partition\n",
    "- rows (long): The number of rows in this partition\n",
    "- columns (int): The number of columns in this partition\n",
    "- values (long): The number of values in this partition\n",
    "- nulls (long): The number of null values in this partition\n",
    "- filename (string): The Parquet file name\n",
    "- fileLength (long): The length of the Parquet file"
   ]
  },
  {
   "cell_type": "code",
   "execution_count": 41,
   "metadata": {},
   "outputs": [
    {
     "name": "stdout",
     "output_type": "stream",
     "text": [
      "+---------+---------+---------+---------+------+---------------+-----------------+--------+-------+--------+-----+--------------------------------------------------------------------------------------------------+----------+\n",
      "|partition|start    |end      |length   |blocks|compressedBytes|uncompressedBytes|rows    |columns|values  |nulls|filename                                                                                          |fileLength|\n",
      "+---------+---------+---------+---------+------+---------------+-----------------+--------+-------+--------+-----+--------------------------------------------------------------------------------------------------+----------+\n",
      "|0        |0        |134217728|134217728|1     |133949814      |312755950        |15790100|6      |94740600|0    |file:/D:/Data/metadata.parquet/part-00000-ed21d362-019d-480c-b67f-0fefd2cca93b-c000.snappy.parquet|424615468 |\n",
      "|1        |134217728|268435456|134217728|1     |133895545      |323456519        |15770100|6      |94620600|0    |file:/D:/Data/metadata.parquet/part-00000-ed21d362-019d-480c-b67f-0fefd2cca93b-c000.snappy.parquet|424615468 |\n",
      "|2        |268435456|402653184|134217728|1     |133932933      |323866521        |15790100|6      |94740600|0    |file:/D:/Data/metadata.parquet/part-00000-ed21d362-019d-480c-b67f-0fefd2cca93b-c000.snappy.parquet|424615468 |\n",
      "|3        |0        |134217728|134217728|1     |133830440      |322635786        |15730100|6      |94380600|0    |file:/D:/Data/metadata.parquet/part-00001-ed21d362-019d-480c-b67f-0fefd2cca93b-c000.snappy.parquet|425004125 |\n",
      "|4        |134217728|268435456|134217728|1     |133894523      |323456521        |15770100|6      |94620600|0    |file:/D:/Data/metadata.parquet/part-00001-ed21d362-019d-480c-b67f-0fefd2cca93b-c000.snappy.parquet|425004125 |\n",
      "|5        |268435456|402653184|134217728|1     |133932559      |323866509        |15790100|6      |94740600|0    |file:/D:/Data/metadata.parquet/part-00001-ed21d362-019d-480c-b67f-0fefd2cca93b-c000.snappy.parquet|425004125 |\n",
      "|6        |402653184|425004125|22350941 |1     |22965865       |55578060         |2709700 |6      |16258200|0    |file:/D:/Data/metadata.parquet/part-00001-ed21d362-019d-480c-b67f-0fefd2cca93b-c000.snappy.parquet|425004125 |\n",
      "|6        |402653184|424615468|21962284 |1     |22457577       |54347422         |2649700 |6      |15898200|0    |file:/D:/Data/metadata.parquet/part-00000-ed21d362-019d-480c-b67f-0fefd2cca93b-c000.snappy.parquet|424615468 |\n",
      "+---------+---------+---------+---------+------+---------------+-----------------+--------+-------+--------+-----+--------------------------------------------------------------------------------------------------+----------+\n",
      "\n"
     ]
    }
   ],
   "source": [
    "spark.read.parquet_partitions(path).show(20, False)"
   ]
  },
  {
   "cell_type": "markdown",
   "metadata": {},
   "source": [
    "# Parquet Block Columns"
   ]
  },
  {
   "cell_type": "code",
   "execution_count": 43,
   "metadata": {},
   "outputs": [
    {
     "name": "stdout",
     "output_type": "stream",
     "text": [
      "+--------------------------------------------------------------------------------------------------+-----+-----------+------+---------------------------------+------------------------------+--------------------------+--------------------------+-----------+---------------+-----------------+--------+-----+\n",
      "|filename                                                                                          |block|column     |codec |type                             |encodings                     |minValue                  |maxValue                  |columnStart|compressedBytes|uncompressedBytes|values  |nulls|\n",
      "+--------------------------------------------------------------------------------------------------+-----+-----------+------+---------------------------------+------------------------------+--------------------------+--------------------------+-----------+---------------+-----------------+--------+-----+\n",
      "|file:/D:/Data/metadata.parquet/part-00000-ed21d362-019d-480c-b67f-0fefd2cca93b-c000.snappy.parquet|1    |[date]     |SNAPPY|required int32 date (DATE)       |[BIT_PACKED, PLAIN_DICTIONARY]|2024-03-16                |2024-03-16                |63229245   |24514          |22932            |15790100|0    |\n",
      "|file:/D:/Data/metadata.parquet/part-00000-ed21d362-019d-480c-b67f-0fefd2cca93b-c000.snappy.parquet|1    |[id]       |SNAPPY|required int64 id                |[BIT_PACKED, PLAIN]           |0                         |15790099                  |4          |63229241       |126343653        |15790100|0    |\n",
      "|file:/D:/Data/metadata.parquet/part-00000-ed21d362-019d-480c-b67f-0fefd2cca93b-c000.snappy.parquet|1    |[idfirst]  |SNAPPY|required binary idfirst (STRING) |[BIT_PACKED, PLAIN_DICTIONARY]|0                         |9                         |133504250  |25446          |23871            |15790100|0    |\n",
      "|file:/D:/Data/metadata.parquet/part-00000-ed21d362-019d-480c-b67f-0fefd2cca93b-c000.snappy.parquet|1    |[idlast]   |SNAPPY|required binary idlast (STRING)  |[BIT_PACKED, PLAIN_DICTIONARY]|0                         |9                         |133529696  |420122         |7949611          |15790100|0    |\n",
      "|file:/D:/Data/metadata.parquet/part-00000-ed21d362-019d-480c-b67f-0fefd2cca93b-c000.snappy.parquet|1    |[idstring] |SNAPPY|required binary idstring (STRING)|[BIT_PACKED, PLAIN]           |0                         |9999999                   |63278281   |70225969       |178392943        |15790100|0    |\n",
      "|file:/D:/Data/metadata.parquet/part-00000-ed21d362-019d-480c-b67f-0fefd2cca93b-c000.snappy.parquet|1    |[timestamp]|SNAPPY|required int96 timestamp         |[BIT_PACKED, PLAIN_DICTIONARY]|0xC033F2FB49420000E28A2500|0xC033F2FB49420000E28A2500|63253759   |24522          |22940            |15790100|0    |\n",
      "|file:/D:/Data/metadata.parquet/part-00000-ed21d362-019d-480c-b67f-0fefd2cca93b-c000.snappy.parquet|2    |[date]     |SNAPPY|required int32 date (DATE)       |[BIT_PACKED, PLAIN_DICTIONARY]|2024-03-16                |2024-03-16                |197101172  |24483          |22903            |15770100|0    |\n",
      "|file:/D:/Data/metadata.parquet/part-00000-ed21d362-019d-480c-b67f-0fefd2cca93b-c000.snappy.parquet|2    |[id]       |SNAPPY|required int64 id                |[BIT_PACKED, PLAIN]           |15790100                  |31560199                  |133949818  |63151354       |126183627        |15770100|0    |\n",
      "|file:/D:/Data/metadata.parquet/part-00000-ed21d362-019d-480c-b67f-0fefd2cca93b-c000.snappy.parquet|2    |[idfirst]  |SNAPPY|required binary idfirst (STRING) |[BIT_PACKED, PLAIN_DICTIONARY]|1                         |3                         |267400692  |25081          |23501            |15770100|0    |\n",
      "|file:/D:/Data/metadata.parquet/part-00000-ed21d362-019d-480c-b67f-0fefd2cca93b-c000.snappy.parquet|2    |[idlast]   |SNAPPY|required binary idlast (STRING)  |[BIT_PACKED, PLAIN_DICTIONARY]|0                         |9                         |267425773  |419590         |7939542          |15770100|0    |\n",
      "|file:/D:/Data/metadata.parquet/part-00000-ed21d362-019d-480c-b67f-0fefd2cca93b-c000.snappy.parquet|2    |[idstring] |SNAPPY|required binary idstring (STRING)|[BIT_PACKED, PLAIN]           |15790100                  |31560199                  |197150146  |70250546       |189264035        |15770100|0    |\n",
      "|file:/D:/Data/metadata.parquet/part-00000-ed21d362-019d-480c-b67f-0fefd2cca93b-c000.snappy.parquet|2    |[timestamp]|SNAPPY|required int96 timestamp         |[BIT_PACKED, PLAIN_DICTIONARY]|0xC033F2FB49420000E28A2500|0xC033F2FB49420000E28A2500|197125655  |24491          |22911            |15770100|0    |\n",
      "|file:/D:/Data/metadata.parquet/part-00000-ed21d362-019d-480c-b67f-0fefd2cca93b-c000.snappy.parquet|3    |[date]     |SNAPPY|required int32 date (DATE)       |[BIT_PACKED, PLAIN_DICTIONARY]|2024-03-16                |2024-03-16                |331074758  |24514          |22932            |15790100|0    |\n",
      "|file:/D:/Data/metadata.parquet/part-00000-ed21d362-019d-480c-b67f-0fefd2cca93b-c000.snappy.parquet|3    |[id]       |SNAPPY|required int64 id                |[BIT_PACKED, PLAIN]           |31560200                  |47350299                  |267845363  |63229395       |126343673        |15790100|0    |\n",
      "|file:/D:/Data/metadata.parquet/part-00000-ed21d362-019d-480c-b67f-0fefd2cca93b-c000.snappy.parquet|3    |[idfirst]  |SNAPPY|required binary idfirst (STRING) |[BIT_PACKED, PLAIN_DICTIONARY]|3                         |4                         |401333281  |24893          |23311            |15790100|0    |\n",
      "|file:/D:/Data/metadata.parquet/part-00000-ed21d362-019d-480c-b67f-0fefd2cca93b-c000.snappy.parquet|3    |[idlast]   |SNAPPY|required binary idlast (STRING)  |[BIT_PACKED, PLAIN_DICTIONARY]|0                         |9                         |401358174  |420122         |7949611          |15790100|0    |\n",
      "|file:/D:/Data/metadata.parquet/part-00000-ed21d362-019d-480c-b67f-0fefd2cca93b-c000.snappy.parquet|3    |[idstring] |SNAPPY|required binary idstring (STRING)|[BIT_PACKED, PLAIN]           |31560200                  |47350299                  |331123794  |70209487       |189504054        |15790100|0    |\n",
      "|file:/D:/Data/metadata.parquet/part-00000-ed21d362-019d-480c-b67f-0fefd2cca93b-c000.snappy.parquet|3    |[timestamp]|SNAPPY|required int96 timestamp         |[BIT_PACKED, PLAIN_DICTIONARY]|0xC033F2FB49420000E28A2500|0xC033F2FB49420000E28A2500|331099272  |24522          |22940            |15790100|0    |\n",
      "|file:/D:/Data/metadata.parquet/part-00000-ed21d362-019d-480c-b67f-0fefd2cca93b-c000.snappy.parquet|4    |[date]     |SNAPPY|required int32 date (DATE)       |[BIT_PACKED, PLAIN_DICTIONARY]|2024-03-16                |2024-03-16                |412389506  |4148           |3880             |2649700 |0    |\n",
      "|file:/D:/Data/metadata.parquet/part-00000-ed21d362-019d-480c-b67f-0fefd2cca93b-c000.snappy.parquet|4    |[id]       |SNAPPY|required int64 id                |[BIT_PACKED, PLAIN]           |47350300                  |49999999                  |401778296  |10611210       |21201447         |2649700 |0    |\n",
      "|file:/D:/Data/metadata.parquet/part-00000-ed21d362-019d-480c-b67f-0fefd2cca93b-c000.snappy.parquet|4    |[idfirst]  |SNAPPY|required binary idfirst (STRING) |[BIT_PACKED, PLAIN_DICTIONARY]|4                         |4                         |424161144  |4149           |3881             |2649700 |0    |\n",
      "|file:/D:/Data/metadata.parquet/part-00000-ed21d362-019d-480c-b67f-0fefd2cca93b-c000.snappy.parquet|4    |[idlast]   |SNAPPY|required binary idlast (STRING)  |[BIT_PACKED, PLAIN_DICTIONARY]|0                         |9                         |424165293  |70580          |1334077          |2649700 |0    |\n",
      "|file:/D:/Data/metadata.parquet/part-00000-ed21d362-019d-480c-b67f-0fefd2cca93b-c000.snappy.parquet|4    |[idstring] |SNAPPY|required binary idstring (STRING)|[BIT_PACKED, PLAIN]           |47350300                  |49999999                  |412397810  |11763334       |31800249         |2649700 |0    |\n",
      "|file:/D:/Data/metadata.parquet/part-00000-ed21d362-019d-480c-b67f-0fefd2cca93b-c000.snappy.parquet|4    |[timestamp]|SNAPPY|required int96 timestamp         |[BIT_PACKED, PLAIN_DICTIONARY]|0xC033F2FB49420000E28A2500|0xC033F2FB49420000E28A2500|412393654  |4156           |3888             |2649700 |0    |\n",
      "|file:/D:/Data/metadata.parquet/part-00001-ed21d362-019d-480c-b67f-0fefd2cca93b-c000.snappy.parquet|1    |[date]     |SNAPPY|required int32 date (DATE)       |[BIT_PACKED, PLAIN_DICTIONARY]|2024-03-16                |2024-03-16                |62988503   |24421          |22845            |15730100|0    |\n",
      "|file:/D:/Data/metadata.parquet/part-00001-ed21d362-019d-480c-b67f-0fefd2cca93b-c000.snappy.parquet|1    |[id]       |SNAPPY|required int64 id                |[BIT_PACKED, PLAIN]           |50000000                  |65730099                  |4          |62988499       |125863569        |15730100|0    |\n",
      "|file:/D:/Data/metadata.parquet/part-00001-ed21d362-019d-480c-b67f-0fefd2cca93b-c000.snappy.parquet|1    |[idfirst]  |SNAPPY|required binary idfirst (STRING) |[BIT_PACKED, PLAIN_DICTIONARY]|5                         |6                         |133387203  |24715          |23139            |15730100|0    |\n",
      "|file:/D:/Data/metadata.parquet/part-00001-ed21d362-019d-480c-b67f-0fefd2cca93b-c000.snappy.parquet|1    |[idlast]   |SNAPPY|required binary idlast (STRING)  |[BIT_PACKED, PLAIN_DICTIONARY]|0                         |9                         |133411918  |418526         |7919404          |15730100|0    |\n",
      "|file:/D:/Data/metadata.parquet/part-00001-ed21d362-019d-480c-b67f-0fefd2cca93b-c000.snappy.parquet|1    |[idstring] |SNAPPY|required binary idstring (STRING)|[BIT_PACKED, PLAIN]           |50000000                  |65730099                  |63037353   |70349850       |188783976        |15730100|0    |\n",
      "|file:/D:/Data/metadata.parquet/part-00001-ed21d362-019d-480c-b67f-0fefd2cca93b-c000.snappy.parquet|1    |[timestamp]|SNAPPY|required int96 timestamp         |[BIT_PACKED, PLAIN_DICTIONARY]|0xC033F2FB49420000E28A2500|0xC033F2FB49420000E28A2500|63012924   |24429          |22853            |15730100|0    |\n",
      "|file:/D:/Data/metadata.parquet/part-00001-ed21d362-019d-480c-b67f-0fefd2cca93b-c000.snappy.parquet|2    |[date]     |SNAPPY|required int32 date (DATE)       |[BIT_PACKED, PLAIN_DICTIONARY]|2024-03-16                |2024-03-16                |196981197  |24483          |22903            |15770100|0    |\n",
      "|file:/D:/Data/metadata.parquet/part-00001-ed21d362-019d-480c-b67f-0fefd2cca93b-c000.snappy.parquet|2    |[id]       |SNAPPY|required int64 id                |[BIT_PACKED, PLAIN]           |65730100                  |81500199                  |133830444  |63150753       |126183640        |15770100|0    |\n",
      "|file:/D:/Data/metadata.parquet/part-00001-ed21d362-019d-480c-b67f-0fefd2cca93b-c000.snappy.parquet|2    |[idfirst]  |SNAPPY|required binary idfirst (STRING) |[BIT_PACKED, PLAIN_DICTIONARY]|6                         |8                         |267280298  |25079          |23499            |15770100|0    |\n",
      "|file:/D:/Data/metadata.parquet/part-00001-ed21d362-019d-480c-b67f-0fefd2cca93b-c000.snappy.parquet|2    |[idlast]   |SNAPPY|required binary idlast (STRING)  |[BIT_PACKED, PLAIN_DICTIONARY]|0                         |9                         |267305377  |419590         |7939542          |15770100|0    |\n",
      "|file:/D:/Data/metadata.parquet/part-00001-ed21d362-019d-480c-b67f-0fefd2cca93b-c000.snappy.parquet|2    |[idstring] |SNAPPY|required binary idstring (STRING)|[BIT_PACKED, PLAIN]           |65730100                  |81500199                  |197030171  |70250127       |189264026        |15770100|0    |\n",
      "|file:/D:/Data/metadata.parquet/part-00001-ed21d362-019d-480c-b67f-0fefd2cca93b-c000.snappy.parquet|2    |[timestamp]|SNAPPY|required int96 timestamp         |[BIT_PACKED, PLAIN_DICTIONARY]|0xC033F2FB49420000E28A2500|0xC033F2FB49420000E28A2500|197005680  |24491          |22911            |15770100|0    |\n",
      "|file:/D:/Data/metadata.parquet/part-00001-ed21d362-019d-480c-b67f-0fefd2cca93b-c000.snappy.parquet|3    |[date]     |SNAPPY|required int32 date (DATE)       |[BIT_PACKED, PLAIN_DICTIONARY]|2024-03-16                |2024-03-16                |330954220  |24514          |22932            |15790100|0    |\n",
      "|file:/D:/Data/metadata.parquet/part-00001-ed21d362-019d-480c-b67f-0fefd2cca93b-c000.snappy.parquet|3    |[id]       |SNAPPY|required int64 id                |[BIT_PACKED, PLAIN]           |81500200                  |97290299                  |267724967  |63229253       |126343659        |15790100|0    |\n",
      "|file:/D:/Data/metadata.parquet/part-00001-ed21d362-019d-480c-b67f-0fefd2cca93b-c000.snappy.parquet|3    |[idfirst]  |SNAPPY|required binary idfirst (STRING) |[BIT_PACKED, PLAIN_DICTIONARY]|8                         |9                         |401212514  |24890          |23308            |15790100|0    |\n",
      "|file:/D:/Data/metadata.parquet/part-00001-ed21d362-019d-480c-b67f-0fefd2cca93b-c000.snappy.parquet|3    |[idlast]   |SNAPPY|required binary idlast (STRING)  |[BIT_PACKED, PLAIN_DICTIONARY]|0                         |9                         |401237404  |420122         |7949611          |15790100|0    |\n",
      "|file:/D:/Data/metadata.parquet/part-00001-ed21d362-019d-480c-b67f-0fefd2cca93b-c000.snappy.parquet|3    |[idstring] |SNAPPY|required binary idstring (STRING)|[BIT_PACKED, PLAIN]           |81500200                  |97290299                  |331003256  |70209258       |189504059        |15790100|0    |\n",
      "|file:/D:/Data/metadata.parquet/part-00001-ed21d362-019d-480c-b67f-0fefd2cca93b-c000.snappy.parquet|3    |[timestamp]|SNAPPY|required int96 timestamp         |[BIT_PACKED, PLAIN_DICTIONARY]|0xC033F2FB49420000E28A2500|0xC033F2FB49420000E28A2500|330978734  |24522          |22940            |15790100|0    |\n",
      "|file:/D:/Data/metadata.parquet/part-00001-ed21d362-019d-480c-b67f-0fefd2cca93b-c000.snappy.parquet|4    |[date]     |SNAPPY|required int32 date (DATE)       |[BIT_PACKED, PLAIN_DICTIONARY]|2024-03-16                |2024-03-16                |412508522  |4241           |3967             |2709700 |0    |\n",
      "|file:/D:/Data/metadata.parquet/part-00001-ed21d362-019d-480c-b67f-0fefd2cca93b-c000.snappy.parquet|4    |[id]       |SNAPPY|required int64 id                |[BIT_PACKED, PLAIN]           |97290300                  |99999999                  |401657526  |10850996       |21681532         |2709700 |0    |\n",
      "|file:/D:/Data/metadata.parquet/part-00001-ed21d362-019d-480c-b67f-0fefd2cca93b-c000.snappy.parquet|4    |[idfirst]  |SNAPPY|required binary idfirst (STRING) |[BIT_PACKED, PLAIN_DICTIONARY]|9                         |9                         |424546973  |4242           |3968             |2709700 |0    |\n",
      "|file:/D:/Data/metadata.parquet/part-00001-ed21d362-019d-480c-b67f-0fefd2cca93b-c000.snappy.parquet|4    |[idlast]   |SNAPPY|required binary idlast (STRING)  |[BIT_PACKED, PLAIN_DICTIONARY]|0                         |9                         |424551215  |72176          |1364284          |2709700 |0    |\n",
      "|file:/D:/Data/metadata.parquet/part-00001-ed21d362-019d-480c-b67f-0fefd2cca93b-c000.snappy.parquet|4    |[idstring] |SNAPPY|required binary idstring (STRING)|[BIT_PACKED, PLAIN]           |97290300                  |99999999                  |412517012  |12029961       |32520334         |2709700 |0    |\n",
      "|file:/D:/Data/metadata.parquet/part-00001-ed21d362-019d-480c-b67f-0fefd2cca93b-c000.snappy.parquet|4    |[timestamp]|SNAPPY|required int96 timestamp         |[BIT_PACKED, PLAIN_DICTIONARY]|0xC033F2FB49420000E28A2500|0xC033F2FB49420000E28A2500|412512763  |4249           |3975             |2709700 |0    |\n",
      "+--------------------------------------------------------------------------------------------------+-----+-----------+------+---------------------------------+------------------------------+--------------------------+--------------------------+-----------+---------------+-----------------+--------+-----+\n",
      "\n"
     ]
    }
   ],
   "source": [
    "spark.read.parquet_block_columns(path).dropDuplicates([\"filename\", \"block\", \"column\"]).orderBy(\"filename\", \"block\", \"column\").show(50, False)"
   ]
  },
  {
   "cell_type": "code",
   "execution_count": null,
   "metadata": {},
   "outputs": [],
   "source": [
    "https://github.com/apache/parquet-mr/blob/master/parquet-cli/README.md"
   ]
  }
 ],
 "metadata": {
  "kernelspec": {
   "display_name": "Python 3",
   "language": "python",
   "name": "python3"
  },
  "language_info": {
   "codemirror_mode": {
    "name": "ipython",
    "version": 3
   },
   "file_extension": ".py",
   "mimetype": "text/x-python",
   "name": "python",
   "nbconvert_exporter": "python",
   "pygments_lexer": "ipython3",
   "version": "3.10.13"
  }
 },
 "nbformat": 4,
 "nbformat_minor": 2
}
