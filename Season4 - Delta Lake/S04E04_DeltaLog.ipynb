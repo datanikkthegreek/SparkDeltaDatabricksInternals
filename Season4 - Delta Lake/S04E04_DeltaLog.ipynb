{
 "cells": [
  {
   "cell_type": "code",
   "execution_count": 9,
   "metadata": {},
   "outputs": [],
   "source": [
    "from pyspark.sql import SparkSession\n",
    "from delta import configure_spark_with_delta_pip\n",
    "from delta.tables import DeltaTable\n",
    "import os "
   ]
  },
  {
   "cell_type": "code",
   "execution_count": 3,
   "metadata": {},
   "outputs": [],
   "source": [
    "builder = SparkSession \\\n",
    "    .builder \\\n",
    "    .appName(\"Data with Nikk the Greek Spark Session\") \\\n",
    "    .master(\"local[4]\") \\\n",
    "    .config(\"spark.jars.packages\", \"uk.co.gresearch.spark:spark-extension_2.12:2.11.0-3.5\") \\\n",
    "    .config(\"spark.jars.packages\", \"org.apache.spark:spark-avro_2.12:3.5.0\") \\\n",
    "    .config(\"spark.sql.extensions\", \"io.delta.sql.DeltaSparkSessionExtension\") \\\n",
    "    .config(\"spark.sql.catalog.spark_catalog\", \"org.apache.spark.sql.delta.catalog.DeltaCatalog\") \\\n",
    "\n",
    "spark = configure_spark_with_delta_pip(builder).getOrCreate()\n",
    "\n",
    "\n"
   ]
  },
  {
   "cell_type": "code",
   "execution_count": 3,
   "metadata": {},
   "outputs": [],
   "source": [
    "sc = spark.sparkContext"
   ]
  },
  {
   "cell_type": "markdown",
   "metadata": {},
   "source": [
    "Spark DataFrameWriter: https://spark.apache.org/docs/latest/api/python/reference/pyspark.sql/api/pyspark.sql.DataFrameWriter.mode.html#pyspark.sql.DataFrameWriter.mode\n",
    "\n",
    "Spark to Delta mapping: https://docs.delta.io/latest/releases.html\n",
    "Dataframe Reader and Writer versions: https://docs.delta.io/latest/versioning.html\n",
    "\n",
    "Get Started: https://delta.io/learn/getting-started/"
   ]
  },
  {
   "cell_type": "code",
   "execution_count": 73,
   "metadata": {},
   "outputs": [],
   "source": [
    "path_delta = \"D:/Data/delta_test\"\n",
    "#path_delta = \"D:/Data/delta_test_v2\""
   ]
  },
  {
   "cell_type": "markdown",
   "metadata": {},
   "source": [
    "# Write table data"
   ]
  },
  {
   "cell_type": "code",
   "execution_count": 60,
   "metadata": {},
   "outputs": [],
   "source": [
    "sdf = spark.range(start=1, end=25, numPartitions=1)\n",
    "sdf.write.format(\"delta\").mode(\"overwrite\").save(path_delta)\n"
   ]
  },
  {
   "cell_type": "code",
   "execution_count": 61,
   "metadata": {},
   "outputs": [],
   "source": [
    "for i in range(0,20):\n",
    "    sdf = spark.range(start=1, end=20, numPartitions=1)\n",
    "    sdf.write.format(\"delta\").mode(\"overwrite\").save(path_delta)"
   ]
  },
  {
   "cell_type": "markdown",
   "metadata": {},
   "source": [
    "# Get log files"
   ]
  },
  {
   "cell_type": "code",
   "execution_count": 75,
   "metadata": {},
   "outputs": [
    {
     "data": {
      "text/plain": [
       "['D:/Data/delta_test_v2/_delta_log/00000000000000000000.json',\n",
       " 'D:/Data/delta_test_v2/_delta_log/00000000000000000001.json',\n",
       " 'D:/Data/delta_test_v2/_delta_log/00000000000000000002.json',\n",
       " 'D:/Data/delta_test_v2/_delta_log/00000000000000000003.json',\n",
       " 'D:/Data/delta_test_v2/_delta_log/00000000000000000004.json',\n",
       " 'D:/Data/delta_test_v2/_delta_log/00000000000000000005.json',\n",
       " 'D:/Data/delta_test_v2/_delta_log/00000000000000000006.json',\n",
       " 'D:/Data/delta_test_v2/_delta_log/00000000000000000007.json',\n",
       " 'D:/Data/delta_test_v2/_delta_log/00000000000000000008.json',\n",
       " 'D:/Data/delta_test_v2/_delta_log/00000000000000000009.json',\n",
       " 'D:/Data/delta_test_v2/_delta_log/00000000000000000010.checkpoint.10885be8-9a9a-4216-ac61-0de993a23b39.json',\n",
       " 'D:/Data/delta_test_v2/_delta_log/00000000000000000010.json',\n",
       " 'D:/Data/delta_test_v2/_delta_log/00000000000000000011.json',\n",
       " 'D:/Data/delta_test_v2/_delta_log/00000000000000000012.json',\n",
       " 'D:/Data/delta_test_v2/_delta_log/00000000000000000013.json',\n",
       " 'D:/Data/delta_test_v2/_delta_log/00000000000000000014.json',\n",
       " 'D:/Data/delta_test_v2/_delta_log/00000000000000000015.json',\n",
       " 'D:/Data/delta_test_v2/_delta_log/00000000000000000016.json',\n",
       " 'D:/Data/delta_test_v2/_delta_log/00000000000000000017.json',\n",
       " 'D:/Data/delta_test_v2/_delta_log/00000000000000000018.json',\n",
       " 'D:/Data/delta_test_v2/_delta_log/00000000000000000019.json',\n",
       " 'D:/Data/delta_test_v2/_delta_log/00000000000000000020.checkpoint.a95198d9-f334-450c-9a7b-a6b1a7371e8c.json',\n",
       " 'D:/Data/delta_test_v2/_delta_log/00000000000000000020.json',\n",
       " 'D:/Data/delta_test_v2/_delta_log/00000000000000000021.json']"
      ]
     },
     "execution_count": 75,
     "metadata": {},
     "output_type": "execute_result"
    }
   ],
   "source": [
    "files_json = [f\"{path_delta}/_delta_log/{f}\" for f in os.listdir(f\"{path_delta}/_delta_log\") if f.split(\".\")[-1] == \"json\"]\n",
    "files_json"
   ]
  },
  {
   "cell_type": "code",
   "execution_count": 78,
   "metadata": {},
   "outputs": [
    {
     "name": "stdout",
     "output_type": "stream",
     "text": [
      "+----------------------------------------------------------------------------------------------------------------------------------------------------------------------------------+---------------------------------------------------------------------------------------------------------------------------------------------------------+-----------------------------------------------------------------------------------------------------+\n",
      "|add                                                                                                                                                                               |commitInfo                                                                                                                                               |remove                                                                                               |\n",
      "+----------------------------------------------------------------------------------------------------------------------------------------------------------------------------------+---------------------------------------------------------------------------------------------------------------------------------------------------------+-----------------------------------------------------------------------------------------------------+\n",
      "|NULL                                                                                                                                                                              |{Apache-Spark/3.5.1 Delta-Lake/3.1.0, false, Serializable, WRITE, {1, 609, 19}, {Overwrite, []}, 19, 1713300728422, 2971c10c-60f6-43fd-8769-7844cd233acb}|NULL                                                                                                 |\n",
      "|{true, 1713300728206, part-00000-9235cbc5-8784-428d-9017-5a4d5055bd7c-c000.snappy.parquet, 609, {\"numRecords\":19,\"minValues\":{\"id\":1},\"maxValues\":{\"id\":19},\"nullCount\":{\"id\":0}}}|NULL                                                                                                                                                     |NULL                                                                                                 |\n",
      "|NULL                                                                                                                                                                              |NULL                                                                                                                                                     |{true, 1713300728422, true, part-00000-c914d001-ace7-4167-aa5f-f2e1dff59cb2-c000.snappy.parquet, 609}|\n",
      "+----------------------------------------------------------------------------------------------------------------------------------------------------------------------------------+---------------------------------------------------------------------------------------------------------------------------------------------------------+-----------------------------------------------------------------------------------------------------+\n",
      "\n"
     ]
    }
   ],
   "source": [
    "sdf_json = spark.read.format(\"json\").load(files_json[-2])\n",
    "sdf_json.show(20, False)"
   ]
  },
  {
   "cell_type": "code",
   "execution_count": 76,
   "metadata": {},
   "outputs": [
    {
     "data": {
      "text/plain": [
       "[]"
      ]
     },
     "execution_count": 76,
     "metadata": {},
     "output_type": "execute_result"
    }
   ],
   "source": [
    "files_parquet = [f\"{path_delta}/_delta_log/{f}\" for f in os.listdir(f\"{path_delta}/_delta_log\") if f.split(\".\")[-1] == \"parquet\"]\n",
    "files_parquet"
   ]
  },
  {
   "cell_type": "code",
   "execution_count": 69,
   "metadata": {},
   "outputs": [
    {
     "name": "stdout",
     "output_type": "stream",
     "text": [
      "+----+---------------------------------------------------------------------------------------------------------------------------------------------------------------------------------------------------------------------+----------------------------------------------------------------------------------------------------------------------------+--------------------------------------------------------------------------------------------------------------------------------------------------------------------------------+------------------+--------------+\n",
      "|txn |add                                                                                                                                                                                                                  |remove                                                                                                                      |metaData                                                                                                                                                                        |protocol          |domainMetadata|\n",
      "+----+---------------------------------------------------------------------------------------------------------------------------------------------------------------------------------------------------------------------+----------------------------------------------------------------------------------------------------------------------------+--------------------------------------------------------------------------------------------------------------------------------------------------------------------------------+------------------+--------------+\n",
      "|NULL|NULL                                                                                                                                                                                                                 |{part-00000-33f1246d-cdac-4cb6-835c-0e6b56002195-c000.snappy.parquet, 1713300439933, false, true, {}, 609, NULL, NULL, NULL}|NULL                                                                                                                                                                            |NULL              |NULL          |\n",
      "|NULL|NULL                                                                                                                                                                                                                 |{part-00000-0055f196-eae6-492e-8c17-df80d3257025-c000.snappy.parquet, 1713300452021, false, true, {}, 609, NULL, NULL, NULL}|NULL                                                                                                                                                                            |NULL              |NULL          |\n",
      "|NULL|NULL                                                                                                                                                                                                                 |{part-00000-828b3900-9232-41eb-a67c-f7f68f234f42-c000.snappy.parquet, 1713300441934, false, true, {}, 609, NULL, NULL, NULL}|NULL                                                                                                                                                                            |NULL              |NULL          |\n",
      "|NULL|NULL                                                                                                                                                                                                                 |{part-00000-480a8a7f-13f1-4470-ab2d-305f4c738365-c000.snappy.parquet, 1713300456197, false, true, {}, 609, NULL, NULL, NULL}|NULL                                                                                                                                                                            |NULL              |NULL          |\n",
      "|NULL|NULL                                                                                                                                                                                                                 |{part-00000-861b5ad2-217e-42d5-9f62-7a5ed31fdfd9-c000.snappy.parquet, 1713300454071, false, true, {}, 609, NULL, NULL, NULL}|NULL                                                                                                                                                                            |NULL              |NULL          |\n",
      "|NULL|NULL                                                                                                                                                                                                                 |{part-00000-c36fa15a-fce3-40e8-a21d-fcd375de1543-c000.snappy.parquet, 1713300449871, false, true, {}, 609, NULL, NULL, NULL}|NULL                                                                                                                                                                            |NULL              |NULL          |\n",
      "|NULL|NULL                                                                                                                                                                                                                 |NULL                                                                                                                        |NULL                                                                                                                                                                            |{1, 2, NULL, NULL}|NULL          |\n",
      "|NULL|NULL                                                                                                                                                                                                                 |NULL                                                                                                                        |{072e3d00-bd7c-4e59-a6e8-166802a224a7, NULL, NULL, {parquet, {}}, {\"type\":\"struct\",\"fields\":[{\"name\":\"id\",\"type\":\"long\",\"nullable\":true,\"metadata\":{}}]}, [], {}, 1713300434069}|NULL              |NULL          |\n",
      "|NULL|NULL                                                                                                                                                                                                                 |{part-00000-57facd90-bad2-4a46-9b92-1b2021b03b6a-c000.snappy.parquet, 1713300445644, false, true, {}, 609, NULL, NULL, NULL}|NULL                                                                                                                                                                            |NULL              |NULL          |\n",
      "|NULL|{part-00000-b625ae00-12ef-4dbe-8f91-d07e7f5c9d11-c000.snappy.parquet, {}, 609, 1713300455962, false, NULL, NULL, NULL, NULL, NULL, {\"numRecords\":19,\"minValues\":{\"id\":1},\"maxValues\":{\"id\":19},\"nullCount\":{\"id\":0}}}|NULL                                                                                                                        |NULL                                                                                                                                                                            |NULL              |NULL          |\n",
      "|NULL|NULL                                                                                                                                                                                                                 |{part-00000-00dfb382-945d-419b-ab94-5f31eef39155-c000.snappy.parquet, 1713300447879, false, true, {}, 609, NULL, NULL, NULL}|NULL                                                                                                                                                                            |NULL              |NULL          |\n",
      "|NULL|NULL                                                                                                                                                                                                                 |{part-00000-a0d5eeca-d749-496f-a634-62b81e720ad2-c000.snappy.parquet, 1713300437986, false, true, {}, 644, NULL, NULL, NULL}|NULL                                                                                                                                                                            |NULL              |NULL          |\n",
      "|NULL|NULL                                                                                                                                                                                                                 |{part-00000-a9fd8bfb-b290-49b6-8060-8e955b4abdd9-c000.snappy.parquet, 1713300443784, false, true, {}, 609, NULL, NULL, NULL}|NULL                                                                                                                                                                            |NULL              |NULL          |\n",
      "+----+---------------------------------------------------------------------------------------------------------------------------------------------------------------------------------------------------------------------+----------------------------------------------------------------------------------------------------------------------------+--------------------------------------------------------------------------------------------------------------------------------------------------------------------------------+------------------+--------------+\n",
      "\n"
     ]
    }
   ],
   "source": [
    "sdf_parquet = spark.read.format(\"parquet\").load(files_parquet[0])\n",
    "sdf_parquet.show(20, False)"
   ]
  },
  {
   "cell_type": "markdown",
   "metadata": {},
   "source": [
    "# Delta details"
   ]
  },
  {
   "cell_type": "code",
   "execution_count": 56,
   "metadata": {},
   "outputs": [
    {
     "name": "stdout",
     "output_type": "stream",
     "text": [
      "+------+------------------------------------+----+-----------+------------------------+-----------------------+-----------------------+----------------+--------+-----------+------------------------------+----------------+----------------+--------------------------------------+\n",
      "|format|id                                  |name|description|location                |createdAt              |lastModified           |partitionColumns|numFiles|sizeInBytes|properties                    |minReaderVersion|minWriterVersion|tableFeatures                         |\n",
      "+------+------------------------------------+----+-----------+------------------------+-----------------------+-----------------------+----------------+--------+-----------+------------------------------+----------------+----------------+--------------------------------------+\n",
      "|delta |19e69754-ffba-48ca-969f-d72c2df1efb4|NULL|NULL       |file:/D:/Data/delta_test|2024-04-16 22:04:43.767|2024-04-16 22:29:55.742|[]              |1       |609        |{delta.checkpointPolicy -> v2}|3               |7               |[appendOnly, invariants, v2Checkpoint]|\n",
      "+------+------------------------------------+----+-----------+------------------------+-----------------------+-----------------------+----------------+--------+-----------+------------------------------+----------------+----------------+--------------------------------------+\n",
      "\n"
     ]
    }
   ],
   "source": [
    "deltaTable = DeltaTable.forPath(spark, path_delta)\n",
    "deltaTable.detail().show(20, False)\n"
   ]
  },
  {
   "cell_type": "markdown",
   "metadata": {},
   "source": [
    "# Delta history"
   ]
  },
  {
   "cell_type": "code",
   "execution_count": 55,
   "metadata": {},
   "outputs": [
    {
     "name": "stdout",
     "output_type": "stream",
     "text": [
      "+-------+-----------------------+------+--------+---------+--------------------------------------+----+--------+---------+-----------+--------------+-------------+-----------------------------------------------------------+------------+-----------------------------------+\n",
      "|version|timestamp              |userId|userName|operation|operationParameters                   |job |notebook|clusterId|readVersion|isolationLevel|isBlindAppend|operationMetrics                                           |userMetadata|engineInfo                         |\n",
      "+-------+-----------------------+------+--------+---------+--------------------------------------+----+--------+---------+-----------+--------------+-------------+-----------------------------------------------------------+------------+-----------------------------------+\n",
      "|31     |2024-04-16 22:29:55.742|NULL  |NULL    |WRITE    |{mode -> Overwrite, partitionBy -> []}|NULL|NULL    |NULL     |30         |Serializable  |false        |{numFiles -> 1, numOutputRows -> 19, numOutputBytes -> 609}|NULL        |Apache-Spark/3.5.1 Delta-Lake/3.1.0|\n",
      "|30     |2024-04-16 22:29:50.403|NULL  |NULL    |WRITE    |{mode -> Overwrite, partitionBy -> []}|NULL|NULL    |NULL     |29         |Serializable  |false        |{numFiles -> 1, numOutputRows -> 19, numOutputBytes -> 609}|NULL        |Apache-Spark/3.5.1 Delta-Lake/3.1.0|\n",
      "|29     |2024-04-16 22:29:47.882|NULL  |NULL    |WRITE    |{mode -> Overwrite, partitionBy -> []}|NULL|NULL    |NULL     |28         |Serializable  |false        |{numFiles -> 1, numOutputRows -> 19, numOutputBytes -> 609}|NULL        |Apache-Spark/3.5.1 Delta-Lake/3.1.0|\n",
      "|28     |2024-04-16 22:29:45.454|NULL  |NULL    |WRITE    |{mode -> Overwrite, partitionBy -> []}|NULL|NULL    |NULL     |27         |Serializable  |false        |{numFiles -> 1, numOutputRows -> 19, numOutputBytes -> 609}|NULL        |Apache-Spark/3.5.1 Delta-Lake/3.1.0|\n",
      "|27     |2024-04-16 22:29:43.227|NULL  |NULL    |WRITE    |{mode -> Overwrite, partitionBy -> []}|NULL|NULL    |NULL     |26         |Serializable  |false        |{numFiles -> 1, numOutputRows -> 19, numOutputBytes -> 609}|NULL        |Apache-Spark/3.5.1 Delta-Lake/3.1.0|\n",
      "|26     |2024-04-16 22:29:40.873|NULL  |NULL    |WRITE    |{mode -> Overwrite, partitionBy -> []}|NULL|NULL    |NULL     |25         |Serializable  |false        |{numFiles -> 1, numOutputRows -> 19, numOutputBytes -> 609}|NULL        |Apache-Spark/3.5.1 Delta-Lake/3.1.0|\n",
      "|25     |2024-04-16 22:29:38.584|NULL  |NULL    |WRITE    |{mode -> Overwrite, partitionBy -> []}|NULL|NULL    |NULL     |24         |Serializable  |false        |{numFiles -> 1, numOutputRows -> 19, numOutputBytes -> 609}|NULL        |Apache-Spark/3.5.1 Delta-Lake/3.1.0|\n",
      "|24     |2024-04-16 22:29:35.795|NULL  |NULL    |WRITE    |{mode -> Overwrite, partitionBy -> []}|NULL|NULL    |NULL     |23         |Serializable  |false        |{numFiles -> 1, numOutputRows -> 19, numOutputBytes -> 609}|NULL        |Apache-Spark/3.5.1 Delta-Lake/3.1.0|\n",
      "|23     |2024-04-16 22:29:32.814|NULL  |NULL    |WRITE    |{mode -> Overwrite, partitionBy -> []}|NULL|NULL    |NULL     |22         |Serializable  |false        |{numFiles -> 1, numOutputRows -> 19, numOutputBytes -> 609}|NULL        |Apache-Spark/3.5.1 Delta-Lake/3.1.0|\n",
      "|22     |2024-04-16 22:29:30.124|NULL  |NULL    |WRITE    |{mode -> Overwrite, partitionBy -> []}|NULL|NULL    |NULL     |21         |Serializable  |false        |{numFiles -> 1, numOutputRows -> 19, numOutputBytes -> 609}|NULL        |Apache-Spark/3.5.1 Delta-Lake/3.1.0|\n",
      "|21     |2024-04-16 22:29:27.602|NULL  |NULL    |WRITE    |{mode -> Overwrite, partitionBy -> []}|NULL|NULL    |NULL     |20         |Serializable  |false        |{numFiles -> 1, numOutputRows -> 19, numOutputBytes -> 609}|NULL        |Apache-Spark/3.5.1 Delta-Lake/3.1.0|\n",
      "|20     |2024-04-16 22:29:20.698|NULL  |NULL    |WRITE    |{mode -> Overwrite, partitionBy -> []}|NULL|NULL    |NULL     |19         |Serializable  |false        |{numFiles -> 1, numOutputRows -> 19, numOutputBytes -> 609}|NULL        |Apache-Spark/3.5.1 Delta-Lake/3.1.0|\n",
      "|19     |2024-04-16 22:29:18.439|NULL  |NULL    |WRITE    |{mode -> Overwrite, partitionBy -> []}|NULL|NULL    |NULL     |18         |Serializable  |false        |{numFiles -> 1, numOutputRows -> 19, numOutputBytes -> 609}|NULL        |Apache-Spark/3.5.1 Delta-Lake/3.1.0|\n",
      "|18     |2024-04-16 22:29:15.914|NULL  |NULL    |WRITE    |{mode -> Overwrite, partitionBy -> []}|NULL|NULL    |NULL     |17         |Serializable  |false        |{numFiles -> 1, numOutputRows -> 19, numOutputBytes -> 609}|NULL        |Apache-Spark/3.5.1 Delta-Lake/3.1.0|\n",
      "|17     |2024-04-16 22:29:12.558|NULL  |NULL    |WRITE    |{mode -> Overwrite, partitionBy -> []}|NULL|NULL    |NULL     |16         |Serializable  |false        |{numFiles -> 1, numOutputRows -> 19, numOutputBytes -> 609}|NULL        |Apache-Spark/3.5.1 Delta-Lake/3.1.0|\n",
      "|16     |2024-04-16 22:29:10.13 |NULL  |NULL    |WRITE    |{mode -> Overwrite, partitionBy -> []}|NULL|NULL    |NULL     |15         |Serializable  |false        |{numFiles -> 1, numOutputRows -> 19, numOutputBytes -> 609}|NULL        |Apache-Spark/3.5.1 Delta-Lake/3.1.0|\n",
      "|15     |2024-04-16 22:29:07.698|NULL  |NULL    |WRITE    |{mode -> Overwrite, partitionBy -> []}|NULL|NULL    |NULL     |14         |Serializable  |false        |{numFiles -> 1, numOutputRows -> 19, numOutputBytes -> 609}|NULL        |Apache-Spark/3.5.1 Delta-Lake/3.1.0|\n",
      "|14     |2024-04-16 22:29:05.308|NULL  |NULL    |WRITE    |{mode -> Overwrite, partitionBy -> []}|NULL|NULL    |NULL     |13         |Serializable  |false        |{numFiles -> 1, numOutputRows -> 19, numOutputBytes -> 609}|NULL        |Apache-Spark/3.5.1 Delta-Lake/3.1.0|\n",
      "|13     |2024-04-16 22:29:02.375|NULL  |NULL    |WRITE    |{mode -> Overwrite, partitionBy -> []}|NULL|NULL    |NULL     |12         |Serializable  |false        |{numFiles -> 1, numOutputRows -> 19, numOutputBytes -> 609}|NULL        |Apache-Spark/3.5.1 Delta-Lake/3.1.0|\n",
      "|12     |2024-04-16 22:29:00.174|NULL  |NULL    |WRITE    |{mode -> Overwrite, partitionBy -> []}|NULL|NULL    |NULL     |11         |Serializable  |false        |{numFiles -> 1, numOutputRows -> 19, numOutputBytes -> 609}|NULL        |Apache-Spark/3.5.1 Delta-Lake/3.1.0|\n",
      "+-------+-----------------------+------+--------+---------+--------------------------------------+----+--------+---------+-----------+--------------+-------------+-----------------------------------------------------------+------------+-----------------------------------+\n",
      "only showing top 20 rows\n",
      "\n"
     ]
    }
   ],
   "source": [
    "deltaTable = DeltaTable.forPath(spark, path_delta)\n",
    "deltaTable.history().show(20, False)"
   ]
  },
  {
   "cell_type": "markdown",
   "metadata": {},
   "source": [
    "# Checkpoint V2\n",
    "- Using sidecars"
   ]
  },
  {
   "cell_type": "code",
   "execution_count": 70,
   "metadata": {},
   "outputs": [],
   "source": [
    "path_delta = \"D:/Data/delta_test_v2\""
   ]
  },
  {
   "cell_type": "code",
   "execution_count": 71,
   "metadata": {},
   "outputs": [],
   "source": [
    "sdf = spark.range(start=1, end=25, numPartitions=1)\n",
    "sdf.write.format(\"delta\").mode(\"overwrite\").save(path_delta)"
   ]
  },
  {
   "cell_type": "code",
   "execution_count": 72,
   "metadata": {},
   "outputs": [
    {
     "data": {
      "text/plain": [
       "DataFrame[]"
      ]
     },
     "execution_count": 72,
     "metadata": {},
     "output_type": "execute_result"
    }
   ],
   "source": [
    "spark.sql(f\"ALTER TABLE delta.`{path_delta}` SET TBLPROPERTIES ('delta.checkpointPolicy'='v2')\")"
   ]
  },
  {
   "cell_type": "code",
   "execution_count": 74,
   "metadata": {},
   "outputs": [],
   "source": [
    "for i in range(0,20):\n",
    "    sdf = spark.range(start=1, end=20, numPartitions=1)\n",
    "    sdf.write.format(\"delta\").mode(\"overwrite\").save(path_delta)"
   ]
  },
  {
   "cell_type": "code",
   "execution_count": null,
   "metadata": {},
   "outputs": [],
   "source": []
  }
 ],
 "metadata": {
  "kernelspec": {
   "display_name": "pyspark",
   "language": "python",
   "name": "python3"
  },
  "language_info": {
   "codemirror_mode": {
    "name": "ipython",
    "version": 3
   },
   "file_extension": ".py",
   "mimetype": "text/x-python",
   "name": "python",
   "nbconvert_exporter": "python",
   "pygments_lexer": "ipython3",
   "version": "3.10.13"
  }
 },
 "nbformat": 4,
 "nbformat_minor": 2
}
