{
 "cells": [
  {
   "cell_type": "markdown",
   "metadata": {},
   "source": [
    "# Today's topic: Spark Repartition - How it works and how to screw it up"
   ]
  },
  {
   "cell_type": "markdown",
   "metadata": {},
   "source": [
    "# 0. Set-Ups\n",
    "\n",
    "General hints for this notebook:\n",
    "- Spark UI usually accesible by http://localhost:4040/ or http://localhost:4041/\n",
    "- Deep dive Spark UI happens in later episodes\n",
    "- sc.setJobDescription(\"Description\") replaces the Job Description of an action in the Spark UI with your own\n",
    "- sdf.rdd.getNumPartitions() returns the number partitions of the current Spark DataFrame\n",
    "- sdf.write.format(\"noop\").mode(\"overwrite\").save() is a good way to analyze and initiate actions for transformations without side effects during an actual write"
   ]
  },
  {
   "cell_type": "code",
   "execution_count": 2,
   "metadata": {},
   "outputs": [],
   "source": [
    "from pyspark.sql import SparkSession\n",
    "from pyspark.sql import functions as f\n",
    "import pyspark"
   ]
  },
  {
   "cell_type": "code",
   "execution_count": 3,
   "metadata": {},
   "outputs": [],
   "source": [
    "spark = SparkSession \\\n",
    "    .builder \\\n",
    "    .appName(\"Data with Nikk the Greek Spark Session\") \\\n",
    "    .master(\"local[4]\") \\\n",
    "    .enableHiveSupport() \\\n",
    "    .getOrCreate()\n",
    "\n",
    "sc = spark.sparkContext"
   ]
  },
  {
   "cell_type": "code",
   "execution_count": 4,
   "metadata": {},
   "outputs": [],
   "source": [
    "#Turning off AQE as it generates more jobs which might be confusing for this scenario here. \n",
    "spark.conf.set(\"spark.sql.adaptive.enabled\", \"false\")\n",
    "#to not cache datafrimes... this may not create repeatable results\n",
    "spark.conf.set(\"spark.databricks.io.cache.enabled\", \"false\")"
   ]
  },
  {
   "cell_type": "code",
   "execution_count": 5,
   "metadata": {},
   "outputs": [],
   "source": [
    "def sdf_generator(num_rows: int, num_partitions: int = None) -> \"DataFrame\":\n",
    "    return (\n",
    "        spark.range(num_rows, numPartitions=num_partitions)\n",
    "        .withColumn(\"date\", f.current_date())\n",
    "        .withColumn(\"timestamp\",f.current_timestamp())\n",
    "        .withColumn(\"idstring\", f.col(\"id\").cast(\"string\"))\n",
    "        .withColumn(\"idfirst\", f.col(\"idstring\").substr(0,1))\n",
    "        .withColumn(\"idlast\", f.col(\"idstring\").substr(-1,1))\n",
    "        .withColumn(\"idfirsttwo\", f.col(\"idstring\").substr(0,2))\n",
    "        )"
   ]
  },
  {
   "cell_type": "code",
   "execution_count": 6,
   "metadata": {},
   "outputs": [
    {
     "name": "stdout",
     "output_type": "stream",
     "text": [
      "+---+----------+--------------------+--------+-------+------+----------+\n",
      "| id|      date|           timestamp|idstring|idfirst|idlast|idfirsttwo|\n",
      "+---+----------+--------------------+--------+-------+------+----------+\n",
      "|  0|2024-01-30|2024-01-30 05:56:...|       0|      0|     0|         0|\n",
      "|  1|2024-01-30|2024-01-30 05:56:...|       1|      1|     1|         1|\n",
      "|  2|2024-01-30|2024-01-30 05:56:...|       2|      2|     2|         2|\n",
      "|  3|2024-01-30|2024-01-30 05:56:...|       3|      3|     3|         3|\n",
      "|  4|2024-01-30|2024-01-30 05:56:...|       4|      4|     4|         4|\n",
      "|  5|2024-01-30|2024-01-30 05:56:...|       5|      5|     5|         5|\n",
      "|  6|2024-01-30|2024-01-30 05:56:...|       6|      6|     6|         6|\n",
      "|  7|2024-01-30|2024-01-30 05:56:...|       7|      7|     7|         7|\n",
      "|  8|2024-01-30|2024-01-30 05:56:...|       8|      8|     8|         8|\n",
      "|  9|2024-01-30|2024-01-30 05:56:...|       9|      9|     9|         9|\n",
      "+---+----------+--------------------+--------+-------+------+----------+\n",
      "\n"
     ]
    }
   ],
   "source": [
    "sdf = sdf_generator(10, 4)\n",
    "sdf.show()"
   ]
  },
  {
   "cell_type": "code",
   "execution_count": 16,
   "metadata": {},
   "outputs": [],
   "source": [
    "def rows_per_partition(sdf: \"DataFrame\") -> None:\n",
    "    num_rows = sdf.count()\n",
    "    sdf_part = sdf.withColumn(\"partition_id\", f.spark_partition_id())\n",
    "    sdf_part_count = sdf_part.groupBy(\"partition_id\").count()\n",
    "    sdf_part_count = sdf_part_count.withColumn(\"count_perc\", 100*f.col(\"count\")/num_rows)\n",
    "    sdf_part_count.orderBy(\"partition_id\")\n",
    "    sdf_part_count.show()\n",
    "    return sdf_part_count"
   ]
  },
  {
   "cell_type": "code",
   "execution_count": 17,
   "metadata": {},
   "outputs": [],
   "source": [
    "def rows_per_partition_col(sdf: \"DataFrame\", col: str) -> None:\n",
    "    num_rows = sdf.count()\n",
    "    sdf_part = sdf.withColumn(\"partition_id\", f.spark_partition_id())\n",
    "    sdf_part_count = sdf_part.groupBy(\"partition_id\", col).count()\n",
    "    sdf_part_count = sdf_part_count.withColumn(\"count_perc\", 100*f.col(\"count\")/num_rows)\n",
    "    sdf_part_count = sdf_part_count.orderBy(\"partition_id\", col)\n",
    "    sdf_part_count.show()\n",
    "    return sdf_part_count\n"
   ]
  },
  {
   "cell_type": "markdown",
   "metadata": {},
   "source": [
    "# 1 - How repartitioning works\n",
    "- Documentation: https://spark.apache.org/docs/latest/api/python/reference/pyspark.sql/api/pyspark.sql.DataFrame.repartition.html#pyspark.sql.DataFrame.repartition\n",
    "- Repartition allows to increase and decrease the number of partitions\n",
    "- Repartition requires shuffling data which can be more unefficient than Coalesce\n",
    "- On the other hand it creates uniform distributions unlike coalesce which only unions partions together\n",
    "- Instead of partition based on the number of partitions you can partition based on a column. This uses Hash Partitioning instead of Round Robin\n",
    "- If no number of partitions is defined the default value depends on spark.sql.shuffle.partitions which defaults to 200 (important later when evaluating wide transformations in later episodes)\n",
    "\n",
    "https://stackoverflow.com/questions/65809909/spark-what-is-the-difference-between-repartition-and-repartitionbyrange"
   ]
  },
  {
   "cell_type": "markdown",
   "metadata": {},
   "source": [
    "# 2 - Round Robin Shuffling"
   ]
  },
  {
   "cell_type": "code",
   "execution_count": 18,
   "metadata": {},
   "outputs": [],
   "source": [
    "sdf = sdf_generator(20, 4)"
   ]
  },
  {
   "cell_type": "code",
   "execution_count": 24,
   "metadata": {},
   "outputs": [
    {
     "name": "stdout",
     "output_type": "stream",
     "text": [
      "+---+----------+--------------------+--------+-------+------+----------+-------------------+\n",
      "| id|      date|           timestamp|idstring|idfirst|idlast|idfirsttwo|partition_id_before|\n",
      "+---+----------+--------------------+--------+-------+------+----------+-------------------+\n",
      "|  0|2024-01-30|2024-01-30 06:21:...|       0|      0|     0|         0|                  0|\n",
      "|  1|2024-01-30|2024-01-30 06:21:...|       1|      1|     1|         1|                  0|\n",
      "|  2|2024-01-30|2024-01-30 06:21:...|       2|      2|     2|         2|                  0|\n",
      "|  3|2024-01-30|2024-01-30 06:21:...|       3|      3|     3|         3|                  0|\n",
      "|  4|2024-01-30|2024-01-30 06:21:...|       4|      4|     4|         4|                  0|\n",
      "|  5|2024-01-30|2024-01-30 06:21:...|       5|      5|     5|         5|                  1|\n",
      "|  6|2024-01-30|2024-01-30 06:21:...|       6|      6|     6|         6|                  1|\n",
      "|  7|2024-01-30|2024-01-30 06:21:...|       7|      7|     7|         7|                  1|\n",
      "|  8|2024-01-30|2024-01-30 06:21:...|       8|      8|     8|         8|                  1|\n",
      "|  9|2024-01-30|2024-01-30 06:21:...|       9|      9|     9|         9|                  1|\n",
      "| 10|2024-01-30|2024-01-30 06:21:...|      10|      1|     0|        10|                  2|\n",
      "| 11|2024-01-30|2024-01-30 06:21:...|      11|      1|     1|        11|                  2|\n",
      "| 12|2024-01-30|2024-01-30 06:21:...|      12|      1|     2|        12|                  2|\n",
      "| 13|2024-01-30|2024-01-30 06:21:...|      13|      1|     3|        13|                  2|\n",
      "| 14|2024-01-30|2024-01-30 06:21:...|      14|      1|     4|        14|                  2|\n",
      "| 15|2024-01-30|2024-01-30 06:21:...|      15|      1|     5|        15|                  3|\n",
      "| 16|2024-01-30|2024-01-30 06:21:...|      16|      1|     6|        16|                  3|\n",
      "| 17|2024-01-30|2024-01-30 06:21:...|      17|      1|     7|        17|                  3|\n",
      "| 18|2024-01-30|2024-01-30 06:21:...|      18|      1|     8|        18|                  3|\n",
      "| 19|2024-01-30|2024-01-30 06:21:...|      19|      1|     9|        19|                  3|\n",
      "+---+----------+--------------------+--------+-------+------+----------+-------------------+\n",
      "\n"
     ]
    }
   ],
   "source": [
    "sdf_part = sdf.withColumn(\"partition_id_before\", f.spark_partition_id())\n",
    "sdf_part.show()"
   ]
  },
  {
   "cell_type": "code",
   "execution_count": 27,
   "metadata": {},
   "outputs": [
    {
     "name": "stdout",
     "output_type": "stream",
     "text": [
      "+---+----------+--------------------+--------+-------+------+----------+-------------------+------------+\n",
      "| id|      date|           timestamp|idstring|idfirst|idlast|idfirsttwo|partition_id_before|partition_id|\n",
      "+---+----------+--------------------+--------+-------+------+----------+-------------------+------------+\n",
      "|  4|2024-01-30|2024-01-30 06:23:...|       4|      4|     4|         4|                  0|           0|\n",
      "|  0|2024-01-30|2024-01-30 06:23:...|       0|      0|     0|         0|                  0|           1|\n",
      "|  3|2024-01-30|2024-01-30 06:23:...|       3|      3|     3|         3|                  0|           2|\n",
      "|  1|2024-01-30|2024-01-30 06:23:...|       1|      1|     1|         1|                  0|           3|\n",
      "|  2|2024-01-30|2024-01-30 06:23:...|       2|      2|     2|         2|                  0|           9|\n",
      "|  8|2024-01-30|2024-01-30 06:23:...|       8|      8|     8|         8|                  1|           4|\n",
      "|  5|2024-01-30|2024-01-30 06:23:...|       5|      5|     5|         5|                  1|           5|\n",
      "|  6|2024-01-30|2024-01-30 06:23:...|       6|      6|     6|         6|                  1|           6|\n",
      "|  7|2024-01-30|2024-01-30 06:23:...|       7|      7|     7|         7|                  1|           7|\n",
      "|  9|2024-01-30|2024-01-30 06:23:...|       9|      9|     9|         9|                  1|           8|\n",
      "| 14|2024-01-30|2024-01-30 06:23:...|      14|      1|     4|        14|                  2|           0|\n",
      "| 12|2024-01-30|2024-01-30 06:23:...|      12|      1|     2|        12|                  2|           1|\n",
      "| 10|2024-01-30|2024-01-30 06:23:...|      10|      1|     0|        10|                  2|           2|\n",
      "| 11|2024-01-30|2024-01-30 06:23:...|      11|      1|     1|        11|                  2|           3|\n",
      "| 13|2024-01-30|2024-01-30 06:23:...|      13|      1|     3|        13|                  2|           9|\n",
      "| 19|2024-01-30|2024-01-30 06:23:...|      19|      1|     9|        19|                  3|           0|\n",
      "| 18|2024-01-30|2024-01-30 06:23:...|      18|      1|     8|        18|                  3|           1|\n",
      "| 15|2024-01-30|2024-01-30 06:23:...|      15|      1|     5|        15|                  3|           2|\n",
      "| 16|2024-01-30|2024-01-30 06:23:...|      16|      1|     6|        16|                  3|           8|\n",
      "| 17|2024-01-30|2024-01-30 06:23:...|      17|      1|     7|        17|                  3|           9|\n",
      "+---+----------+--------------------+--------+-------+------+----------+-------------------+------------+\n",
      "\n"
     ]
    }
   ],
   "source": [
    "sdf_round = sdf_part.repartition(10)\n",
    "sdf_round = sdf_round.withColumn(\"partition_id\", f.spark_partition_id()).orderBy(\"partition_id_before\")\n",
    "sdf_round.show()\n"
   ]
  },
  {
   "cell_type": "markdown",
   "metadata": {},
   "source": [
    "# 3 - Hash Partitioning & Where it can screw you up"
   ]
  },
  {
   "cell_type": "code",
   "execution_count": null,
   "metadata": {},
   "outputs": [],
   "source": [
    "sdf1 = sdf.withColumn(\"hash\", f.hash(\"idstring\"))\n",
    "sdf1 = sdf1.withColumn(\"part\", f.abs(f.col(\"hash\") % 4))\n",
    "sdf1 = sdf1.orderBy(\"part\")\n",
    "sdf1.show()"
   ]
  },
  {
   "cell_type": "markdown",
   "metadata": {},
   "source": [
    "# 4 - Repartition by range\n",
    "\n",
    "- Documentation: https://spark.apache.org/docs/latest/api/python/reference/pyspark.sql/api/pyspark.sql.DataFrame.repartition.html#pyspark.sql.DataFrame.repartition"
   ]
  },
  {
   "cell_type": "markdown",
   "metadata": {},
   "source": []
  }
 ],
 "metadata": {
  "kernelspec": {
   "display_name": "pyspark-2.5.0",
   "language": "python",
   "name": "python3"
  },
  "language_info": {
   "codemirror_mode": {
    "name": "ipython",
    "version": 3
   },
   "file_extension": ".py",
   "mimetype": "text/x-python",
   "name": "python",
   "nbconvert_exporter": "python",
   "pygments_lexer": "ipython3",
   "version": "3.10.11"
  }
 },
 "nbformat": 4,
 "nbformat_minor": 2
}
