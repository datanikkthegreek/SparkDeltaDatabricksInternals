{
 "cells": [
  {
   "cell_type": "code",
   "execution_count": 1,
   "metadata": {},
   "outputs": [],
   "source": [
    "from pyspark.sql import SparkSession\n",
    "from pyspark.sql import functions as f\n",
    "from pyspark.sql import types as t\n",
    "import math"
   ]
  },
  {
   "cell_type": "code",
   "execution_count": 2,
   "metadata": {},
   "outputs": [
    {
     "data": {
      "text/plain": [
       "'\\nReference gresearch:\\n- Parquet files analysis: https://www.gresearch.com/blog/article/parquet-files-know-your-scaling-limits/\\n- GitHub Spark extension: https://github.com/G-Research/spark-extension\\n- Parquet methods: https://github.com/G-Research/spark-extension/tree/master/python/gresearch/spark/parquet\\n'"
      ]
     },
     "execution_count": 2,
     "metadata": {},
     "output_type": "execute_result"
    }
   ],
   "source": [
    "spark = SparkSession \\\n",
    "    .builder \\\n",
    "    .appName(\"Data with Nikk the Greek Spark Session\") \\\n",
    "    .master(\"local[4]\") \\\n",
    "    .enableHiveSupport() \\\n",
    "    .config(\"spark.jars.packages\", \"uk.co.gresearch.spark:spark-extension_2.12:2.11.0-3.5\") \\\n",
    "    .config(\"spark.jars.packages\", \"org.apache.spark:spark-avro_2.12:3.5.0\") \\\n",
    "    .getOrCreate()\n",
    "\n",
    "\"\"\"\n",
    "Reference gresearch:\n",
    "- Parquet files analysis: https://www.gresearch.com/blog/article/parquet-files-know-your-scaling-limits/\n",
    "- GitHub Spark extension: https://github.com/G-Research/spark-extension\n",
    "- Parquet methods: https://github.com/G-Research/spark-extension/tree/master/python/gresearch/spark/parquet\n",
    "\"\"\""
   ]
  },
  {
   "cell_type": "code",
   "execution_count": 3,
   "metadata": {},
   "outputs": [],
   "source": [
    "sc = spark.sparkContext"
   ]
  },
  {
   "cell_type": "code",
   "execution_count": 4,
   "metadata": {},
   "outputs": [],
   "source": [
    "#Turning off AQE as it generates more jobs which might be confusing for this scenario here. \n",
    "spark.conf.set(\"spark.sql.adaptive.enabled\", \"false\")\n",
    "#to not cache dataframes... this may not create repeatable results\n",
    "spark.conf.set(\"spark.databricks.io.cache.enabled\", \"false\")"
   ]
  },
  {
   "cell_type": "code",
   "execution_count": 5,
   "metadata": {},
   "outputs": [],
   "source": [
    "def sdf_generator(num_rows: int, num_partitions: int = None) -> \"DataFrame\":\n",
    "    return (\n",
    "        spark.range(num_rows, numPartitions=num_partitions)\n",
    "        .withColumn(\"date\", f.current_date())\n",
    "        .withColumn(\"timestamp\",f.current_timestamp())\n",
    "        .withColumn(\"idstring\", f.col(\"id\").cast(\"string\"))\n",
    "        .withColumn(\"idfirst\", f.col(\"idstring\").substr(0,1))\n",
    "        .withColumn(\"idlast\", f.col(\"idstring\").substr(-1,1))\n",
    "        )"
   ]
  },
  {
   "cell_type": "code",
   "execution_count": 6,
   "metadata": {},
   "outputs": [
    {
     "name": "stdout",
     "output_type": "stream",
     "text": [
      "+---+----------+--------------------+--------+-------+------+\n",
      "| id|      date|           timestamp|idstring|idfirst|idlast|\n",
      "+---+----------+--------------------+--------+-------+------+\n",
      "|  0|2024-03-21|2024-03-21 05:40:...|       0|      0|     0|\n",
      "|  1|2024-03-21|2024-03-21 05:40:...|       1|      1|     1|\n",
      "|  2|2024-03-21|2024-03-21 05:40:...|       2|      2|     2|\n",
      "|  3|2024-03-21|2024-03-21 05:40:...|       3|      3|     3|\n",
      "|  4|2024-03-21|2024-03-21 05:40:...|       4|      4|     4|\n",
      "|  5|2024-03-21|2024-03-21 05:40:...|       5|      5|     5|\n",
      "|  6|2024-03-21|2024-03-21 05:40:...|       6|      6|     6|\n",
      "|  7|2024-03-21|2024-03-21 05:40:...|       7|      7|     7|\n",
      "|  8|2024-03-21|2024-03-21 05:40:...|       8|      8|     8|\n",
      "|  9|2024-03-21|2024-03-21 05:40:...|       9|      9|     9|\n",
      "| 10|2024-03-21|2024-03-21 05:40:...|      10|      1|     0|\n",
      "| 11|2024-03-21|2024-03-21 05:40:...|      11|      1|     1|\n",
      "| 12|2024-03-21|2024-03-21 05:40:...|      12|      1|     2|\n",
      "| 13|2024-03-21|2024-03-21 05:40:...|      13|      1|     3|\n",
      "| 14|2024-03-21|2024-03-21 05:40:...|      14|      1|     4|\n",
      "| 15|2024-03-21|2024-03-21 05:40:...|      15|      1|     5|\n",
      "| 16|2024-03-21|2024-03-21 05:40:...|      16|      1|     6|\n",
      "| 17|2024-03-21|2024-03-21 05:40:...|      17|      1|     7|\n",
      "| 18|2024-03-21|2024-03-21 05:40:...|      18|      1|     8|\n",
      "| 19|2024-03-21|2024-03-21 05:40:...|      19|      1|     9|\n",
      "+---+----------+--------------------+--------+-------+------+\n",
      "only showing top 20 rows\n",
      "\n"
     ]
    }
   ],
   "source": [
    "sdf_large = sdf_generator(10000000, 8)\n",
    "sdf_small = sdf_generator(10000000, 100000)\n",
    "sdf_small.show()"
   ]
  },
  {
   "cell_type": "code",
   "execution_count": 7,
   "metadata": {},
   "outputs": [
    {
     "data": {
      "text/plain": [
       "DataFrame[id: bigint, date: date, timestamp: timestamp, idstring: string, idfirst: string, idlast: string]"
      ]
     },
     "execution_count": 7,
     "metadata": {},
     "output_type": "execute_result"
    }
   ],
   "source": [
    "sdf_small"
   ]
  },
  {
   "cell_type": "code",
   "execution_count": 8,
   "metadata": {},
   "outputs": [],
   "source": [
    "\n",
    "#https://vincent.doba.fr/posts/20211004_spark_data_description_language_for_defining_spark_schema/\n",
    "ddl_schema = \"id bigint, date date, timestamp timestamp, idstring string, idfirst string, idlast string\"\n",
    "\n",
    "spark_schema = t.StructType(\n",
    "    [\n",
    "        t.StructField('id', t.LongType(), True), \n",
    "        t.StructField('date', t.DateType(), True), \n",
    "        t.StructField('timestamp', t.TimestampType(), True), \n",
    "        t.StructField('idstring', t.StringType(), True), \n",
    "        t.StructField('idfirst', t.StringType(), True), \n",
    "        t.StructField('idlast', t.StringType(), True)\n",
    "    ]\n",
    ")"
   ]
  },
  {
   "cell_type": "markdown",
   "metadata": {},
   "source": [
    "# 1 - JSON"
   ]
  },
  {
   "cell_type": "markdown",
   "metadata": {},
   "source": [
    "## 1-1 Save JSON\n",
    "\n",
    "Results:\n",
    "- Write time: small 11 min; big 3 s\n",
    "- Data size: 1218 MB\n",
    "\n",
    "How it works: https://github.com/jerryshao/apache-spark/blob/master/sql/core/src/main/scala/org/apache/spark/sql/DataFrameReader.scala#L323\n",
    "https://spark.apache.org/docs/latest/sql-data-sources-json.html"
   ]
  },
  {
   "cell_type": "code",
   "execution_count": 9,
   "metadata": {},
   "outputs": [],
   "source": [
    "sc.setJobDescription(\"Save Json Small\")\n",
    "path_json_small = \"D:/Spark/Data/format_json_small.json\"\n",
    "#sdf_small.write.format(\"json\").mode(\"overwrite\").save(path_json_small)"
   ]
  },
  {
   "cell_type": "code",
   "execution_count": 10,
   "metadata": {},
   "outputs": [],
   "source": [
    "sc.setJobDescription(\"Save Json Large\")\n",
    "path_json_large = \"D:/Spark/Data/format_json_large.json\"\n",
    "#sdf_large.write.format(\"json\").mode(\"overwrite\").save(path_json_large)"
   ]
  },
  {
   "cell_type": "code",
   "execution_count": 11,
   "metadata": {},
   "outputs": [],
   "source": [
    "#set maxPartitions MB for a fair comparison of 8 partitions also during read \n",
    "maxPartitionsMB = 160\n",
    "maxPartitionsBytes = math.ceil(maxPartitionsMB*1024*1024)\n",
    "spark.conf.set(\"spark.sql.files.maxPartitionBytes\", str(maxPartitionsBytes)+\"b\")"
   ]
  },
  {
   "cell_type": "markdown",
   "metadata": {},
   "source": [
    "## 1-2 Load without schema\n",
    "\n",
    "Results:\n",
    "- Small:\n",
    "    - Listing leaf files and directories: 19 s\n",
    "    - Schema interference: 5,8 min\n",
    "    - Load data 1,3 min\n",
    "    - Total: 7,1 min\n",
    "- Big: \n",
    "    - Listing leaf files and directories: 0 s\n",
    "    - Schema interference: 2 s\n",
    "    - Load data 4 s\n",
    "    - Total: 6 s"
   ]
  },
  {
   "cell_type": "code",
   "execution_count": 12,
   "metadata": {},
   "outputs": [],
   "source": [
    "sc.setJobDescription(\"Load Json Small without schema\")\n",
    "sdf_json = spark.read.format(\"json\").load(path_json_small)\n",
    "sdf_json.write.format(\"noop\").mode(\"overwrite\").save()"
   ]
  },
  {
   "cell_type": "code",
   "execution_count": 13,
   "metadata": {},
   "outputs": [],
   "source": [
    "sc.setJobDescription(\"Load Json Large without schema\")\n",
    "sdf_json = spark.read.format(\"json\").load(path_json_large)\n",
    "sdf_json.write.format(\"noop\").mode(\"overwrite\").save()"
   ]
  },
  {
   "cell_type": "markdown",
   "metadata": {},
   "source": [
    "## 1-3 Load with Auto Schema\n",
    "\n",
    "Results:\n",
    "- Small:\n",
    "    - Load data 5,4 min\n",
    "- Big: \n",
    "    - Load data 4 s\n"
   ]
  },
  {
   "cell_type": "code",
   "execution_count": 14,
   "metadata": {},
   "outputs": [],
   "source": [
    "schema = \"id bigint, date string, timestamp string, idstring string, idfirst string, idlast string\"\n",
    "sc.setJobDescription(\"Load Json Small with auto schema\")\n",
    "sdf_json = spark.read.format(\"json\").schema(schema).load(path_json_small)\n",
    "sdf_json.write.format(\"noop\").mode(\"overwrite\").save()"
   ]
  },
  {
   "cell_type": "code",
   "execution_count": 15,
   "metadata": {},
   "outputs": [],
   "source": [
    "schema = \"id bigint, date string, timestamp string, idstring string, idfirst string, idlast string\"\n",
    "sc.setJobDescription(\"Load Json Large with auto schema\")\n",
    "sdf_json = spark.read.format(\"json\").schema(schema).load(path_json_large)\n",
    "sdf_json.write.format(\"noop\").mode(\"overwrite\").save()"
   ]
  },
  {
   "cell_type": "markdown",
   "metadata": {},
   "source": [
    "## 1-4 Load with Target Schema\n",
    "\n",
    "Results:\n",
    "- Small:\n",
    "    - Load data 5,7 min\n",
    "- Big: \n",
    "    - Load data 7 s"
   ]
  },
  {
   "cell_type": "code",
   "execution_count": 16,
   "metadata": {},
   "outputs": [],
   "source": [
    "schema = \"id bigint, date date, timestamp timestamp, idstring string, idfirst string, idlast string\"\n",
    "sc.setJobDescription(\"Load Json Small with target schema\")\n",
    "sdf_json = spark.read.format(\"json\").schema(schema).load(path_json_small)\n",
    "sdf_json.write.format(\"noop\").mode(\"overwrite\").save()"
   ]
  },
  {
   "cell_type": "code",
   "execution_count": 17,
   "metadata": {},
   "outputs": [],
   "source": [
    "schema = \"id bigint, date date, timestamp timestamp, idstring string, idfirst string, idlast string\"\n",
    "sc.setJobDescription(\"Load Json Large with target schema\")\n",
    "sdf_json = spark.read.format(\"json\").schema(schema).load(path_json_large)\n",
    "sdf_json.write.format(\"noop\").mode(\"overwrite\").save()"
   ]
  },
  {
   "cell_type": "markdown",
   "metadata": {},
   "source": [
    "# 2 - CSV with schema interference"
   ]
  },
  {
   "cell_type": "markdown",
   "metadata": {},
   "source": [
    "## 2-1 Save CSV\n",
    "\n",
    "Results:\n",
    "- Write time: small 8,3 min; big 3 s\n",
    "- Data size: small: 593 MB\n",
    "\n",
    "How it works: https://github.com/jerryshao/apache-spark/blob/master/sql/core/src/main/scala/org/apache/spark/sql/DataFrameReader.scala#L470\n",
    "https://spark.apache.org/docs/latest/sql-data-sources-csv.html"
   ]
  },
  {
   "cell_type": "code",
   "execution_count": 18,
   "metadata": {},
   "outputs": [],
   "source": [
    "sc.setJobDescription(\"Save CSV Small\")\n",
    "path_csv_small = \"D:/Spark/Data/format_csv_small.json\"\n",
    "#sdf_small.write.format(\"csv\").mode(\"overwrite\").save(path_csv_small)"
   ]
  },
  {
   "cell_type": "code",
   "execution_count": 19,
   "metadata": {},
   "outputs": [],
   "source": [
    "sc.setJobDescription(\"Save CSV Large\")\n",
    "path_csv_large = \"D:/Spark/Data/format_csv_large.json\"\n",
    "#sdf_large.write.format(\"csv\").mode(\"overwrite\").save(path_csv_large)"
   ]
  },
  {
   "cell_type": "code",
   "execution_count": 20,
   "metadata": {},
   "outputs": [],
   "source": [
    "#set maxPartitions MB for a fair comparison of 8 partitions also during read \n",
    "maxPartitionsMB = 80\n",
    "maxPartitionsBytes = math.ceil(maxPartitionsMB*1024*1024)\n",
    "spark.conf.set(\"spark.sql.files.maxPartitionBytes\", str(maxPartitionsBytes)+\"b\")"
   ]
  },
  {
   "cell_type": "markdown",
   "metadata": {},
   "source": [
    "## 2-2 Load without schema\n",
    "\n",
    "- Small:\n",
    "    - Listing leaf files and directories: 25 s\n",
    "    - Schema interference: 29 ms + 6,4 min\n",
    "    - Load data 36 s\n",
    "    - Total: 6,5 min\n",
    "- Big: \n",
    "    - Listing leaf files and directories: 0 s\n",
    "    - Schema interference: 26 ms + 6 s\n",
    "    - Load data 7 s\n",
    "    - Total: 14 s"
   ]
  },
  {
   "cell_type": "code",
   "execution_count": 21,
   "metadata": {},
   "outputs": [],
   "source": [
    "sc.setJobDescription(\"Load CSV Small without schema\")\n",
    "sdf_csv = spark.read.format(\"csv\").options(inferSchema=True, header=True).load(path_csv_small)\n",
    "sdf_csv.write.format(\"noop\").mode(\"overwrite\").save()"
   ]
  },
  {
   "cell_type": "code",
   "execution_count": 22,
   "metadata": {},
   "outputs": [],
   "source": [
    "sc.setJobDescription(\"Load CSV Large without schema\")\n",
    "sdf_csv = spark.read.format(\"csv\").options(inferSchema=True, header=True).load(path_csv_large)\n",
    "sdf_csv.write.format(\"noop\").mode(\"overwrite\").save()"
   ]
  },
  {
   "cell_type": "markdown",
   "metadata": {},
   "source": [
    "## 2-3 Load with Auto Schema\n",
    "\n",
    "- Small:\n",
    "    - Load data 36 s\n",
    "- Big: \n",
    "    - Load data 7 s\n"
   ]
  },
  {
   "cell_type": "code",
   "execution_count": 23,
   "metadata": {},
   "outputs": [],
   "source": [
    "schema = \"id int, date date, timestamp timestamp, idstring int, idfirst int, idlast int\"\n",
    "sc.setJobDescription(\"Load CSV Small with auto schema\")\n",
    "sdf_csv = spark.read.format(\"csv\").options(header=True).schema(schema).load(path_csv_small)\n",
    "sdf_csv.write.format(\"noop\").mode(\"overwrite\").save()"
   ]
  },
  {
   "cell_type": "code",
   "execution_count": 24,
   "metadata": {},
   "outputs": [],
   "source": [
    "schema = \"id int, date date, timestamp timestamp, idstring int, idfirst int, idlast int\"\n",
    "sc.setJobDescription(\"Load CSV Large with auto schema\")\n",
    "sdf_csv = spark.read.format(\"csv\").options(header=True).schema(schema).load(path_csv_large)\n",
    "sdf_csv.write.format(\"noop\").mode(\"overwrite\").save()"
   ]
  },
  {
   "cell_type": "markdown",
   "metadata": {},
   "source": [
    "## 2-4 Load with Target schema\n",
    "\n",
    "- Small:\n",
    "    - Load data 33 s\n",
    "- Big: \n",
    "    - Load data 7 s\n"
   ]
  },
  {
   "cell_type": "code",
   "execution_count": 25,
   "metadata": {},
   "outputs": [],
   "source": [
    "schema = \"id bigint, date date, timestamp timestamp, idstring string, idfirst string, idlast string\"\n",
    "sc.setJobDescription(\"Load CSV Small with target schema\")\n",
    "sdf_csv = spark.read.format(\"csv\").options(header=True).schema(schema).load(path_csv_small)\n",
    "sdf_csv.write.format(\"noop\").mode(\"overwrite\").save()"
   ]
  },
  {
   "cell_type": "code",
   "execution_count": 26,
   "metadata": {},
   "outputs": [],
   "source": [
    "schema = \"id bigint, date date, timestamp timestamp, idstring string, idfirst string, idlast string\"\n",
    "sc.setJobDescription(\"Load CSV Large with target schema\")\n",
    "sdf_csv = spark.read.format(\"csv\").options(header=True).schema(schema).load(path_csv_large)\n",
    "sdf_csv.write.format(\"noop\").mode(\"overwrite\").save()"
   ]
  },
  {
   "cell_type": "markdown",
   "metadata": {},
   "source": [
    "# 3 - Parquet"
   ]
  },
  {
   "cell_type": "markdown",
   "metadata": {},
   "source": [
    "## 3-1 Save Parquet\n",
    "\n",
    "Results:\n",
    "- Write time: small 9,3 min; big 2 s\n",
    "- Data size: 81.5 MB\n",
    "\n",
    "How it works: https://spark.apache.org/docs/latest/sql-data-sources-parquet.html"
   ]
  },
  {
   "cell_type": "code",
   "execution_count": 27,
   "metadata": {},
   "outputs": [],
   "source": [
    "sc.setJobDescription(\"Save Parquet Small\")\n",
    "path_parquet_small = \"D:/Spark/Data/format_parquet_small.parquet\"\n",
    "#sdf_small.write.format(\"parquet\").mode(\"overwrite\").save(path_parquet_small)"
   ]
  },
  {
   "cell_type": "code",
   "execution_count": 28,
   "metadata": {},
   "outputs": [],
   "source": [
    "sc.setJobDescription(\"Save Parquet Lrge\")\n",
    "path_parquet_large = \"D:/Spark/Data/format_parquet_large.parquet\"\n",
    "#sdf_large.write.format(\"parquet\").mode(\"overwrite\").save(path_parquet_large)"
   ]
  },
  {
   "cell_type": "code",
   "execution_count": 29,
   "metadata": {},
   "outputs": [],
   "source": [
    "#set maxPartitions MB for a fair comparison of 8 partitions also during read \n",
    "maxPartitionsMB = 15\n",
    "maxPartitionsBytes = math.ceil(maxPartitionsMB*1024*1024)\n",
    "spark.conf.set(\"spark.sql.files.maxPartitionBytes\", str(maxPartitionsBytes)+\"b\")"
   ]
  },
  {
   "cell_type": "markdown",
   "metadata": {},
   "source": [
    "## 3-2 Load without schema\n",
    "\n",
    "- Small:\n",
    "    - Schema interference: 71 ms\n",
    "    - Load data 5,6 min\n",
    "    - Total: 5,6 min\n",
    "- Big: \n",
    "    - Schema interference: 50 ms\n",
    "    - Load data 1 s\n",
    "    - Total: 1 s"
   ]
  },
  {
   "cell_type": "code",
   "execution_count": 30,
   "metadata": {},
   "outputs": [],
   "source": [
    "sc.setJobDescription(\"Load Parquet Small without schema\")\n",
    "sdf_parquet = spark.read.format(\"parquet\").load(path_parquet_small)\n",
    "sdf_parquet.write.format(\"noop\").mode(\"overwrite\").save()"
   ]
  },
  {
   "cell_type": "code",
   "execution_count": 31,
   "metadata": {},
   "outputs": [],
   "source": [
    "sc.setJobDescription(\"Load Parquet Large without schema\")\n",
    "sdf_parquet = spark.read.format(\"parquet\").load(path_parquet_large)\n",
    "sdf_parquet.write.format(\"noop\").mode(\"overwrite\").save()"
   ]
  },
  {
   "cell_type": "markdown",
   "metadata": {},
   "source": [
    "## 3-3 Load with Schema\n",
    "\n",
    "- Small:\n",
    "    - Load data 4,7 min\n",
    "- Big: \n",
    "    - Load data 0,9 s\n"
   ]
  },
  {
   "cell_type": "code",
   "execution_count": 32,
   "metadata": {},
   "outputs": [],
   "source": [
    "sdf_schema = \"id bigint, date date, timestamp timestamp, idstring string, idfirst string, idlast string\"\n",
    "sc.setJobDescription(\"Load Parquet Small with schema\")\n",
    "sdf_parquet = spark.read.format(\"parquet\").schema(sdf_schema).load(path_parquet_small)\n",
    "sdf_parquet.write.format(\"noop\").mode(\"overwrite\").save()"
   ]
  },
  {
   "cell_type": "code",
   "execution_count": 33,
   "metadata": {},
   "outputs": [],
   "source": [
    "sdf_schema = \"id bigint, date date, timestamp timestamp, idstring string, idfirst string, idlast string\"\n",
    "sc.setJobDescription(\"Load Parquet Large with schema\")\n",
    "sdf_parquet = spark.read.format(\"parquet\").schema(sdf_schema).load(path_parquet_large)\n",
    "sdf_parquet.write.format(\"noop\").mode(\"overwrite\").save()"
   ]
  },
  {
   "cell_type": "markdown",
   "metadata": {},
   "source": [
    "# 4 - Avro"
   ]
  },
  {
   "cell_type": "markdown",
   "metadata": {},
   "source": [
    "## 4-1 Save AVRO\n",
    "\n",
    "Results:\n",
    "- Write time: small 27 min; big 1 s\n",
    "- Data size: 69.2 MB\n",
    "\n",
    "How it works: https://spark.apache.org/docs/latest/sql-data-sources-avro.html"
   ]
  },
  {
   "cell_type": "code",
   "execution_count": 34,
   "metadata": {},
   "outputs": [],
   "source": [
    "sc.setJobDescription(\"Save Avro Small\")\n",
    "path_avro_small = \"D:/Spark/Data/format_avro_small.avro\"\n",
    "#sdf_small.write.format(\"avro\").mode(\"overwrite\").save(path_avro_small)"
   ]
  },
  {
   "cell_type": "code",
   "execution_count": 35,
   "metadata": {},
   "outputs": [],
   "source": [
    "sc.setJobDescription(\"Save Avro Large\")\n",
    "path_avro_large = \"D:/Spark/Data/format_avro_large.avro\"\n",
    "#sdf_large.write.format(\"avro\").mode(\"overwrite\").save(path_avro_large)"
   ]
  },
  {
   "cell_type": "code",
   "execution_count": 36,
   "metadata": {},
   "outputs": [],
   "source": [
    "#set maxPartitions MB for a fair comparison of 8 partitions also during read \n",
    "maxPartitionsMB = 10\n",
    "maxPartitionsBytes = math.ceil(maxPartitionsMB*1024*1024)\n",
    "spark.conf.set(\"spark.sql.files.maxPartitionBytes\", str(maxPartitionsBytes)+\"b\")"
   ]
  },
  {
   "cell_type": "markdown",
   "metadata": {},
   "source": [
    "## 4-2 Load without schema\n",
    "\n",
    "- Small:\n",
    "    - Load data 7,1 min\n",
    "- Big: \n",
    "    - Load data 8 s\n"
   ]
  },
  {
   "cell_type": "code",
   "execution_count": 37,
   "metadata": {},
   "outputs": [],
   "source": [
    "sc.setJobDescription(\"Load Avro Small without schema\")\n",
    "sdf_avro = spark.read.format(\"avro\").load(path_avro_small)\n",
    "sdf_avro.write.format(\"noop\").mode(\"overwrite\").save()"
   ]
  },
  {
   "cell_type": "code",
   "execution_count": 38,
   "metadata": {},
   "outputs": [],
   "source": [
    "sc.setJobDescription(\"Load Avro Large without schema\")\n",
    "sdf_avro = spark.read.format(\"avro\").load(path_avro_large)\n",
    "sdf_avro.write.format(\"noop\").mode(\"overwrite\").save()"
   ]
  },
  {
   "cell_type": "markdown",
   "metadata": {},
   "source": [
    "## 4-3 Load with schema\n",
    "\n",
    "- Small:\n",
    "    - Load data 3,9 min\n",
    "- Big: \n",
    "    - Load data 2 s"
   ]
  },
  {
   "cell_type": "code",
   "execution_count": 39,
   "metadata": {},
   "outputs": [],
   "source": [
    "sdf_schema = \"id bigint, date date, timestamp timestamp, idstring string, idfirst string, idlast string\"\n",
    "sc.setJobDescription(\"Load Avro Small with Schema\")\n",
    "sdf_avro = spark.read.format(\"avro\").schema(sdf_schema).load(path_avro_small)\n",
    "sdf_avro.write.format(\"noop\").mode(\"overwrite\").save()"
   ]
  },
  {
   "cell_type": "code",
   "execution_count": 40,
   "metadata": {},
   "outputs": [],
   "source": [
    "sdf_schema = \"id bigint, date date, timestamp timestamp, idstring string, idfirst string, idlast string\"\n",
    "sc.setJobDescription(\"Load Avro Large with Schema\")\n",
    "sdf_avro = spark.read.format(\"avro\").schema(sdf_schema).load(path_avro_large)\n",
    "sdf_avro.write.format(\"noop\").mode(\"overwrite\").save()"
   ]
  },
  {
   "cell_type": "code",
   "execution_count": null,
   "metadata": {},
   "outputs": [],
   "source": []
  }
 ],
 "metadata": {
  "kernelspec": {
   "display_name": "pyspark",
   "language": "python",
   "name": "python3"
  },
  "language_info": {
   "codemirror_mode": {
    "name": "ipython",
    "version": 3
   },
   "file_extension": ".py",
   "mimetype": "text/x-python",
   "name": "python",
   "nbconvert_exporter": "python",
   "pygments_lexer": "ipython3",
   "version": "3.10.13"
  }
 },
 "nbformat": 4,
 "nbformat_minor": 2
}
