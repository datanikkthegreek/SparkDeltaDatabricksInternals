{
 "cells": [
  {
   "cell_type": "code",
   "execution_count": 1,
   "metadata": {},
   "outputs": [],
   "source": [
    "from pyspark.sql import SparkSession\n",
    "from pyspark.sql import functions as f\n",
    "from pyspark.sql import types as t\n",
    "import math"
   ]
  },
  {
   "cell_type": "code",
   "execution_count": 2,
   "metadata": {},
   "outputs": [
    {
     "data": {
      "text/plain": [
       "'\\nReference gresearch:\\n- Parquet files analysis: https://www.gresearch.com/blog/article/parquet-files-know-your-scaling-limits/\\n- GitHub Spark extension: https://github.com/G-Research/spark-extension\\n- Parquet methods: https://github.com/G-Research/spark-extension/tree/master/python/gresearch/spark/parquet\\n'"
      ]
     },
     "execution_count": 2,
     "metadata": {},
     "output_type": "execute_result"
    }
   ],
   "source": [
    "spark = SparkSession \\\n",
    "    .builder \\\n",
    "    .appName(\"Data with Nikk the Greek Spark Session\") \\\n",
    "    .master(\"local[4]\") \\\n",
    "    .enableHiveSupport() \\\n",
    "    .config(\"spark.jars.packages\", \"uk.co.gresearch.spark:spark-extension_2.12:2.11.0-3.5\") \\\n",
    "    .config(\"spark.jars.packages\", \"org.apache.spark:spark-avro_2.12:3.5.0\") \\\n",
    "    .getOrCreate()\n",
    "\n",
    "\"\"\"\n",
    "Reference gresearch:\n",
    "- Parquet files analysis: https://www.gresearch.com/blog/article/parquet-files-know-your-scaling-limits/\n",
    "- GitHub Spark extension: https://github.com/G-Research/spark-extension\n",
    "- Parquet methods: https://github.com/G-Research/spark-extension/tree/master/python/gresearch/spark/parquet\n",
    "\"\"\""
   ]
  },
  {
   "cell_type": "code",
   "execution_count": 3,
   "metadata": {},
   "outputs": [],
   "source": [
    "sc = spark.sparkContext"
   ]
  },
  {
   "cell_type": "code",
   "execution_count": 4,
   "metadata": {},
   "outputs": [],
   "source": [
    "#Turning off AQE as it generates more jobs which might be confusing for this scenario here. \n",
    "spark.conf.set(\"spark.sql.adaptive.enabled\", \"false\")\n",
    "#to not cache datafrimes... this may not create repeatable results\n",
    "spark.conf.set(\"spark.databricks.io.cache.enabled\", \"false\")"
   ]
  },
  {
   "cell_type": "code",
   "execution_count": 5,
   "metadata": {},
   "outputs": [],
   "source": [
    "def sdf_generator(num_rows: int, num_partitions: int = None) -> \"DataFrame\":\n",
    "    return (\n",
    "        spark.range(num_rows, numPartitions=num_partitions)\n",
    "        .withColumn(\"date\", f.current_date())\n",
    "        .withColumn(\"timestamp\",f.current_timestamp())\n",
    "        .withColumn(\"idstring\", f.col(\"id\").cast(\"string\"))\n",
    "        .withColumn(\"idfirst\", f.col(\"idstring\").substr(0,1))\n",
    "        .withColumn(\"idlast\", f.col(\"idstring\").substr(-1,1))\n",
    "        )"
   ]
  },
  {
   "cell_type": "code",
   "execution_count": 6,
   "metadata": {},
   "outputs": [
    {
     "name": "stdout",
     "output_type": "stream",
     "text": [
      "+---+----------+--------------------+--------+-------+------+\n",
      "| id|      date|           timestamp|idstring|idfirst|idlast|\n",
      "+---+----------+--------------------+--------+-------+------+\n",
      "|  0|2024-03-08|2024-03-08 21:38:...|       0|      0|     0|\n",
      "|  1|2024-03-08|2024-03-08 21:38:...|       1|      1|     1|\n",
      "|  2|2024-03-08|2024-03-08 21:38:...|       2|      2|     2|\n",
      "|  3|2024-03-08|2024-03-08 21:38:...|       3|      3|     3|\n",
      "|  4|2024-03-08|2024-03-08 21:38:...|       4|      4|     4|\n",
      "|  5|2024-03-08|2024-03-08 21:38:...|       5|      5|     5|\n",
      "|  6|2024-03-08|2024-03-08 21:38:...|       6|      6|     6|\n",
      "|  7|2024-03-08|2024-03-08 21:38:...|       7|      7|     7|\n",
      "|  8|2024-03-08|2024-03-08 21:38:...|       8|      8|     8|\n",
      "|  9|2024-03-08|2024-03-08 21:38:...|       9|      9|     9|\n",
      "| 10|2024-03-08|2024-03-08 21:38:...|      10|      1|     0|\n",
      "| 11|2024-03-08|2024-03-08 21:38:...|      11|      1|     1|\n",
      "| 12|2024-03-08|2024-03-08 21:38:...|      12|      1|     2|\n",
      "| 13|2024-03-08|2024-03-08 21:38:...|      13|      1|     3|\n",
      "| 14|2024-03-08|2024-03-08 21:38:...|      14|      1|     4|\n",
      "| 15|2024-03-08|2024-03-08 21:38:...|      15|      1|     5|\n",
      "| 16|2024-03-08|2024-03-08 21:38:...|      16|      1|     6|\n",
      "| 17|2024-03-08|2024-03-08 21:38:...|      17|      1|     7|\n",
      "| 18|2024-03-08|2024-03-08 21:38:...|      18|      1|     8|\n",
      "| 19|2024-03-08|2024-03-08 21:38:...|      19|      1|     9|\n",
      "+---+----------+--------------------+--------+-------+------+\n",
      "only showing top 20 rows\n",
      "\n"
     ]
    }
   ],
   "source": [
    "sdf = sdf_generator(10000000, 8)\n",
    "sdf.show()"
   ]
  },
  {
   "cell_type": "code",
   "execution_count": 7,
   "metadata": {},
   "outputs": [],
   "source": [
    "\n",
    "#https://vincent.doba.fr/posts/20211004_spark_data_description_language_for_defining_spark_schema/\n",
    "ddl_schema = \"id bigint, date date, timestamp timestamp, idstring string, idfirst string, idlast string\""
   ]
  },
  {
   "cell_type": "markdown",
   "metadata": {},
   "source": [
    "# 1 - JSON"
   ]
  },
  {
   "cell_type": "markdown",
   "metadata": {},
   "source": [
    "## 1-1 Initial state JSON\n",
    "- Writing and reading json we default settings\n",
    "\n",
    "Results:\n",
    "- Write time: 6.6 s \n",
    "- Load time: 11.7 s\n",
    "- Data size: 1208 MB\n",
    "\n",
    "How it works: https://github.com/jerryshao/apache-spark/blob/master/sql/core/src/main/scala/org/apache/spark/sql/DataFrameReader.scala#L323\n",
    "https://spark.apache.org/docs/latest/sql-data-sources-json.html"
   ]
  },
  {
   "cell_type": "code",
   "execution_count": 8,
   "metadata": {},
   "outputs": [],
   "source": [
    "sc.setJobDescription(\"Save Json\")\n",
    "path_json = \"D:/Spark/Data/format_json.json\"\n",
    "sdf.write.format(\"json\").mode(\"overwrite\").save(path_json)"
   ]
  },
  {
   "cell_type": "code",
   "execution_count": 9,
   "metadata": {},
   "outputs": [],
   "source": [
    "#set maxPartitions MB for a fair comparison of 8 partitions also during read \n",
    "maxPartitionsMB = 160\n",
    "maxPartitionsBytes = math.ceil(maxPartitionsMB*1024*1024)\n",
    "spark.conf.set(\"spark.sql.files.maxPartitionBytes\", str(maxPartitionsBytes)+\"b\")"
   ]
  },
  {
   "cell_type": "code",
   "execution_count": 10,
   "metadata": {},
   "outputs": [],
   "source": [
    "sc.setJobDescription(\"Load Json without schema\")\n",
    "sdf_json = spark.read.format(\"json\").load(path_json)\n",
    "sdf_json.write.format(\"noop\").mode(\"overwrite\").save()"
   ]
  },
  {
   "cell_type": "code",
   "execution_count": 11,
   "metadata": {},
   "outputs": [
    {
     "data": {
      "text/plain": [
       "DataFrame[date: string, id: bigint, idfirst: string, idlast: string, idstring: string, timestamp: string]"
      ]
     },
     "execution_count": 11,
     "metadata": {},
     "output_type": "execute_result"
    }
   ],
   "source": [
    "sdf_json"
   ]
  },
  {
   "cell_type": "markdown",
   "metadata": {},
   "source": [
    "## 1-2 Load with Auto Schema\n",
    "- Use the schema of the loaded JSON Dataframe for loading the data and move to correct order\n",
    "\n",
    "Results:\n",
    "- Load time: 6.8 s"
   ]
  },
  {
   "cell_type": "code",
   "execution_count": 12,
   "metadata": {},
   "outputs": [],
   "source": [
    "schema = \"id bigint, date string, timestamp string, idstring string, idfirst string, idlast string\"\n",
    "sc.setJobDescription(\"Load Json with auto schema\")\n",
    "sdf_json = spark.read.format(\"json\").schema(schema).load(path_json)\n",
    "sdf_json.write.format(\"noop\").mode(\"overwrite\").save()"
   ]
  },
  {
   "cell_type": "code",
   "execution_count": 13,
   "metadata": {},
   "outputs": [
    {
     "data": {
      "text/plain": [
       "DataFrame[id: bigint, date: string, timestamp: string, idstring: string, idfirst: string, idlast: string]"
      ]
     },
     "execution_count": 13,
     "metadata": {},
     "output_type": "execute_result"
    }
   ],
   "source": [
    "sdf_json"
   ]
  },
  {
   "cell_type": "markdown",
   "metadata": {},
   "source": [
    "## 1-3 Cast output dataframe\n",
    "- When loading JSON the schema is not as expected as initially defined in the saved SDF\n",
    "- Let's additionally cast our dataframes with and without schema\n",
    "\n",
    "Results:\n",
    "- With manual casting without schema: 16.5 s\n",
    "- With manual casting with schema: 12.4 s\n"
   ]
  },
  {
   "cell_type": "code",
   "execution_count": 14,
   "metadata": {},
   "outputs": [],
   "source": [
    "sc.setJobDescription(\"Load Json without schema and manual casting\")\n",
    "sdf_json = spark.read.format(\"json\").load(path_json)\n",
    "sdf_json = sdf_json.withColumn(\"date\", f.col(\"date\").cast(\"date\"))\n",
    "sdf_json = sdf_json.withColumn(\"timestamp\", f.col(\"timestamp\").cast(\"timestamp\"))\n",
    "sdf_json = sdf_json.select(\"id\", \"date\", \"timestamp\",  \"idstring\", \"idfirst\", \"idlast\")\n",
    "sdf_json.write.format(\"noop\").mode(\"overwrite\").save()"
   ]
  },
  {
   "cell_type": "code",
   "execution_count": 15,
   "metadata": {},
   "outputs": [
    {
     "data": {
      "text/plain": [
       "DataFrame[id: bigint, date: date, timestamp: timestamp, idstring: string, idfirst: string, idlast: string]"
      ]
     },
     "execution_count": 15,
     "metadata": {},
     "output_type": "execute_result"
    }
   ],
   "source": [
    "sdf_json"
   ]
  },
  {
   "cell_type": "code",
   "execution_count": 16,
   "metadata": {},
   "outputs": [],
   "source": [
    "schema = \"id bigint, date string, timestamp string, idstring string, idfirst string, idlast string\"\n",
    "sc.setJobDescription(\"Load Json with auto schema and manual casting\")\n",
    "sdf_json = spark.read.format(\"json\").schema(schema).load(path_json)\n",
    "sdf_json = sdf_json.withColumn(\"date\", f.col(\"date\").cast(\"date\"))\n",
    "sdf_json = sdf_json.withColumn(\"timestamp\", f.col(\"timestamp\").cast(\"timestamp\"))\n",
    "sdf_json = sdf_json.select(\"id\", \"date\", \"timestamp\",  \"idstring\", \"idfirst\", \"idlast\")\n",
    "sdf_json.write.format(\"noop\").mode(\"overwrite\").save()"
   ]
  },
  {
   "cell_type": "code",
   "execution_count": 17,
   "metadata": {},
   "outputs": [
    {
     "data": {
      "text/plain": [
       "DataFrame[id: bigint, date: date, timestamp: timestamp, idstring: string, idfirst: string, idlast: string]"
      ]
     },
     "execution_count": 17,
     "metadata": {},
     "output_type": "execute_result"
    }
   ],
   "source": [
    "sdf_json"
   ]
  },
  {
   "cell_type": "markdown",
   "metadata": {},
   "source": [
    "## 1-4 Define expected Schema\n",
    "\n",
    "Results:\n",
    "- Load data: 13.4 s"
   ]
  },
  {
   "cell_type": "code",
   "execution_count": 20,
   "metadata": {},
   "outputs": [],
   "source": [
    "sdf_schema = \"id bigint, date date, timestamp timestamp, idstring string, idfirst string, idlast string\"\n",
    "sc.setJobDescription(\"Load Json with DataFrame schema\")\n",
    "sdf_json = spark.read.format(\"json\").schema(sdf_schema).load(path_json)\n",
    "sdf_json.write.format(\"noop\").mode(\"overwrite\").save()"
   ]
  },
  {
   "cell_type": "code",
   "execution_count": 21,
   "metadata": {},
   "outputs": [
    {
     "data": {
      "text/plain": [
       "DataFrame[id: bigint, date: date, timestamp: timestamp, idstring: string, idfirst: string, idlast: string]"
      ]
     },
     "execution_count": 21,
     "metadata": {},
     "output_type": "execute_result"
    }
   ],
   "source": [
    "sdf_json"
   ]
  },
  {
   "cell_type": "markdown",
   "metadata": {},
   "source": [
    "## 1-5 Save and load with Snappy compression\n",
    "\n",
    "Results:\n",
    "- Write time: 6.3 s \n",
    "- Load time default: 12.1 s\n",
    "- Load time with auto schema and casting: 12.3 s\n",
    "- Load time with sdf schema: 11.8 s\n",
    "- Data size: 130 MB"
   ]
  },
  {
   "cell_type": "code",
   "execution_count": 23,
   "metadata": {},
   "outputs": [],
   "source": [
    "sc.setJobDescription(\"Save Json Snappy\")\n",
    "path_json = \"D:/Spark/Data/format_json_snappy.json\"\n",
    "sdf.write.format(\"json\").option(\"compression\", \"snappy\").mode(\"overwrite\").save(path_json)"
   ]
  },
  {
   "cell_type": "code",
   "execution_count": 24,
   "metadata": {},
   "outputs": [],
   "source": [
    "#set maxPartitions MB for a fair comparison of 8 partitions also during read \n",
    "maxPartitionsMB = 21\n",
    "maxPartitionsBytes = math.ceil(maxPartitionsMB*1024*1024)\n",
    "spark.conf.set(\"spark.sql.files.maxPartitionBytes\", str(maxPartitionsBytes)+\"b\")"
   ]
  },
  {
   "cell_type": "code",
   "execution_count": 25,
   "metadata": {},
   "outputs": [],
   "source": [
    "sc.setJobDescription(\"Load Json without schema\")\n",
    "sdf_json = spark.read.format(\"json\").load(path_json)\n",
    "sdf_json.write.format(\"noop\").mode(\"overwrite\").save()"
   ]
  },
  {
   "cell_type": "code",
   "execution_count": null,
   "metadata": {},
   "outputs": [],
   "source": [
    "schema = \"id bigint, date string, timestamp string, idstring string, idfirst string, idlast string\"\n",
    "sc.setJobDescription(\"Load Json with auto schema and manual casting\")\n",
    "sdf_json = spark.read.format(\"json\").schema(schema).load(path_json)\n",
    "sdf_json = sdf_json.withColumn(\"date\", f.col(\"date\").cast(\"date\"))\n",
    "sdf_json = sdf_json.withColumn(\"timestamp\", f.col(\"timestamp\").cast(\"timestamp\"))\n",
    "sdf_json = sdf_json.select(\"id\", \"date\", \"timestamp\",  \"idstring\", \"idfirst\", \"idlast\")\n",
    "sdf_json.write.format(\"noop\").mode(\"overwrite\").save()"
   ]
  },
  {
   "cell_type": "code",
   "execution_count": 26,
   "metadata": {},
   "outputs": [],
   "source": [
    "sdf_schema = \"id bigint, date date, timestamp timestamp, idstring string, idfirst string, idlast string\"\n",
    "sc.setJobDescription(\"Load Json with DataFrame schema\")\n",
    "sdf_json = spark.read.format(\"json\").schema(sdf_schema).load(path_json)\n",
    "sdf_json.write.format(\"noop\").mode(\"overwrite\").save()"
   ]
  },
  {
   "cell_type": "markdown",
   "metadata": {},
   "source": [
    "## 1-2 - CSV\n",
    "- Write time: 6.2 s\n",
    "- Load time: 5.3 s\n",
    "- Data size: 593 MB\n",
    "\n",
    "How it works: https://github.com/jerryshao/apache-spark/blob/master/sql/core/src/main/scala/org/apache/spark/sql/DataFrameReader.scala#L470\n",
    "https://spark.apache.org/docs/latest/sql-data-sources-csv.html"
   ]
  },
  {
   "cell_type": "code",
   "execution_count": 7,
   "metadata": {},
   "outputs": [
    {
     "ename": "NameError",
     "evalue": "name 'sdf' is not defined",
     "output_type": "error",
     "traceback": [
      "\u001b[1;31m---------------------------------------------------------------------------\u001b[0m",
      "\u001b[1;31mNameError\u001b[0m                                 Traceback (most recent call last)",
      "Cell \u001b[1;32mIn[7], line 3\u001b[0m\n\u001b[0;32m      1\u001b[0m sc\u001b[38;5;241m.\u001b[39msetJobDescription(\u001b[38;5;124m\"\u001b[39m\u001b[38;5;124mSave CSV\u001b[39m\u001b[38;5;124m\"\u001b[39m)\n\u001b[0;32m      2\u001b[0m path_csv \u001b[38;5;241m=\u001b[39m \u001b[38;5;124m\"\u001b[39m\u001b[38;5;124mD:/Spark/Data/format_csv.csv\u001b[39m\u001b[38;5;124m\"\u001b[39m\n\u001b[1;32m----> 3\u001b[0m \u001b[43msdf\u001b[49m\u001b[38;5;241m.\u001b[39mwrite\u001b[38;5;241m.\u001b[39mformat(\u001b[38;5;124m\"\u001b[39m\u001b[38;5;124mcsv\u001b[39m\u001b[38;5;124m\"\u001b[39m)\u001b[38;5;241m.\u001b[39mmode(\u001b[38;5;124m\"\u001b[39m\u001b[38;5;124moverwrite\u001b[39m\u001b[38;5;124m\"\u001b[39m)\u001b[38;5;241m.\u001b[39moption(\u001b[38;5;124m\"\u001b[39m\u001b[38;5;124mheader\u001b[39m\u001b[38;5;124m\"\u001b[39m, \u001b[38;5;124m\"\u001b[39m\u001b[38;5;124mTrue\u001b[39m\u001b[38;5;124m\"\u001b[39m)\u001b[38;5;241m.\u001b[39msave(path_csv)\n",
      "\u001b[1;31mNameError\u001b[0m: name 'sdf' is not defined"
     ]
    }
   ],
   "source": [
    "sc.setJobDescription(\"Save CSV\")\n",
    "path_csv = \"D:/Spark/Data/format_csv.csv\"\n",
    "sdf.write.format(\"csv\").mode(\"overwrite\").option(\"header\", \"True\").save(path_csv)"
   ]
  },
  {
   "cell_type": "code",
   "execution_count": 5,
   "metadata": {},
   "outputs": [],
   "source": [
    "#set maxPartitions MB for a fair comparison of 8 partitions also during read \n",
    "maxPartitionsMB = 80\n",
    "maxPartitionsBytes = math.ceil(maxPartitionsMB*1024*1024)\n",
    "spark.conf.set(\"spark.sql.files.maxPartitionBytes\", str(maxPartitionsBytes)+\"b\")"
   ]
  },
  {
   "cell_type": "code",
   "execution_count": 10,
   "metadata": {},
   "outputs": [],
   "source": [
    "sc.setJobDescription(\"Load CSV without schema\")\n",
    "sdf_csv = spark.read.format(\"csv\").option(\"header\", \"True\").load(path_csv)\n",
    "sdf_csv.write.format(\"noop\").mode(\"overwrite\").save()"
   ]
  },
  {
   "cell_type": "code",
   "execution_count": 11,
   "metadata": {},
   "outputs": [
    {
     "data": {
      "text/plain": [
       "DataFrame[id: string, date: string, timestamp: string, idstring: string, idfirst: string, idlast: string]"
      ]
     },
     "execution_count": 11,
     "metadata": {},
     "output_type": "execute_result"
    }
   ],
   "source": [
    "sdf_csv"
   ]
  },
  {
   "cell_type": "code",
   "execution_count": 14,
   "metadata": {},
   "outputs": [],
   "source": [
    "ddl_schema_csv = \"id string, date string, timestamp string, idstring string, idfirst string, idlast string\"\n",
    "sc.setJobDescription(\"Load CSV with schema\")\n",
    "sdf_csv = spark.read.format(\"csv\").option(\"header\", \"True\").schema(ddl_schema_csv).load(path_csv)\n",
    "sdf_csv.write.format(\"noop\").mode(\"overwrite\").save()"
   ]
  },
  {
   "cell_type": "code",
   "execution_count": 15,
   "metadata": {},
   "outputs": [],
   "source": [
    "sc.setJobDescription(\"Load CSV with schema\")\n",
    "sdf_csv = spark.read.format(\"csv\").option(\"header\", \"True\").schema(ddl_schema).load(path_csv)\n",
    "sdf_csv.write.format(\"noop\").mode(\"overwrite\").save()"
   ]
  },
  {
   "cell_type": "markdown",
   "metadata": {},
   "source": [
    "## 1-2 - CSV infer schema load\n",
    "- Write time: 6.2 s\n",
    "- Load time: 23.5 s\n",
    "- Data size: 593 MB"
   ]
  },
  {
   "cell_type": "code",
   "execution_count": 16,
   "metadata": {},
   "outputs": [],
   "source": [
    "sc.setJobDescription(\"Load CSV with infer schema\")\n",
    "sdf_csv2 = spark.read.format(\"csv\").options(inferSchema=True, header=True).load(path_csv)\n",
    "sdf_csv2.write.format(\"noop\").mode(\"overwrite\").save()"
   ]
  },
  {
   "cell_type": "code",
   "execution_count": 17,
   "metadata": {},
   "outputs": [
    {
     "data": {
      "text/plain": [
       "DataFrame[id: int, date: date, timestamp: timestamp, idstring: int, idfirst: int, idlast: int]"
      ]
     },
     "execution_count": 17,
     "metadata": {},
     "output_type": "execute_result"
    }
   ],
   "source": [
    "sdf_csv2"
   ]
  },
  {
   "cell_type": "code",
   "execution_count": 18,
   "metadata": {},
   "outputs": [],
   "source": [
    "ddl_schema_csv2 = \"id int, date date, timestamp timestamp, idstring int, idfirst int, idlast int\"\n",
    "sc.setJobDescription(\"Load CSV with schema\")\n",
    "sdf_csv = spark.read.format(\"csv\").option(\"header\", \"True\").schema(ddl_schema_csv2).load(path_csv)\n",
    "sdf_csv.write.format(\"noop\").mode(\"overwrite\").save()"
   ]
  },
  {
   "cell_type": "markdown",
   "metadata": {},
   "source": [
    "## 1-3 - PARQUET\n",
    "- Write time: 5.4 s\n",
    "- Load time: 1.5 s\n",
    "- Data size: 81.5 MB\n",
    "\n",
    "How it works: https://spark.apache.org/docs/latest/sql-data-sources-parquet.html"
   ]
  },
  {
   "cell_type": "code",
   "execution_count": 19,
   "metadata": {},
   "outputs": [
    {
     "ename": "NameError",
     "evalue": "name 'sdf' is not defined",
     "output_type": "error",
     "traceback": [
      "\u001b[1;31m---------------------------------------------------------------------------\u001b[0m",
      "\u001b[1;31mNameError\u001b[0m                                 Traceback (most recent call last)",
      "Cell \u001b[1;32mIn[19], line 3\u001b[0m\n\u001b[0;32m      1\u001b[0m sc\u001b[38;5;241m.\u001b[39msetJobDescription(\u001b[38;5;124m\"\u001b[39m\u001b[38;5;124mSave Parquet\u001b[39m\u001b[38;5;124m\"\u001b[39m)\n\u001b[0;32m      2\u001b[0m path_parquet \u001b[38;5;241m=\u001b[39m \u001b[38;5;124m\"\u001b[39m\u001b[38;5;124mD:/Spark/Data/format_parquet.parquet\u001b[39m\u001b[38;5;124m\"\u001b[39m\n\u001b[1;32m----> 3\u001b[0m \u001b[43msdf\u001b[49m\u001b[38;5;241m.\u001b[39mwrite\u001b[38;5;241m.\u001b[39mformat(\u001b[38;5;124m\"\u001b[39m\u001b[38;5;124mparquet\u001b[39m\u001b[38;5;124m\"\u001b[39m)\u001b[38;5;241m.\u001b[39mmode(\u001b[38;5;124m\"\u001b[39m\u001b[38;5;124moverwrite\u001b[39m\u001b[38;5;124m\"\u001b[39m)\u001b[38;5;241m.\u001b[39msave(path_parquet)\n",
      "\u001b[1;31mNameError\u001b[0m: name 'sdf' is not defined"
     ]
    }
   ],
   "source": [
    "sc.setJobDescription(\"Save Parquet\")\n",
    "path_parquet = \"D:/Spark/Data/format_parquet.parquet\"\n",
    "sdf.write.format(\"parquet\").mode(\"overwrite\").save(path_parquet)"
   ]
  },
  {
   "cell_type": "code",
   "execution_count": 20,
   "metadata": {},
   "outputs": [],
   "source": [
    "#set maxPartitions MB for a fair comparison of 8 partitions also during read \n",
    "maxPartitionsMB = 15\n",
    "maxPartitionsBytes = math.ceil(maxPartitionsMB*1024*1024)\n",
    "spark.conf.set(\"spark.sql.files.maxPartitionBytes\", str(maxPartitionsBytes)+\"b\")"
   ]
  },
  {
   "cell_type": "code",
   "execution_count": 21,
   "metadata": {},
   "outputs": [],
   "source": [
    "sc.setJobDescription(\"Load Parquet without schema\")\n",
    "sdf_parquet = spark.read.format(\"parquet\").load(path_parquet)\n",
    "sdf_parquet.write.format(\"noop\").mode(\"overwrite\").save()"
   ]
  },
  {
   "cell_type": "code",
   "execution_count": 22,
   "metadata": {},
   "outputs": [],
   "source": [
    "sc.setJobDescription(\"Load Parquet with schema\")\n",
    "sdf_parquet = spark.read.format(\"parquet\").schema(ddl_schema).load(path_parquet)\n",
    "sdf_parquet.write.format(\"noop\").mode(\"overwrite\").save()"
   ]
  },
  {
   "cell_type": "markdown",
   "metadata": {},
   "source": [
    "## 1-4 - AVRO\n",
    "- Write time: 2.5 s\n",
    "- Load time: 2.3 s\n",
    "- Data size: 69.2 MB\n",
    "\n",
    "How it works: https://spark.apache.org/docs/latest/sql-data-sources-avro.html"
   ]
  },
  {
   "cell_type": "code",
   "execution_count": 23,
   "metadata": {},
   "outputs": [
    {
     "ename": "NameError",
     "evalue": "name 'sdf' is not defined",
     "output_type": "error",
     "traceback": [
      "\u001b[1;31m---------------------------------------------------------------------------\u001b[0m",
      "\u001b[1;31mNameError\u001b[0m                                 Traceback (most recent call last)",
      "Cell \u001b[1;32mIn[23], line 3\u001b[0m\n\u001b[0;32m      1\u001b[0m sc\u001b[38;5;241m.\u001b[39msetJobDescription(\u001b[38;5;124m\"\u001b[39m\u001b[38;5;124mSave Avro\u001b[39m\u001b[38;5;124m\"\u001b[39m)\n\u001b[0;32m      2\u001b[0m path_avro \u001b[38;5;241m=\u001b[39m \u001b[38;5;124m\"\u001b[39m\u001b[38;5;124mD:/Spark/Data/format_avro.avro\u001b[39m\u001b[38;5;124m\"\u001b[39m\n\u001b[1;32m----> 3\u001b[0m \u001b[43msdf\u001b[49m\u001b[38;5;241m.\u001b[39mwrite\u001b[38;5;241m.\u001b[39mformat(\u001b[38;5;124m\"\u001b[39m\u001b[38;5;124mavro\u001b[39m\u001b[38;5;124m\"\u001b[39m)\u001b[38;5;241m.\u001b[39mmode(\u001b[38;5;124m\"\u001b[39m\u001b[38;5;124moverwrite\u001b[39m\u001b[38;5;124m\"\u001b[39m)\u001b[38;5;241m.\u001b[39msave(path_avro)\n",
      "\u001b[1;31mNameError\u001b[0m: name 'sdf' is not defined"
     ]
    }
   ],
   "source": [
    "sc.setJobDescription(\"Save Avro\")\n",
    "path_avro = \"D:/Spark/Data/format_avro.avro\"\n",
    "sdf.write.format(\"avro\").mode(\"overwrite\").save(path_avro)"
   ]
  },
  {
   "cell_type": "code",
   "execution_count": 18,
   "metadata": {},
   "outputs": [],
   "source": [
    "#set maxPartitions MB for a fair comparison of 8 partitions also during read \n",
    "maxPartitionsMB = 10\n",
    "maxPartitionsBytes = math.ceil(maxPartitionsMB*1024*1024)\n",
    "spark.conf.set(\"spark.sql.files.maxPartitionBytes\", str(maxPartitionsBytes)+\"b\")"
   ]
  },
  {
   "cell_type": "code",
   "execution_count": 19,
   "metadata": {},
   "outputs": [],
   "source": [
    "sc.setJobDescription(\"Load Avro\")\n",
    "sdf_avro = spark.read.format(\"avro\").load(path_avro)\n",
    "sdf_avro.write.format(\"noop\").mode(\"overwrite\").save()"
   ]
  },
  {
   "cell_type": "code",
   "execution_count": null,
   "metadata": {},
   "outputs": [],
   "source": [
    "sc.setJobDescription(\"Load Avro\")\n",
    "sdf_avro = spark.read.format(\"avro\").schema(ddl_schema).load(path_avro)\n",
    "sdf_avro.write.format(\"noop\").mode(\"overwrite\").save()"
   ]
  },
  {
   "cell_type": "markdown",
   "metadata": {},
   "source": [
    "# Schema check\n",
    "\n",
    "ignoring columns, add empty columns with Null values"
   ]
  },
  {
   "cell_type": "code",
   "execution_count": 23,
   "metadata": {},
   "outputs": [
    {
     "data": {
      "text/plain": [
       "DataFrame[id: bigint, date: date, timestamp: timestamp, idstring: string, idfirst: string, idlast: string]"
      ]
     },
     "execution_count": 23,
     "metadata": {},
     "output_type": "execute_result"
    }
   ],
   "source": [
    "sdf"
   ]
  },
  {
   "cell_type": "code",
   "execution_count": 24,
   "metadata": {},
   "outputs": [
    {
     "data": {
      "text/plain": [
       "DataFrame[id: bigint, date: date, timestamp: timestamp, idstring: string, idfirst: string, idlast: string]"
      ]
     },
     "execution_count": 24,
     "metadata": {},
     "output_type": "execute_result"
    }
   ],
   "source": [
    "sdf_csv"
   ]
  },
  {
   "cell_type": "code",
   "execution_count": 25,
   "metadata": {},
   "outputs": [
    {
     "ename": "NameError",
     "evalue": "name 'sdf_csv2' is not defined",
     "output_type": "error",
     "traceback": [
      "\u001b[1;31m---------------------------------------------------------------------------\u001b[0m",
      "\u001b[1;31mNameError\u001b[0m                                 Traceback (most recent call last)",
      "Cell \u001b[1;32mIn[25], line 1\u001b[0m\n\u001b[1;32m----> 1\u001b[0m \u001b[43msdf_csv2\u001b[49m\n",
      "\u001b[1;31mNameError\u001b[0m: name 'sdf_csv2' is not defined"
     ]
    }
   ],
   "source": [
    "sdf_csv2"
   ]
  },
  {
   "cell_type": "code",
   "execution_count": 26,
   "metadata": {},
   "outputs": [
    {
     "data": {
      "text/plain": [
       "DataFrame[id: bigint, date: date, timestamp: timestamp, idstring: string, idfirst: string, idlast: string]"
      ]
     },
     "execution_count": 26,
     "metadata": {},
     "output_type": "execute_result"
    }
   ],
   "source": [
    "sdf_json"
   ]
  },
  {
   "cell_type": "code",
   "execution_count": 27,
   "metadata": {},
   "outputs": [
    {
     "data": {
      "text/plain": [
       "DataFrame[id: bigint, date: date, timestamp: timestamp, idstring: string, idfirst: string, idlast: string]"
      ]
     },
     "execution_count": 27,
     "metadata": {},
     "output_type": "execute_result"
    }
   ],
   "source": [
    "sdf_parquet"
   ]
  },
  {
   "cell_type": "code",
   "execution_count": 28,
   "metadata": {},
   "outputs": [
    {
     "ename": "NameError",
     "evalue": "name 'sdf_avro' is not defined",
     "output_type": "error",
     "traceback": [
      "\u001b[1;31m---------------------------------------------------------------------------\u001b[0m",
      "\u001b[1;31mNameError\u001b[0m                                 Traceback (most recent call last)",
      "Cell \u001b[1;32mIn[28], line 1\u001b[0m\n\u001b[1;32m----> 1\u001b[0m \u001b[43msdf_avro\u001b[49m\n",
      "\u001b[1;31mNameError\u001b[0m: name 'sdf_avro' is not defined"
     ]
    }
   ],
   "source": [
    "sdf_avro"
   ]
  },
  {
   "cell_type": "code",
   "execution_count": null,
   "metadata": {},
   "outputs": [],
   "source": []
  }
 ],
 "metadata": {
  "kernelspec": {
   "display_name": "pyspark",
   "language": "python",
   "name": "python3"
  },
  "language_info": {
   "codemirror_mode": {
    "name": "ipython",
    "version": 3
   },
   "file_extension": ".py",
   "mimetype": "text/x-python",
   "name": "python",
   "nbconvert_exporter": "python",
   "pygments_lexer": "ipython3",
   "version": "3.10.13"
  }
 },
 "nbformat": 4,
 "nbformat_minor": 2
}
