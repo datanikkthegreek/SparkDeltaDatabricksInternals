{
 "cells": [
  {
   "cell_type": "markdown",
   "metadata": {},
   "source": [
    "# Today's topic: Introducing Spark\n",
    "\n",
    "1. What is Spark?\n",
    "2. How does it behave compared to Python? (Query optimization, back to front, etc.), lazy, actions and transformations\n",
    "3. Example with Python show memory limitations and lazy execution\n",
    "5. How does the architecture look like, narrow and \n",
    "6. Example transformation (maybe next chaptor all together)"
   ]
  },
  {
   "cell_type": "code",
   "execution_count": null,
   "metadata": {},
   "outputs": [],
   "source": []
  }
 ],
 "metadata": {
  "language_info": {
   "name": "python"
  }
 },
 "nbformat": 4,
 "nbformat_minor": 2
}
