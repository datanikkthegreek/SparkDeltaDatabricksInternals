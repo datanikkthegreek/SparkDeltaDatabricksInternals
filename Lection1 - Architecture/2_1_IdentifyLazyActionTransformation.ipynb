{
 "cells": [
  {
   "cell_type": "markdown",
   "metadata": {},
   "source": [
    "# 0. Set-Ups"
   ]
  },
  {
   "cell_type": "code",
   "execution_count": 10,
   "metadata": {},
   "outputs": [],
   "source": [
    "from pyspark.sql import SparkSession\n",
    "from pyspark.sql import functions as f"
   ]
  },
  {
   "cell_type": "code",
   "execution_count": 11,
   "metadata": {},
   "outputs": [],
   "source": [
    "spark = SparkSession.builder.getOrCreate()\n",
    "sc = spark.sparkContext\n"
   ]
  },
  {
   "cell_type": "code",
   "execution_count": 12,
   "metadata": {},
   "outputs": [],
   "source": [
    "#Turning off AQE as it does some optimizations in the background and creates more jobs\n",
    "spark.conf.set(\"spark.sql.adapative.enabled\", \"false\")\n",
    "#If in databricks turn off Databricks IO chaching which would cache table and not create repeatable results\n",
    "spark.conf.set(\"spark.databricks.io.cache.enabled\", \"false\")"
   ]
  },
  {
   "cell_type": "code",
   "execution_count": 13,
   "metadata": {},
   "outputs": [],
   "source": [
    "#import os, sys\n",
    "#os.environ[\"PYSPARK_PYTHON\"] = sys.executable\n",
    "#os.environ[\"PYSPARK_DRIVER_PYTHON\"] = sys.executable"
   ]
  },
  {
   "cell_type": "code",
   "execution_count": 21,
   "metadata": {},
   "outputs": [],
   "source": [
    "d = [\n",
    "    {\"a\":\"a\", \"b\": 1},\n",
    "    {\"a\":\"b\", \"b\": 2},\n",
    "    {\"a\":\"c\", \"b\": 3},\n",
    "    {\"a\":\"d\", \"b\": 4},\n",
    "    {\"a\":\"e\", \"b\": 5},\n",
    "    {\"a\":\"e\", \"b\": 6},\n",
    "    {\"a\":\"f\", \"b\": 7},\n",
    "    {\"a\":\"g\", \"b\": 8},\n",
    "    {\"a\":\"h\", \"b\": 9},\n",
    "    {\"a\":\"i\", \"b\": 10},\n",
    "    {\"a\":\"j\", \"b\": 11},\n",
    "    {\"a\":\"k\", \"b\": 12},\n",
    "    {\"a\":\"a\", \"b\": 13},\n",
    "    {\"a\":\"b\", \"b\": 13},\n",
    "]\n",
    "ddl_schema = \"a string, b int\"\n",
    "sdf = spark.createDataFrame(d, schema=ddl_schema)"
   ]
  },
  {
   "cell_type": "markdown",
   "metadata": {},
   "source": [
    "# 1. Lazy Execution and actions"
   ]
  },
  {
   "cell_type": "code",
   "execution_count": 15,
   "metadata": {},
   "outputs": [],
   "source": [
    "sdf_exec = sdf.filter(f.col(\"b\") > 5)"
   ]
  },
  {
   "cell_type": "code",
   "execution_count": 16,
   "metadata": {},
   "outputs": [
    {
     "data": {
      "text/plain": [
       "7"
      ]
     },
     "execution_count": 16,
     "metadata": {},
     "output_type": "execute_result"
    }
   ],
   "source": [
    "sc.setJobDescription(\"LazyExecution\")\n",
    "sdf_exec.count()"
   ]
  },
  {
   "cell_type": "markdown",
   "metadata": {},
   "source": [
    "# 2. Noop Write"
   ]
  },
  {
   "cell_type": "code",
   "execution_count": null,
   "metadata": {},
   "outputs": [],
   "source": [
    "sc.setJobDescription(\"NoopWrite\")\n",
    "sdf.write.format(\"noop\").mode(\"overwrite\").save()"
   ]
  },
  {
   "cell_type": "markdown",
   "metadata": {},
   "source": [
    "# 3. Narrow transformation with noop write"
   ]
  },
  {
   "cell_type": "code",
   "execution_count": null,
   "metadata": {},
   "outputs": [],
   "source": [
    "sc.setJobDescription(\"FilterNoopWrite\")\n",
    "sdf_exec = sdf.filter(f.col(\"b\") > 5)\n",
    "sdf_exec.write.format(\"noop\").mode(\"overwrite\").save()"
   ]
  },
  {
   "cell_type": "markdown",
   "metadata": {},
   "source": [
    "# 4. Count"
   ]
  },
  {
   "cell_type": "code",
   "execution_count": null,
   "metadata": {},
   "outputs": [],
   "source": [
    "sc.setJobDescription(\"FilterCount\")\n",
    "sdf.count()"
   ]
  },
  {
   "cell_type": "markdown",
   "metadata": {},
   "source": [
    "# 5. Wide transformation"
   ]
  },
  {
   "cell_type": "code",
   "execution_count": 23,
   "metadata": {},
   "outputs": [
    {
     "name": "stdout",
     "output_type": "stream",
     "text": [
      "+---+---+\n",
      "|  a|sum|\n",
      "+---+---+\n",
      "|  b|  2|\n",
      "|  a|  2|\n",
      "|  d|  1|\n",
      "|  c|  1|\n",
      "|  e|  2|\n",
      "|  g|  1|\n",
      "|  f|  1|\n",
      "|  h|  1|\n",
      "|  i|  1|\n",
      "|  k|  1|\n",
      "|  j|  1|\n",
      "+---+---+\n",
      "\n"
     ]
    }
   ],
   "source": [
    "sdf_exec = sdf.groupBy(\"a\").agg(f.count(\"*\").alias(\"sum\"))\n",
    "sc.setJobDescription(\"WideNoop\")\n",
    "sdf_exec.write.format(\"noop\").mode(\"overwrite\").save()\n",
    "sc.setJobDescription(\"WideShow\")\n",
    "sdf_exec.show()"
   ]
  },
  {
   "cell_type": "markdown",
   "metadata": {},
   "source": [
    "# 6. Wide transformation with AQE"
   ]
  },
  {
   "cell_type": "code",
   "execution_count": 24,
   "metadata": {},
   "outputs": [],
   "source": [
    "spark.conf.set(\"spark.sql.adapative.enabled\", \"true\")"
   ]
  },
  {
   "cell_type": "code",
   "execution_count": 22,
   "metadata": {},
   "outputs": [
    {
     "data": {
      "text/plain": [
       "6"
      ]
     },
     "execution_count": 22,
     "metadata": {},
     "output_type": "execute_result"
    }
   ],
   "source": [
    "sdf_exec = sdf.groupBy(\"a\").agg(f.count(\"*\").alias(\"sum\"))\n",
    "sc.setJobDescription(\"WideAQENoop\")\n",
    "sdf_exec.write.format(\"noop\").mode(\"overwrite\").save()\n",
    "sc.setJobDescription(\"WideAQEShow\")\n",
    "sdf_exec.show()"
   ]
  }
 ],
 "metadata": {
  "kernelspec": {
   "display_name": "pyspark",
   "language": "python",
   "name": "python3"
  },
  "language_info": {
   "codemirror_mode": {
    "name": "ipython",
    "version": 3
   },
   "file_extension": ".py",
   "mimetype": "text/x-python",
   "name": "python",
   "nbconvert_exporter": "python",
   "pygments_lexer": "ipython3",
   "version": "3.10.13"
  }
 },
 "nbformat": 4,
 "nbformat_minor": 2
}
