{
 "cells": [
  {
   "cell_type": "code",
   "execution_count": 2,
   "metadata": {},
   "outputs": [],
   "source": [
    "import webbrowser"
   ]
  },
  {
   "cell_type": "code",
   "execution_count": 2,
   "metadata": {},
   "outputs": [],
   "source": [
    "linkedin_list = [\n",
    "    \"https://www.linkedin.com/feed/\",\n",
    "    \"https://www.linkedin.com/groups/2064830/\",\n",
    "    \"https://www.linkedin.com/groups/40057/\",\n",
    "    \"https://www.linkedin.com/groups/762547/\",\n",
    "    \"https://www.linkedin.com/groups/10308230/\",\n",
    "    \"https://www.linkedin.com/groups/2194951/\",\n",
    "    \"https://www.linkedin.com/groups/23006/\",\n",
    "    \"https://www.linkedin.com/groups/1824590/\",\n",
    "    \"https://www.linkedin.com/groups/45151/\",\n",
    "    \"https://www.linkedin.com/groups/6670659/\",\n",
    "    \"https://www.linkedin.com/groups/4244719/\",\n",
    "    \"https://www.linkedin.com/groups/7403611/\",\n",
    "    \"https://www.linkedin.com/groups/12024092/\",\n",
    "    \"https://www.linkedin.com/groups/8344258/\",\n",
    "    \"https://www.linkedin.com/groups/25827/\",\n",
    "]"
   ]
  },
  {
   "cell_type": "code",
   "execution_count": 1,
   "metadata": {},
   "outputs": [],
   "source": [
    "facebook_list = [\n",
    "    \"https://www.facebook.com/groups/242447594043339\",\n",
    "    \"https://www.facebook.com/groups/dataengineeringai\",\n",
    "    \"https://www.facebook.com/groups/207429693863727/\",\n",
    "    \"https://www.facebook.com/groups/dataengineeringpilipinas/\",\n",
    "    \"https://www.facebook.com/groups/3020991727959391/\",\n",
    "    \"https://www.facebook.com/groups/azuredataengineeringforall/\",\n",
    "    \"https://www.facebook.com/groups/183551327219166/\",\n",
    "    \"https://www.facebook.com/groups/bigdatastatistics/\",\n",
    "    \"https://www.facebook.com/groups/datafence/\",\n",
    "    \"https://www.facebook.com/groups/485539815264276/\",\n",
    "    \"https://www.facebook.com/groups/2361152124148725/\",\n",
    "    \"https://www.facebook.com/groups/260603005113602/\",\n",
    "    \"https://www.facebook.com/groups/9037243317/\",\n",
    "]"
   ]
  },
  {
   "cell_type": "code",
   "execution_count": 3,
   "metadata": {},
   "outputs": [],
   "source": [
    "for l in linkedin_list:\n",
    "    webbrowser.open(l)"
   ]
  },
  {
   "cell_type": "code",
   "execution_count": 3,
   "metadata": {},
   "outputs": [],
   "source": [
    "for f in facebook_list:\n",
    "    webbrowser.open(f)"
   ]
  }
 ],
 "metadata": {
  "kernelspec": {
   "display_name": "pyspark",
   "language": "python",
   "name": "python3"
  },
  "language_info": {
   "codemirror_mode": {
    "name": "ipython",
    "version": 3
   },
   "file_extension": ".py",
   "mimetype": "text/x-python",
   "name": "python",
   "nbconvert_exporter": "python",
   "pygments_lexer": "ipython3",
   "version": "3.10.13"
  }
 },
 "nbformat": 4,
 "nbformat_minor": 2
}
