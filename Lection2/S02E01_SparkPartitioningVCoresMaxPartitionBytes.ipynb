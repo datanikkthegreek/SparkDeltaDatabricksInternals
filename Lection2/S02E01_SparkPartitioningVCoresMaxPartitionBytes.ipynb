{
 "cells": [
  {
   "cell_type": "markdown",
   "metadata": {},
   "source": [
    "# Today's topic: Spark partitions"
   ]
  },
  {
   "cell_type": "markdown",
   "metadata": {},
   "source": [
    "# 0. Set-Ups\n",
    "\n",
    "General hints for this notebook:\n",
    "- Spark UI usually accesible by http://localhost:4040/ or http://localhost:4041/\n",
    "- Deep dive Spark UI happens in later episodes\n",
    "- sc.setJobDescription(\"Description\") replaces the Job Description of an action in the Spark UI with your own\n",
    "- sdf.rdd.getNumPartitions() returns the number partitions of the current Spark DataFrame\n",
    "- sdf.write.format(\"noop\").mode(\"overwrite\").save() is a good way to analyze and initiate actions for transformations without side effects during an actual write"
   ]
  },
  {
   "cell_type": "code",
   "execution_count": 1,
   "metadata": {},
   "outputs": [],
   "source": [
    "from pyspark.sql import SparkSession\n",
    "from pyspark.sql import functions as f\n",
    "import pyspark"
   ]
  },
  {
   "cell_type": "code",
   "execution_count": 2,
   "metadata": {},
   "outputs": [],
   "source": [
    "spark = SparkSession \\\n",
    "    .builder \\\n",
    "    .appName(\"Data with Nikk the Greek Spark Session\") \\\n",
    "    .master(\"local[4]\") \\\n",
    "    .enableHiveSupport() \\\n",
    "    .getOrCreate()\n",
    "\n",
    "sc = spark.sparkContext"
   ]
  },
  {
   "cell_type": "code",
   "execution_count": 3,
   "metadata": {},
   "outputs": [],
   "source": [
    "def sdf_generator1(num_iter: int = 1) -> \"DataFrame\":\n",
    "    d = [\n",
    "        {\"a\":\"a\", \"b\": 1},\n",
    "        {\"a\":\"b\", \"b\": 2},\n",
    "        {\"a\":\"c\", \"b\": 3},\n",
    "        {\"a\":\"d\", \"b\": 4},\n",
    "        {\"a\":\"e\", \"b\": 5},\n",
    "        {\"a\":\"e\", \"b\": 6},\n",
    "        {\"a\":\"f\", \"b\": 7},\n",
    "        {\"a\":\"g\", \"b\": 8},\n",
    "        {\"a\":\"h\", \"b\": 9},\n",
    "        {\"a\":\"i\", \"b\": 10},\n",
    "    ]\n",
    "\n",
    "    data = []\n",
    "    for i in range(0, num_iter):\n",
    "        data.extend(d)\n",
    "    ddl_schema = \"a string, b int\"\n",
    "    return spark.createDataFrame(data, schema=ddl_schema)\n"
   ]
  },
  {
   "cell_type": "code",
   "execution_count": 4,
   "metadata": {},
   "outputs": [
    {
     "data": {
      "text/plain": [
       "20"
      ]
     },
     "execution_count": 4,
     "metadata": {},
     "output_type": "execute_result"
    }
   ],
   "source": [
    "sdf_gen1 = sdf_generator1(2)\n",
    "sdf_gen1.count()\n"
   ]
  },
  {
   "cell_type": "code",
   "execution_count": 5,
   "metadata": {},
   "outputs": [
    {
     "name": "stdout",
     "output_type": "stream",
     "text": [
      "+---+---+\n",
      "|  a|  b|\n",
      "+---+---+\n",
      "|  a|  1|\n",
      "|  b|  2|\n",
      "|  c|  3|\n",
      "|  d|  4|\n",
      "|  e|  5|\n",
      "|  e|  6|\n",
      "|  f|  7|\n",
      "|  g|  8|\n",
      "|  h|  9|\n",
      "|  i| 10|\n",
      "|  a|  1|\n",
      "|  b|  2|\n",
      "|  c|  3|\n",
      "|  d|  4|\n",
      "|  e|  5|\n",
      "|  e|  6|\n",
      "|  f|  7|\n",
      "|  g|  8|\n",
      "|  h|  9|\n",
      "|  i| 10|\n",
      "+---+---+\n",
      "\n"
     ]
    }
   ],
   "source": [
    "sdf_gen1.show()"
   ]
  },
  {
   "cell_type": "code",
   "execution_count": 3,
   "metadata": {},
   "outputs": [],
   "source": [
    "def sdf_generator2(num_rows: int, num_partitions: int = None) -> \"DataFrame\":\n",
    "    return (\n",
    "        spark.range(num_rows, numPartitions=num_partitions)\n",
    "        .withColumn(\"today\", f.current_date())\n",
    "        .withColumn(\"timestamp\",f.current_timestamp())\n",
    "        .withColumn(\"idstring\", f.col(\"id\").cast(\"string\"))\n",
    "        .withColumn(\"idfirst\", f.col(\"idstring\").substr(0,1))\n",
    "        .withColumn(\"idlast\", f.col(\"idstring\").substr(-1,1))\n",
    "        )"
   ]
  },
  {
   "cell_type": "code",
   "execution_count": 7,
   "metadata": {},
   "outputs": [
    {
     "data": {
      "text/plain": [
       "20"
      ]
     },
     "execution_count": 7,
     "metadata": {},
     "output_type": "execute_result"
    }
   ],
   "source": [
    "sdf_gen2 = sdf_generator2(20)\n",
    "sdf_gen2.count()"
   ]
  },
  {
   "cell_type": "code",
   "execution_count": 8,
   "metadata": {},
   "outputs": [
    {
     "name": "stdout",
     "output_type": "stream",
     "text": [
      "+---+----------+--------------------+--------+-------+------+\n",
      "| id|     today|           timestamp|idstring|idfirst|idlast|\n",
      "+---+----------+--------------------+--------+-------+------+\n",
      "|  0|2024-01-13|2024-01-13 10:43:...|       0|      0|     0|\n",
      "|  1|2024-01-13|2024-01-13 10:43:...|       1|      1|     1|\n",
      "|  2|2024-01-13|2024-01-13 10:43:...|       2|      2|     2|\n",
      "|  3|2024-01-13|2024-01-13 10:43:...|       3|      3|     3|\n",
      "|  4|2024-01-13|2024-01-13 10:43:...|       4|      4|     4|\n",
      "|  5|2024-01-13|2024-01-13 10:43:...|       5|      5|     5|\n",
      "|  6|2024-01-13|2024-01-13 10:43:...|       6|      6|     6|\n",
      "|  7|2024-01-13|2024-01-13 10:43:...|       7|      7|     7|\n",
      "|  8|2024-01-13|2024-01-13 10:43:...|       8|      8|     8|\n",
      "|  9|2024-01-13|2024-01-13 10:43:...|       9|      9|     9|\n",
      "| 10|2024-01-13|2024-01-13 10:43:...|      10|      1|     0|\n",
      "| 11|2024-01-13|2024-01-13 10:43:...|      11|      1|     1|\n",
      "| 12|2024-01-13|2024-01-13 10:43:...|      12|      1|     2|\n",
      "| 13|2024-01-13|2024-01-13 10:43:...|      13|      1|     3|\n",
      "| 14|2024-01-13|2024-01-13 10:43:...|      14|      1|     4|\n",
      "| 15|2024-01-13|2024-01-13 10:43:...|      15|      1|     5|\n",
      "| 16|2024-01-13|2024-01-13 10:43:...|      16|      1|     6|\n",
      "| 17|2024-01-13|2024-01-13 10:43:...|      17|      1|     7|\n",
      "| 18|2024-01-13|2024-01-13 10:43:...|      18|      1|     8|\n",
      "| 19|2024-01-13|2024-01-13 10:43:...|      19|      1|     9|\n",
      "+---+----------+--------------------+--------+-------+------+\n",
      "\n"
     ]
    }
   ],
   "source": [
    "sdf_gen2.show()"
   ]
  },
  {
   "cell_type": "markdown",
   "metadata": {},
   "source": [
    "# 1. Partition Size based on Cores and Data Amount with spark.CreateDataFrame\n",
    "- In the Spark UI under Executors you can see the number of available Cores of your cluster. In our case it's 4 as configured also in the Spark Session above\n",
    "- Spark is splitting datasets created in memory with spark.createDataFrame based on the number of Cores available equaly distributed. That's why we have 4 partitions. You can check the variable spark.sparkContext.defaultParallelism\n",
    "- If we reduce the number of Cores the partion number reduced equivalently\n",
    "- Looking at the row distribution below but also in the SparkUI we can confirm a uniform distribution\n",
    "- The most efficient way of narrow transformations is to have uniform partitions and the number of partitions is devidable by the number of course to avoid Cores being unused\n",
    "- The size of the data does not have any influence. It rather just leads to OOM or Out of disk errors if too high and/or a long processing time. This is important to"
   ]
  },
  {
   "cell_type": "code",
   "execution_count": 5,
   "metadata": {},
   "outputs": [
    {
     "data": {
      "text/plain": [
       "3"
      ]
     },
     "execution_count": 5,
     "metadata": {},
     "output_type": "execute_result"
    }
   ],
   "source": [
    "spark.sparkContext.defaultParallelism"
   ]
  },
  {
   "cell_type": "code",
   "execution_count": 10,
   "metadata": {},
   "outputs": [
    {
     "data": {
      "text/plain": [
       "4"
      ]
     },
     "execution_count": 10,
     "metadata": {},
     "output_type": "execute_result"
    }
   ],
   "source": [
    "sdf_gen1_1 = sdf_generator1(2)\n",
    "sdf_gen1_1.rdd.getNumPartitions()"
   ]
  },
  {
   "cell_type": "code",
   "execution_count": 11,
   "metadata": {},
   "outputs": [
    {
     "name": "stdout",
     "output_type": "stream",
     "text": [
      "+---+---+------------+\n",
      "|  a|  b|partition_id|\n",
      "+---+---+------------+\n",
      "|  a|  1|           0|\n",
      "|  b|  2|           0|\n",
      "|  c|  3|           0|\n",
      "|  d|  4|           0|\n",
      "|  e|  5|           0|\n",
      "|  e|  6|           1|\n",
      "|  f|  7|           1|\n",
      "|  g|  8|           1|\n",
      "|  h|  9|           1|\n",
      "|  i| 10|           1|\n",
      "|  a|  1|           2|\n",
      "|  b|  2|           2|\n",
      "|  c|  3|           2|\n",
      "|  d|  4|           2|\n",
      "|  e|  5|           2|\n",
      "|  e|  6|           3|\n",
      "|  f|  7|           3|\n",
      "|  g|  8|           3|\n",
      "|  h|  9|           3|\n",
      "|  i| 10|           3|\n",
      "+---+---+------------+\n",
      "\n"
     ]
    }
   ],
   "source": [
    "sdf_part1_1 = sdf_gen1_1.withColumn(\"partition_id\", f.spark_partition_id())\n",
    "sdf_part1_1.show()"
   ]
  },
  {
   "cell_type": "code",
   "execution_count": 12,
   "metadata": {},
   "outputs": [
    {
     "name": "stdout",
     "output_type": "stream",
     "text": [
      "20\n"
     ]
    }
   ],
   "source": [
    "row_count = sdf_gen1_1.count()\n",
    "print(row_count)"
   ]
  },
  {
   "cell_type": "code",
   "execution_count": 13,
   "metadata": {},
   "outputs": [
    {
     "name": "stdout",
     "output_type": "stream",
     "text": [
      "+------------+-----+----------+\n",
      "|partition_id|count|count_perc|\n",
      "+------------+-----+----------+\n",
      "|           0|    5|      25.0|\n",
      "|           1|    5|      25.0|\n",
      "|           2|    5|      25.0|\n",
      "|           3|    5|      25.0|\n",
      "+------------+-----+----------+\n",
      "\n"
     ]
    }
   ],
   "source": [
    "sdf_part_count1_1 = sdf_part1_1.groupBy(\"partition_id\").count()\n",
    "sdf_part_count1_1 = sdf_part_count1_1.withColumn(\"count_perc\", 100*f.col(\"count\")/row_count)\n",
    "sdf_part_count1_1.show()"
   ]
  },
  {
   "cell_type": "code",
   "execution_count": 14,
   "metadata": {},
   "outputs": [],
   "source": [
    "sc.setJobDescription(\"Gen1_Exp1\")\n",
    "sdf_gen1_1.write.format(\"noop\").mode(\"overwrite\").save()\n",
    "sc.setJobDescription(\"None\")"
   ]
  },
  {
   "cell_type": "code",
   "execution_count": 15,
   "metadata": {},
   "outputs": [
    {
     "data": {
      "text/plain": [
       "4"
      ]
     },
     "execution_count": 15,
     "metadata": {},
     "output_type": "execute_result"
    }
   ],
   "source": [
    "sdf_gen1_2 = sdf_generator1(2000)\n",
    "sdf_gen1_2.rdd.getNumPartitions()"
   ]
  },
  {
   "cell_type": "code",
   "execution_count": 16,
   "metadata": {},
   "outputs": [
    {
     "name": "stdout",
     "output_type": "stream",
     "text": [
      "+---+---+------------+\n",
      "|  a|  b|partition_id|\n",
      "+---+---+------------+\n",
      "|  a|  1|           0|\n",
      "|  b|  2|           0|\n",
      "|  c|  3|           0|\n",
      "|  d|  4|           0|\n",
      "|  e|  5|           0|\n",
      "|  e|  6|           0|\n",
      "|  f|  7|           0|\n",
      "|  g|  8|           0|\n",
      "|  h|  9|           0|\n",
      "|  i| 10|           0|\n",
      "|  a|  1|           0|\n",
      "|  b|  2|           0|\n",
      "|  c|  3|           0|\n",
      "|  d|  4|           0|\n",
      "|  e|  5|           0|\n",
      "|  e|  6|           0|\n",
      "|  f|  7|           0|\n",
      "|  g|  8|           0|\n",
      "|  h|  9|           0|\n",
      "|  i| 10|           0|\n",
      "+---+---+------------+\n",
      "only showing top 20 rows\n",
      "\n"
     ]
    }
   ],
   "source": [
    "sdf_part1_2 = sdf_gen1_2.withColumn(\"partition_id\", f.spark_partition_id())\n",
    "sdf_part1_2.show()"
   ]
  },
  {
   "cell_type": "code",
   "execution_count": 17,
   "metadata": {},
   "outputs": [
    {
     "name": "stdout",
     "output_type": "stream",
     "text": [
      "20000\n"
     ]
    }
   ],
   "source": [
    "row_count = sdf_gen1_2.count()\n",
    "print(row_count)"
   ]
  },
  {
   "cell_type": "code",
   "execution_count": 18,
   "metadata": {},
   "outputs": [
    {
     "name": "stdout",
     "output_type": "stream",
     "text": [
      "+------------+-----+----------+\n",
      "|partition_id|count|count_perc|\n",
      "+------------+-----+----------+\n",
      "|           0| 5120|      25.6|\n",
      "|           1| 5120|      25.6|\n",
      "|           2| 5120|      25.6|\n",
      "|           3| 4640|      23.2|\n",
      "+------------+-----+----------+\n",
      "\n"
     ]
    }
   ],
   "source": [
    "sdf_part_count1_2 = sdf_part1_2.groupBy(\"partition_id\").count()\n",
    "sdf_part_count1_2 = sdf_part_count1_2.withColumn(\"count_perc\", 100*f.col(\"count\")/row_count)\n",
    "sdf_part_count1_2.show()"
   ]
  },
  {
   "cell_type": "code",
   "execution_count": 19,
   "metadata": {},
   "outputs": [],
   "source": [
    "sc.setJobDescription(\"Gen1_Exp2\")\n",
    "sdf_gen1_2.write.format(\"noop\").mode(\"overwrite\").save()\n",
    "sc.setJobDescription(\"None\")"
   ]
  },
  {
   "cell_type": "markdown",
   "metadata": {},
   "source": [
    "# 2. Partition Size based on Cores and Data Amount with spark.range\n",
    "- The same results as for spark.createDataFrame count also here even though it's a spark function returning data"
   ]
  },
  {
   "cell_type": "code",
   "execution_count": 20,
   "metadata": {},
   "outputs": [
    {
     "data": {
      "text/plain": [
       "4"
      ]
     },
     "execution_count": 20,
     "metadata": {},
     "output_type": "execute_result"
    }
   ],
   "source": [
    "sdf_gen2_1 = sdf_generator2(2000000)\n",
    "sdf_gen2_1.rdd.getNumPartitions()"
   ]
  },
  {
   "cell_type": "code",
   "execution_count": 21,
   "metadata": {},
   "outputs": [
    {
     "name": "stdout",
     "output_type": "stream",
     "text": [
      "+---+----------+--------------------+--------+-------+------+------------+\n",
      "| id|     today|           timestamp|idstring|idfirst|idlast|partition_id|\n",
      "+---+----------+--------------------+--------+-------+------+------------+\n",
      "|  0|2024-01-13|2024-01-13 10:51:...|       0|      0|     0|           0|\n",
      "|  1|2024-01-13|2024-01-13 10:51:...|       1|      1|     1|           0|\n",
      "|  2|2024-01-13|2024-01-13 10:51:...|       2|      2|     2|           0|\n",
      "|  3|2024-01-13|2024-01-13 10:51:...|       3|      3|     3|           0|\n",
      "|  4|2024-01-13|2024-01-13 10:51:...|       4|      4|     4|           0|\n",
      "|  5|2024-01-13|2024-01-13 10:51:...|       5|      5|     5|           0|\n",
      "|  6|2024-01-13|2024-01-13 10:51:...|       6|      6|     6|           0|\n",
      "|  7|2024-01-13|2024-01-13 10:51:...|       7|      7|     7|           0|\n",
      "|  8|2024-01-13|2024-01-13 10:51:...|       8|      8|     8|           0|\n",
      "|  9|2024-01-13|2024-01-13 10:51:...|       9|      9|     9|           0|\n",
      "| 10|2024-01-13|2024-01-13 10:51:...|      10|      1|     0|           0|\n",
      "| 11|2024-01-13|2024-01-13 10:51:...|      11|      1|     1|           0|\n",
      "| 12|2024-01-13|2024-01-13 10:51:...|      12|      1|     2|           0|\n",
      "| 13|2024-01-13|2024-01-13 10:51:...|      13|      1|     3|           0|\n",
      "| 14|2024-01-13|2024-01-13 10:51:...|      14|      1|     4|           0|\n",
      "| 15|2024-01-13|2024-01-13 10:51:...|      15|      1|     5|           0|\n",
      "| 16|2024-01-13|2024-01-13 10:51:...|      16|      1|     6|           0|\n",
      "| 17|2024-01-13|2024-01-13 10:51:...|      17|      1|     7|           0|\n",
      "| 18|2024-01-13|2024-01-13 10:51:...|      18|      1|     8|           0|\n",
      "| 19|2024-01-13|2024-01-13 10:51:...|      19|      1|     9|           0|\n",
      "+---+----------+--------------------+--------+-------+------+------------+\n",
      "only showing top 20 rows\n",
      "\n"
     ]
    }
   ],
   "source": [
    "sdf_part2_1 = sdf_gen2_1.withColumn(\"partition_id\", f.spark_partition_id())\n",
    "sdf_part2_1.show()"
   ]
  },
  {
   "cell_type": "code",
   "execution_count": 22,
   "metadata": {},
   "outputs": [
    {
     "name": "stdout",
     "output_type": "stream",
     "text": [
      "2000000\n"
     ]
    }
   ],
   "source": [
    "row_count = sdf_gen2_1.count()\n",
    "print(row_count)"
   ]
  },
  {
   "cell_type": "code",
   "execution_count": 23,
   "metadata": {},
   "outputs": [
    {
     "name": "stdout",
     "output_type": "stream",
     "text": [
      "+------------+------+----------+\n",
      "|partition_id| count|count_perc|\n",
      "+------------+------+----------+\n",
      "|           0|500000|      25.0|\n",
      "|           1|500000|      25.0|\n",
      "|           2|500000|      25.0|\n",
      "|           3|500000|      25.0|\n",
      "+------------+------+----------+\n",
      "\n"
     ]
    }
   ],
   "source": [
    "sdf_part_count2_1 = sdf_part2_1.groupBy(\"partition_id\").count()\n",
    "sdf_part_count2_1 = sdf_part_count2_1.withColumn(\"count_perc\", 100*f.col(\"count\")/row_count)\n",
    "sdf_part_count2_1.show()"
   ]
  },
  {
   "cell_type": "code",
   "execution_count": 24,
   "metadata": {},
   "outputs": [],
   "source": [
    "sc.setJobDescription(\"Gen2_Exp1\")\n",
    "sdf_gen2_1.write.format(\"noop\").mode(\"overwrite\").save()\n",
    "sc.setJobDescription(\"None\")"
   ]
  },
  {
   "cell_type": "code",
   "execution_count": 4,
   "metadata": {},
   "outputs": [
    {
     "data": {
      "text/plain": [
       "3"
      ]
     },
     "execution_count": 4,
     "metadata": {},
     "output_type": "execute_result"
    }
   ],
   "source": [
    "sdf_gen2_2 = sdf_generator2(2000000000000000000)\n",
    "sdf_gen2_2.rdd.getNumPartitions()"
   ]
  },
  {
   "cell_type": "markdown",
   "metadata": {},
   "source": [
    "# 3. Influence on Spark partitions to the performance\n",
    "- We can see within the Stage details of each Job Stage that if the number of partitions is devidable by the number of Cores we use our available capacaties best\n",
    "- We can see when we increase the number of partitions with relativly small datasets the GC (Garbage collecting) time to clean up unused files and scheduler time significantly increases and makes the process much slower"
   ]
  },
  {
   "cell_type": "code",
   "execution_count": 4,
   "metadata": {},
   "outputs": [
    {
     "name": "stdout",
     "output_type": "stream",
     "text": [
      "4\n"
     ]
    }
   ],
   "source": [
    "sdf1 = sdf_generator2(20000000, 4)\n",
    "print(sdf1.rdd.getNumPartitions())\n",
    "sc.setJobDescription(\"Part Exp1\")\n",
    "sdf1.write.format(\"noop\").mode(\"overwrite\").save()\n",
    "sc.setJobDescription(\"None\")"
   ]
  },
  {
   "cell_type": "code",
   "execution_count": 5,
   "metadata": {},
   "outputs": [
    {
     "name": "stdout",
     "output_type": "stream",
     "text": [
      "8\n"
     ]
    }
   ],
   "source": [
    "sdf2 = sdf_generator2(20000000, 8)\n",
    "print(sdf2.rdd.getNumPartitions())\n",
    "sc.setJobDescription(\"Part Exp2\")\n",
    "sdf2.write.format(\"noop\").mode(\"overwrite\").save()\n",
    "sc.setJobDescription(\"None\")"
   ]
  },
  {
   "cell_type": "code",
   "execution_count": 6,
   "metadata": {},
   "outputs": [
    {
     "name": "stdout",
     "output_type": "stream",
     "text": [
      "3\n"
     ]
    }
   ],
   "source": [
    "sdf3 = sdf_generator2(20000000, 3)\n",
    "print(sdf3.rdd.getNumPartitions())\n",
    "sc.setJobDescription(\"Part Exp3\")\n",
    "sdf3.write.format(\"noop\").mode(\"overwrite\").save()\n",
    "sc.setJobDescription(\"None\")"
   ]
  },
  {
   "cell_type": "code",
   "execution_count": 7,
   "metadata": {},
   "outputs": [
    {
     "name": "stdout",
     "output_type": "stream",
     "text": [
      "6\n"
     ]
    }
   ],
   "source": [
    "sdf4 = sdf_generator2(20000000, 6)\n",
    "print(sdf4.rdd.getNumPartitions())\n",
    "sc.setJobDescription(\"Part Exp4\")\n",
    "sdf4.write.format(\"noop\").mode(\"overwrite\").save()\n",
    "sc.setJobDescription(\"None\")"
   ]
  },
  {
   "cell_type": "code",
   "execution_count": 8,
   "metadata": {},
   "outputs": [
    {
     "name": "stdout",
     "output_type": "stream",
     "text": [
      "200\n"
     ]
    }
   ],
   "source": [
    "sdf5 = sdf_generator2(20000000, 200)\n",
    "print(sdf5.rdd.getNumPartitions())\n",
    "sc.setJobDescription(\"Part Exp5\")\n",
    "sdf5.write.format(\"noop\").mode(\"overwrite\").save()\n",
    "sc.setJobDescription(\"None\")"
   ]
  },
  {
   "cell_type": "code",
   "execution_count": 9,
   "metadata": {},
   "outputs": [
    {
     "name": "stdout",
     "output_type": "stream",
     "text": [
      "20000\n"
     ]
    }
   ],
   "source": [
    "sdf6 = sdf_generator2(20000000, 20000)\n",
    "print(sdf6.rdd.getNumPartitions())\n",
    "sc.setJobDescription(\"Part Exp6\")\n",
    "sdf6.write.format(\"noop\").mode(\"overwrite\").save()\n",
    "sc.setJobDescription(\"None\")"
   ]
  },
  {
   "cell_type": "code",
   "execution_count": null,
   "metadata": {},
   "outputs": [],
   "source": []
  }
 ],
 "metadata": {
  "kernelspec": {
   "display_name": "pyspark-2.5.0",
   "language": "python",
   "name": "python3"
  },
  "language_info": {
   "codemirror_mode": {
    "name": "ipython",
    "version": 3
   },
   "file_extension": ".py",
   "mimetype": "text/x-python",
   "name": "python",
   "nbconvert_exporter": "python",
   "pygments_lexer": "ipython3",
   "version": "3.10.13"
  }
 },
 "nbformat": 4,
 "nbformat_minor": 2
}
