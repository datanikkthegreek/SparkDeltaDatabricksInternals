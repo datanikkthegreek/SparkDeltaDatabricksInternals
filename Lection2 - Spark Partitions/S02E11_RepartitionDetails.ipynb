{
 "cells": [
  {
   "cell_type": "markdown",
   "metadata": {},
   "source": [
    "# Today's topic: Spark Repartition - How it works and how to screw it up"
   ]
  },
  {
   "cell_type": "markdown",
   "metadata": {},
   "source": [
    "# 0. Set-Ups\n",
    "\n",
    "General hints for this notebook:\n",
    "- Spark UI usually accesible by http://localhost:4040/ or http://localhost:4041/\n",
    "- Deep dive Spark UI happens in later episodes\n",
    "- sc.setJobDescription(\"Description\") replaces the Job Description of an action in the Spark UI with your own\n",
    "- sdf.rdd.getNumPartitions() returns the number partitions of the current Spark DataFrame\n",
    "- sdf.write.format(\"noop\").mode(\"overwrite\").save() is a good way to analyze and initiate actions for transformations without side effects during an actual write"
   ]
  },
  {
   "cell_type": "code",
   "execution_count": 2,
   "metadata": {},
   "outputs": [],
   "source": [
    "from pyspark.sql import SparkSession\n",
    "from pyspark.sql import functions as f\n",
    "import pyspark"
   ]
  },
  {
   "cell_type": "code",
   "execution_count": 3,
   "metadata": {},
   "outputs": [],
   "source": [
    "spark = SparkSession \\\n",
    "    .builder \\\n",
    "    .appName(\"Data with Nikk the Greek Spark Session\") \\\n",
    "    .master(\"local[4]\") \\\n",
    "    .enableHiveSupport() \\\n",
    "    .getOrCreate()\n",
    "\n",
    "sc = spark.sparkContext"
   ]
  },
  {
   "cell_type": "code",
   "execution_count": 4,
   "metadata": {},
   "outputs": [],
   "source": [
    "#Turning off AQE as it generates more jobs which might be confusing for this scenario here. \n",
    "spark.conf.set(\"spark.sql.adaptive.enabled\", \"false\")\n",
    "#to not cache datafrimes... this may not create repeatable results\n",
    "spark.conf.set(\"spark.databricks.io.cache.enabled\", \"false\")"
   ]
  },
  {
   "cell_type": "code",
   "execution_count": 5,
   "metadata": {},
   "outputs": [],
   "source": [
    "def sdf_generator(num_rows: int, num_partitions: int = None) -> \"DataFrame\":\n",
    "    return (\n",
    "        spark.range(num_rows, numPartitions=num_partitions)\n",
    "        .withColumn(\"date\", f.current_date())\n",
    "        .withColumn(\"timestamp\",f.current_timestamp())\n",
    "        .withColumn(\"idstring\", f.col(\"id\").cast(\"string\"))\n",
    "        .withColumn(\"idfirst\", f.col(\"idstring\").substr(0,1))\n",
    "        .withColumn(\"idlast\", f.col(\"idstring\").substr(-1,1))\n",
    "        .withColumn(\"idfirsttwo\", f.col(\"idstring\").substr(0,2))\n",
    "        )"
   ]
  },
  {
   "cell_type": "code",
   "execution_count": 6,
   "metadata": {},
   "outputs": [
    {
     "name": "stdout",
     "output_type": "stream",
     "text": [
      "+---+----------+--------------------+--------+-------+------+----------+\n",
      "| id|      date|           timestamp|idstring|idfirst|idlast|idfirsttwo|\n",
      "+---+----------+--------------------+--------+-------+------+----------+\n",
      "|  0|2024-01-30|2024-01-30 05:56:...|       0|      0|     0|         0|\n",
      "|  1|2024-01-30|2024-01-30 05:56:...|       1|      1|     1|         1|\n",
      "|  2|2024-01-30|2024-01-30 05:56:...|       2|      2|     2|         2|\n",
      "|  3|2024-01-30|2024-01-30 05:56:...|       3|      3|     3|         3|\n",
      "|  4|2024-01-30|2024-01-30 05:56:...|       4|      4|     4|         4|\n",
      "|  5|2024-01-30|2024-01-30 05:56:...|       5|      5|     5|         5|\n",
      "|  6|2024-01-30|2024-01-30 05:56:...|       6|      6|     6|         6|\n",
      "|  7|2024-01-30|2024-01-30 05:56:...|       7|      7|     7|         7|\n",
      "|  8|2024-01-30|2024-01-30 05:56:...|       8|      8|     8|         8|\n",
      "|  9|2024-01-30|2024-01-30 05:56:...|       9|      9|     9|         9|\n",
      "+---+----------+--------------------+--------+-------+------+----------+\n",
      "\n"
     ]
    }
   ],
   "source": [
    "sdf = sdf_generator(10, 4)\n",
    "sdf.show()"
   ]
  },
  {
   "cell_type": "code",
   "execution_count": 30,
   "metadata": {},
   "outputs": [],
   "source": [
    "def rows_per_partition(sdf: \"DataFrame\") -> None:\n",
    "    num_rows = sdf.count()\n",
    "    sdf_part = sdf.withColumn(\"partition_id\", f.spark_partition_id())\n",
    "    sdf_part_count = sdf_part.groupBy(\"partition_id\").count()\n",
    "    sdf_part_count = sdf_part_count.withColumn(\"count_perc\", 100*f.col(\"count\")/num_rows)\n",
    "    sdf_part_count.orderBy(\"partition_id\")\n",
    "    sdf_part_count.show()\n",
    "    return sdf_part_count"
   ]
  },
  {
   "cell_type": "code",
   "execution_count": 31,
   "metadata": {},
   "outputs": [],
   "source": [
    "def rows_per_partition_col(sdf: \"DataFrame\", col: str) -> None:\n",
    "    num_rows = sdf.count()\n",
    "    sdf_part = sdf.withColumn(\"partition_id\", f.spark_partition_id())\n",
    "    sdf_part_count = sdf_part.groupBy(\"partition_id\", col).count()\n",
    "    sdf_part_count = sdf_part_count.withColumn(\"count_perc\", 100*f.col(\"count\")/num_rows)\n",
    "    sdf_part_count = sdf_part_count.orderBy(\"partition_id\", col)\n",
    "    sdf_part_count.show()\n",
    "    return sdf_part_count\n"
   ]
  },
  {
   "cell_type": "markdown",
   "metadata": {},
   "source": [
    "# 1 - How repartitioning works\n",
    "- Documentation: https://spark.apache.org/docs/latest/api/python/reference/pyspark.sql/api/pyspark.sql.DataFrame.repartition.html#pyspark.sql.DataFrame.repartition\n",
    "- Repartition allows to increase and decrease the number of partitions\n",
    "- Repartition requires shuffling data which can be more unefficient than Coalesce\n",
    "- On the other hand it creates uniform distributions unlike coalesce which only unions partions together\n",
    "- Instead of partition based on the number of partitions you can partition based on a column. This uses Hash Partitioning instead of Round Robin\n",
    "- If no number of partitions is defined the default value depends on spark.sql.shuffle.partitions which defaults to 200 (important later when evaluating wide transformations in later episodes)\n",
    "\n",
    "https://stackoverflow.com/questions/65809909/spark-what-is-the-difference-between-repartition-and-repartitionbyrange"
   ]
  },
  {
   "cell_type": "markdown",
   "metadata": {},
   "source": [
    "# 2 - Round Robin Shuffling\n",
    "- We define the number of target partitions we want to receive as an output\n",
    "- Per source partition we do the following:\n",
    "    - We choose a random target partition (range 0 to number target partitions)\n",
    "    - Row by row we assign the next target partition, e.g. partition 4, 5, 6, 7, 8, 9, 0 etc.\n",
    "- Issues: \n",
    "    - For a small number of values per partition some partitions might be get assigned less or no values\n",
    "    - This of course only happens rarely with no target partitions bigger than values per source partition as e.g. if you have 5 values per partition with 4 in total and increase to 10 partitions"
   ]
  },
  {
   "cell_type": "code",
   "execution_count": 123,
   "metadata": {},
   "outputs": [
    {
     "name": "stdout",
     "output_type": "stream",
     "text": [
      "+------------+-----+----------+\n",
      "|partition_id|count|count_perc|\n",
      "+------------+-----+----------+\n",
      "|           1|    2|      10.0|\n",
      "|           6|    2|      10.0|\n",
      "|           3|    2|      10.0|\n",
      "|           5|    2|      10.0|\n",
      "|           9|    2|      10.0|\n",
      "|           4|    2|      10.0|\n",
      "|           8|    2|      10.0|\n",
      "|           7|    2|      10.0|\n",
      "|           2|    2|      10.0|\n",
      "|           0|    2|      10.0|\n",
      "+------------+-----+----------+\n",
      "\n"
     ]
    },
    {
     "data": {
      "text/plain": [
       "DataFrame[partition_id: int, count: bigint, count_perc: double]"
      ]
     },
     "execution_count": 123,
     "metadata": {},
     "output_type": "execute_result"
    }
   ],
   "source": [
    "sdf = sdf_generator(20, 10)\n",
    "sdf = sdf.withColumn(\"partition_id_before\", f.spark_partition_id())\n",
    "rows_per_partition(sdf)"
   ]
  },
  {
   "cell_type": "code",
   "execution_count": 124,
   "metadata": {},
   "outputs": [
    {
     "name": "stdout",
     "output_type": "stream",
     "text": [
      "+------------+-----+----------+\n",
      "|partition_id|count|count_perc|\n",
      "+------------+-----+----------+\n",
      "|           1|    4|      20.0|\n",
      "|           3|    1|       5.0|\n",
      "|           4|    6|      30.0|\n",
      "|           2|    4|      20.0|\n",
      "|           0|    5|      25.0|\n",
      "+------------+-----+----------+\n",
      "\n"
     ]
    },
    {
     "data": {
      "text/plain": [
       "DataFrame[partition_id: int, count: bigint, count_perc: double]"
      ]
     },
     "execution_count": 124,
     "metadata": {},
     "output_type": "execute_result"
    }
   ],
   "source": [
    "sdf_part = sdf.repartition(5)\n",
    "rows_per_partition(sdf_part)"
   ]
  },
  {
   "cell_type": "code",
   "execution_count": 125,
   "metadata": {},
   "outputs": [
    {
     "name": "stdout",
     "output_type": "stream",
     "text": [
      "+---+----------+--------------------+--------+-------+------+----------+-------------------+\n",
      "| id|      date|           timestamp|idstring|idfirst|idlast|idfirsttwo|partition_id_before|\n",
      "+---+----------+--------------------+--------+-------+------+----------+-------------------+\n",
      "|  0|2024-01-30|2024-01-30 21:46:...|       0|      0|     0|         0|                  0|\n",
      "|  1|2024-01-30|2024-01-30 21:46:...|       1|      1|     1|         1|                  0|\n",
      "|  2|2024-01-30|2024-01-30 21:46:...|       2|      2|     2|         2|                  1|\n",
      "|  3|2024-01-30|2024-01-30 21:46:...|       3|      3|     3|         3|                  1|\n",
      "|  4|2024-01-30|2024-01-30 21:46:...|       4|      4|     4|         4|                  2|\n",
      "|  5|2024-01-30|2024-01-30 21:46:...|       5|      5|     5|         5|                  2|\n",
      "|  6|2024-01-30|2024-01-30 21:46:...|       6|      6|     6|         6|                  3|\n",
      "|  7|2024-01-30|2024-01-30 21:46:...|       7|      7|     7|         7|                  3|\n",
      "|  8|2024-01-30|2024-01-30 21:46:...|       8|      8|     8|         8|                  4|\n",
      "|  9|2024-01-30|2024-01-30 21:46:...|       9|      9|     9|         9|                  4|\n",
      "| 10|2024-01-30|2024-01-30 21:46:...|      10|      1|     0|        10|                  5|\n",
      "| 11|2024-01-30|2024-01-30 21:46:...|      11|      1|     1|        11|                  5|\n",
      "| 12|2024-01-30|2024-01-30 21:46:...|      12|      1|     2|        12|                  6|\n",
      "| 13|2024-01-30|2024-01-30 21:46:...|      13|      1|     3|        13|                  6|\n",
      "| 14|2024-01-30|2024-01-30 21:46:...|      14|      1|     4|        14|                  7|\n",
      "| 15|2024-01-30|2024-01-30 21:46:...|      15|      1|     5|        15|                  7|\n",
      "| 16|2024-01-30|2024-01-30 21:46:...|      16|      1|     6|        16|                  8|\n",
      "| 17|2024-01-30|2024-01-30 21:46:...|      17|      1|     7|        17|                  8|\n",
      "| 18|2024-01-30|2024-01-30 21:46:...|      18|      1|     8|        18|                  9|\n",
      "| 19|2024-01-30|2024-01-30 21:46:...|      19|      1|     9|        19|                  9|\n",
      "+---+----------+--------------------+--------+-------+------+----------+-------------------+\n",
      "\n"
     ]
    }
   ],
   "source": [
    "sdf.show()"
   ]
  },
  {
   "cell_type": "code",
   "execution_count": 126,
   "metadata": {},
   "outputs": [
    {
     "name": "stdout",
     "output_type": "stream",
     "text": [
      "+---+----------+--------------------+--------+-------+------+----------+-------------------+------------+\n",
      "| id|      date|           timestamp|idstring|idfirst|idlast|idfirsttwo|partition_id_before|partition_id|\n",
      "+---+----------+--------------------+--------+-------+------+----------+-------------------+------------+\n",
      "|  1|2024-01-30|2024-01-30 21:46:...|       1|      1|     1|         1|                  0|           0|\n",
      "|  0|2024-01-30|2024-01-30 21:46:...|       0|      0|     0|         0|                  0|           4|\n",
      "|  3|2024-01-30|2024-01-30 21:46:...|       3|      3|     3|         3|                  1|           0|\n",
      "|  2|2024-01-30|2024-01-30 21:46:...|       2|      2|     2|         2|                  1|           4|\n",
      "|  4|2024-01-30|2024-01-30 21:46:...|       4|      4|     4|         4|                  2|           0|\n",
      "|  5|2024-01-30|2024-01-30 21:46:...|       5|      5|     5|         5|                  2|           4|\n",
      "|  6|2024-01-30|2024-01-30 21:46:...|       6|      6|     6|         6|                  3|           3|\n",
      "|  7|2024-01-30|2024-01-30 21:46:...|       7|      7|     7|         7|                  3|           4|\n",
      "|  8|2024-01-30|2024-01-30 21:46:...|       8|      8|     8|         8|                  4|           0|\n",
      "|  9|2024-01-30|2024-01-30 21:46:...|       9|      9|     9|         9|                  4|           4|\n",
      "| 11|2024-01-30|2024-01-30 21:46:...|      11|      1|     1|        11|                  5|           1|\n",
      "| 10|2024-01-30|2024-01-30 21:46:...|      10|      1|     0|        10|                  5|           2|\n",
      "| 12|2024-01-30|2024-01-30 21:46:...|      12|      1|     2|        12|                  6|           1|\n",
      "| 13|2024-01-30|2024-01-30 21:46:...|      13|      1|     3|        13|                  6|           2|\n",
      "| 14|2024-01-30|2024-01-30 21:46:...|      14|      1|     4|        14|                  7|           1|\n",
      "| 15|2024-01-30|2024-01-30 21:46:...|      15|      1|     5|        15|                  7|           2|\n",
      "| 17|2024-01-30|2024-01-30 21:46:...|      17|      1|     7|        17|                  8|           1|\n",
      "| 16|2024-01-30|2024-01-30 21:46:...|      16|      1|     6|        16|                  8|           2|\n",
      "| 19|2024-01-30|2024-01-30 21:46:...|      19|      1|     9|        19|                  9|           0|\n",
      "| 18|2024-01-30|2024-01-30 21:46:...|      18|      1|     8|        18|                  9|           4|\n",
      "+---+----------+--------------------+--------+-------+------+----------+-------------------+------------+\n",
      "\n"
     ]
    }
   ],
   "source": [
    "sdf_part = sdf_part.withColumn(\"partition_id\", f.spark_partition_id()).orderBy(\"partition_id_before\")\n",
    "sdf_part.show()"
   ]
  },
  {
   "cell_type": "markdown",
   "metadata": {},
   "source": [
    "# 3 - Hash Partitioning & Where it can screw you up\n",
    "- How it works:\n",
    "    - During repartitioning each value of the column to be rapartitioned by is hashed to an integer\n",
    "    - Spark uses the Murmur3_x86_32 \n",
    "    - Applying Module % num_target_partitions results into returning the assigned target partition\n",
    "- Issue:\n",
    "    - If you are unlucky the values you have in a column don't distribute the same way. E.g. you have 10 distinct values but only 4 output partitions\n",
    "    - Especially for a low distinct value range this might be the case\n",
    "    - Increasing the number of rows per partition does not help\n",
    "    - adjusting the num of target partitions influences the result\n",
    "- https://stackoverflow.com/questions/73303061/the-results-of-murmurhash-in-pyspark-and-local-python-are-different"
   ]
  },
  {
   "cell_type": "code",
   "execution_count": 127,
   "metadata": {},
   "outputs": [
    {
     "name": "stdout",
     "output_type": "stream",
     "text": [
      "+---+----------+--------------------+--------+-------+------+----------+-------------------+\n",
      "| id|      date|           timestamp|idstring|idfirst|idlast|idfirsttwo|partition_id_before|\n",
      "+---+----------+--------------------+--------+-------+------+----------+-------------------+\n",
      "|  0|2024-01-30|2024-01-30 21:46:...|       0|      0|     0|         0|                  0|\n",
      "|  1|2024-01-30|2024-01-30 21:46:...|       1|      1|     1|         1|                  0|\n",
      "|  2|2024-01-30|2024-01-30 21:46:...|       2|      2|     2|         2|                  0|\n",
      "|  3|2024-01-30|2024-01-30 21:46:...|       3|      3|     3|         3|                  0|\n",
      "|  4|2024-01-30|2024-01-30 21:46:...|       4|      4|     4|         4|                  0|\n",
      "|  5|2024-01-30|2024-01-30 21:46:...|       5|      5|     5|         5|                  1|\n",
      "|  6|2024-01-30|2024-01-30 21:46:...|       6|      6|     6|         6|                  1|\n",
      "|  7|2024-01-30|2024-01-30 21:46:...|       7|      7|     7|         7|                  1|\n",
      "|  8|2024-01-30|2024-01-30 21:46:...|       8|      8|     8|         8|                  1|\n",
      "|  9|2024-01-30|2024-01-30 21:46:...|       9|      9|     9|         9|                  1|\n",
      "| 10|2024-01-30|2024-01-30 21:46:...|      10|      1|     0|        10|                  2|\n",
      "| 11|2024-01-30|2024-01-30 21:46:...|      11|      1|     1|        11|                  2|\n",
      "| 12|2024-01-30|2024-01-30 21:46:...|      12|      1|     2|        12|                  2|\n",
      "| 13|2024-01-30|2024-01-30 21:46:...|      13|      1|     3|        13|                  2|\n",
      "| 14|2024-01-30|2024-01-30 21:46:...|      14|      1|     4|        14|                  2|\n",
      "| 15|2024-01-30|2024-01-30 21:46:...|      15|      1|     5|        15|                  3|\n",
      "| 16|2024-01-30|2024-01-30 21:46:...|      16|      1|     6|        16|                  3|\n",
      "| 17|2024-01-30|2024-01-30 21:46:...|      17|      1|     7|        17|                  3|\n",
      "| 18|2024-01-30|2024-01-30 21:46:...|      18|      1|     8|        18|                  3|\n",
      "| 19|2024-01-30|2024-01-30 21:46:...|      19|      1|     9|        19|                  3|\n",
      "+---+----------+--------------------+--------+-------+------+----------+-------------------+\n",
      "\n"
     ]
    }
   ],
   "source": [
    "sdf = sdf_generator(20, 4)\n",
    "sdf = sdf.withColumn(\"partition_id_before\", f.spark_partition_id())\n",
    "sdf.show()"
   ]
  },
  {
   "cell_type": "code",
   "execution_count": 128,
   "metadata": {},
   "outputs": [
    {
     "name": "stdout",
     "output_type": "stream",
     "text": [
      "+------------+-----+----------+\n",
      "|partition_id|count|count_perc|\n",
      "+------------+-----+----------+\n",
      "|           1|    5|      25.0|\n",
      "|           3|    5|      25.0|\n",
      "|           2|    5|      25.0|\n",
      "|           0|    5|      25.0|\n",
      "+------------+-----+----------+\n",
      "\n"
     ]
    },
    {
     "data": {
      "text/plain": [
       "DataFrame[partition_id: int, count: bigint, count_perc: double]"
      ]
     },
     "execution_count": 128,
     "metadata": {},
     "output_type": "execute_result"
    }
   ],
   "source": [
    "rows_per_partition(sdf)"
   ]
  },
  {
   "cell_type": "code",
   "execution_count": 131,
   "metadata": {},
   "outputs": [
    {
     "name": "stdout",
     "output_type": "stream",
     "text": [
      "+------------+-----+----------+\n",
      "|partition_id|count|count_perc|\n",
      "+------------+-----+----------+\n",
      "|           1|    4|      20.0|\n",
      "|           3|    4|      20.0|\n",
      "|           4|    8|      40.0|\n",
      "|           0|    4|      20.0|\n",
      "+------------+-----+----------+\n",
      "\n"
     ]
    },
    {
     "data": {
      "text/plain": [
       "DataFrame[partition_id: int, count: bigint, count_perc: double]"
      ]
     },
     "execution_count": 131,
     "metadata": {},
     "output_type": "execute_result"
    }
   ],
   "source": [
    "sdf_part = sdf.repartition(5, \"idlast\")\n",
    "rows_per_partition(sdf_part)"
   ]
  },
  {
   "cell_type": "code",
   "execution_count": 132,
   "metadata": {},
   "outputs": [
    {
     "name": "stdout",
     "output_type": "stream",
     "text": [
      "+---+----------+--------------------+--------+-------+------+----------+-------------------+------------+\n",
      "| id|      date|           timestamp|idstring|idfirst|idlast|idfirsttwo|partition_id_before|partition_id|\n",
      "+---+----------+--------------------+--------+-------+------+----------+-------------------+------------+\n",
      "|  0|2024-01-30|2024-01-30 21:47:...|       0|      0|     0|         0|                  0|           0|\n",
      "|  1|2024-01-30|2024-01-30 21:47:...|       1|      1|     1|         1|                  0|           4|\n",
      "|  2|2024-01-30|2024-01-30 21:47:...|       2|      2|     2|         2|                  0|           4|\n",
      "|  3|2024-01-30|2024-01-30 21:47:...|       3|      3|     3|         3|                  0|           3|\n",
      "|  4|2024-01-30|2024-01-30 21:47:...|       4|      4|     4|         4|                  0|           1|\n",
      "|  5|2024-01-30|2024-01-30 21:47:...|       5|      5|     5|         5|                  1|           4|\n",
      "|  6|2024-01-30|2024-01-30 21:47:...|       6|      6|     6|         6|                  1|           0|\n",
      "|  7|2024-01-30|2024-01-30 21:47:...|       7|      7|     7|         7|                  1|           3|\n",
      "|  8|2024-01-30|2024-01-30 21:47:...|       8|      8|     8|         8|                  1|           1|\n",
      "|  9|2024-01-30|2024-01-30 21:47:...|       9|      9|     9|         9|                  1|           4|\n",
      "| 10|2024-01-30|2024-01-30 21:47:...|      10|      1|     0|        10|                  2|           0|\n",
      "| 11|2024-01-30|2024-01-30 21:47:...|      11|      1|     1|        11|                  2|           4|\n",
      "| 12|2024-01-30|2024-01-30 21:47:...|      12|      1|     2|        12|                  2|           4|\n",
      "| 13|2024-01-30|2024-01-30 21:47:...|      13|      1|     3|        13|                  2|           3|\n",
      "| 14|2024-01-30|2024-01-30 21:47:...|      14|      1|     4|        14|                  2|           1|\n",
      "| 15|2024-01-30|2024-01-30 21:47:...|      15|      1|     5|        15|                  3|           4|\n",
      "| 16|2024-01-30|2024-01-30 21:47:...|      16|      1|     6|        16|                  3|           0|\n",
      "| 17|2024-01-30|2024-01-30 21:47:...|      17|      1|     7|        17|                  3|           3|\n",
      "| 18|2024-01-30|2024-01-30 21:47:...|      18|      1|     8|        18|                  3|           1|\n",
      "| 19|2024-01-30|2024-01-30 21:47:...|      19|      1|     9|        19|                  3|           4|\n",
      "+---+----------+--------------------+--------+-------+------+----------+-------------------+------------+\n",
      "\n"
     ]
    }
   ],
   "source": [
    "sdf_part = sdf_part.withColumn(\"partition_id\", f.spark_partition_id()).orderBy(\"id\")\n",
    "sdf_part.show()"
   ]
  },
  {
   "cell_type": "code",
   "execution_count": 137,
   "metadata": {},
   "outputs": [
    {
     "name": "stdout",
     "output_type": "stream",
     "text": [
      "+---+----------+--------------------+--------+-------+------+----------+-------------------+-----------+----+\n",
      "| id|      date|           timestamp|idstring|idfirst|idlast|idfirsttwo|partition_id_before|       hash|part|\n",
      "+---+----------+--------------------+--------+-------+------+----------+-------------------+-----------+----+\n",
      "|  0|2024-01-30|2024-01-30 22:08:...|       0|      0|     0|         0|                  0|  735846435|   0|\n",
      "|  6|2024-01-30|2024-01-30 22:08:...|       6|      6|     6|         6|                  1|-1929623325|   0|\n",
      "| 10|2024-01-30|2024-01-30 22:08:...|      10|      1|     0|        10|                  2|  735846435|   0|\n",
      "| 16|2024-01-30|2024-01-30 22:08:...|      16|      1|     6|        16|                  3|-1929623325|   0|\n",
      "|  3|2024-01-30|2024-01-30 22:08:...|       3|      3|     3|         3|                  0|-1756013582|   2|\n",
      "| 13|2024-01-30|2024-01-30 22:08:...|      13|      1|     3|        13|                  2|-1756013582|   2|\n",
      "|  7|2024-01-30|2024-01-30 22:08:...|       7|      7|     7|         7|                  1|  141897003|   3|\n",
      "| 17|2024-01-30|2024-01-30 22:08:...|      17|      1|     7|        17|                  3|  141897003|   3|\n",
      "|  1|2024-01-30|2024-01-30 22:08:...|       1|      1|     1|         1|                  0| 1625004744|   4|\n",
      "|  2|2024-01-30|2024-01-30 22:08:...|       2|      2|     2|         2|                  0|  870267989|   4|\n",
      "|  4|2024-01-30|2024-01-30 22:08:...|       4|      4|     4|         4|                  0|-2142269034|   4|\n",
      "|  5|2024-01-30|2024-01-30 22:08:...|       5|      5|     5|         5|                  1|  135093849|   4|\n",
      "|  8|2024-01-30|2024-01-30 22:08:...|       8|      8|     8|         8|                  1|-1276280174|   4|\n",
      "|  9|2024-01-30|2024-01-30 22:08:...|       9|      9|     9|         9|                  1|  541481139|   4|\n",
      "| 11|2024-01-30|2024-01-30 22:08:...|      11|      1|     1|        11|                  2| 1625004744|   4|\n",
      "| 12|2024-01-30|2024-01-30 22:08:...|      12|      1|     2|        12|                  2|  870267989|   4|\n",
      "| 14|2024-01-30|2024-01-30 22:08:...|      14|      1|     4|        14|                  2|-2142269034|   4|\n",
      "| 15|2024-01-30|2024-01-30 22:08:...|      15|      1|     5|        15|                  3|  135093849|   4|\n",
      "| 18|2024-01-30|2024-01-30 22:08:...|      18|      1|     8|        18|                  3|-1276280174|   4|\n",
      "| 19|2024-01-30|2024-01-30 22:08:...|      19|      1|     9|        19|                  3|  541481139|   4|\n",
      "+---+----------+--------------------+--------+-------+------+----------+-------------------+-----------+----+\n",
      "\n"
     ]
    }
   ],
   "source": [
    "sdf_hash = sdf.withColumn(\"hash\", f.hash(\"idlast\"))\n",
    "sdf_hash = sdf_hash.withColumn(\"part\", f.abs(f.col(\"hash\") % 5))\n",
    "sdf_hash = sdf_hash.orderBy(\"part\")\n",
    "sdf_hash.show()"
   ]
  },
  {
   "cell_type": "code",
   "execution_count": 134,
   "metadata": {},
   "outputs": [
    {
     "name": "stdout",
     "output_type": "stream",
     "text": [
      "+----+-----+\n",
      "|part|count|\n",
      "+----+-----+\n",
      "|   3|    2|\n",
      "|   4|   12|\n",
      "|   2|    2|\n",
      "|   0|    4|\n",
      "+----+-----+\n",
      "\n"
     ]
    }
   ],
   "source": [
    "sdf_hash.groupBy(\"part\").count().show()\n"
   ]
  },
  {
   "cell_type": "markdown",
   "metadata": {},
   "source": [
    "# 4 - Repartition by range\n",
    "\n",
    "- Documentation: https://spark.apache.org/docs/latest/api/python/reference/pyspark.sql/api/pyspark.sql.DataFrame.repartition.html#pyspark.sql.DataFrame.repartition"
   ]
  },
  {
   "cell_type": "markdown",
   "metadata": {},
   "source": []
  }
 ],
 "metadata": {
  "kernelspec": {
   "display_name": "pyspark-2.5.0",
   "language": "python",
   "name": "python3"
  },
  "language_info": {
   "codemirror_mode": {
    "name": "ipython",
    "version": 3
   },
   "file_extension": ".py",
   "mimetype": "text/x-python",
   "name": "python",
   "nbconvert_exporter": "python",
   "pygments_lexer": "ipython3",
   "version": "3.10.11"
  }
 },
 "nbformat": 4,
 "nbformat_minor": 2
}
