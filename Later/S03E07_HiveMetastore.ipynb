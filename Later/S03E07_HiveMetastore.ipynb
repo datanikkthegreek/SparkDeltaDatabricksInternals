{
 "cells": [
  {
   "cell_type": "code",
   "execution_count": 1,
   "metadata": {},
   "outputs": [],
   "source": [
    "from pyspark.sql import SparkSession\n",
    "from pyspark.sql import functions as f\n",
    "import gresearch.spark.parquet\n",
    "import os\n",
    "import sys\n"
   ]
  },
  {
   "cell_type": "code",
   "execution_count": 2,
   "metadata": {},
   "outputs": [],
   "source": [
    "os.environ['PYSPARK_PYTHON'] = sys.executable\n",
    "os.environ['PYSPARK_DRIVER_PYTHON'] = sys.executable"
   ]
  },
  {
   "cell_type": "code",
   "execution_count": 3,
   "metadata": {},
   "outputs": [],
   "source": [
    "warehouse_location = \"D:/Data/HiveMetastore\""
   ]
  },
  {
   "cell_type": "code",
   "execution_count": 4,
   "metadata": {},
   "outputs": [
    {
     "data": {
      "text/plain": [
       "True"
      ]
     },
     "execution_count": 4,
     "metadata": {},
     "output_type": "execute_result"
    }
   ],
   "source": [
    "os.path.isdir(warehouse_location)"
   ]
  },
  {
   "cell_type": "code",
   "execution_count": 5,
   "metadata": {},
   "outputs": [],
   "source": [
    "spark = SparkSession \\\n",
    "    .builder \\\n",
    "    .appName(\"Data with Nikk the Greek Spark Session\") \\\n",
    "    .master(\"local[4]\") \\\n",
    "    .enableHiveSupport() \\\n",
    "    .config(\"spark.jars.packages\", \"uk.co.gresearch.spark:spark-extension_2.12:2.11.0-3.5\") \\\n",
    "    .getOrCreate()\n",
    "\n",
    "#https://spark.apache.org/docs/latest/sql-data-sources-hive-tables.html\n",
    "#    .config(\"spark.sql.warehouse.dir\", warehouse_location) \\\n",
    "\n"
   ]
  },
  {
   "cell_type": "code",
   "execution_count": 6,
   "metadata": {},
   "outputs": [
    {
     "data": {
      "text/plain": [
       "'file:/d:/Data/HiveMetastore'"
      ]
     },
     "execution_count": 6,
     "metadata": {},
     "output_type": "execute_result"
    }
   ],
   "source": [
    "spark.conf.get(\"spark.sql.warehouse.dir\")"
   ]
  },
  {
   "cell_type": "code",
   "execution_count": 7,
   "metadata": {},
   "outputs": [],
   "source": [
    "sc = spark.sparkContext"
   ]
  },
  {
   "cell_type": "code",
   "execution_count": 8,
   "metadata": {},
   "outputs": [],
   "source": [
    "#ADJUST PATH BASED ON YOUR CHOSEN ONE\n",
    "path_hive = \"D:/Data/hive.parquet\"\n",
    "path_no_hive = \"D:/Data/no_hive.parquet\""
   ]
  },
  {
   "cell_type": "code",
   "execution_count": 9,
   "metadata": {},
   "outputs": [],
   "source": [
    "def sdf_generator(num_rows: int, num_partitions: int = None) -> \"DataFrame\":\n",
    "    return (\n",
    "        spark.range(num_rows, numPartitions=num_partitions)\n",
    "        .withColumn(\"date\", f.current_date())\n",
    "        .withColumn(\"timestamp\",f.current_timestamp())\n",
    "        .withColumn(\"idstring\", f.col(\"id\").cast(\"string\"))\n",
    "        .withColumn(\"idfirst\", f.col(\"idstring\").substr(0,1))\n",
    "        .withColumn(\"idlast\", f.col(\"idstring\").substr(-1,1))\n",
    "        )"
   ]
  },
  {
   "cell_type": "code",
   "execution_count": 10,
   "metadata": {},
   "outputs": [],
   "source": [
    "#100k rows, 4 files\n",
    "sdf = sdf_generator(10000000, 4)"
   ]
  },
  {
   "cell_type": "code",
   "execution_count": 11,
   "metadata": {},
   "outputs": [
    {
     "name": "stdout",
     "output_type": "stream",
     "text": [
      "+---+----------+--------------------+--------+-------+------+\n",
      "| id|      date|           timestamp|idstring|idfirst|idlast|\n",
      "+---+----------+--------------------+--------+-------+------+\n",
      "|  0|2024-03-18|2024-03-18 23:50:...|       0|      0|     0|\n",
      "|  1|2024-03-18|2024-03-18 23:50:...|       1|      1|     1|\n",
      "|  2|2024-03-18|2024-03-18 23:50:...|       2|      2|     2|\n",
      "|  3|2024-03-18|2024-03-18 23:50:...|       3|      3|     3|\n",
      "|  4|2024-03-18|2024-03-18 23:50:...|       4|      4|     4|\n",
      "|  5|2024-03-18|2024-03-18 23:50:...|       5|      5|     5|\n",
      "|  6|2024-03-18|2024-03-18 23:50:...|       6|      6|     6|\n",
      "|  7|2024-03-18|2024-03-18 23:50:...|       7|      7|     7|\n",
      "|  8|2024-03-18|2024-03-18 23:50:...|       8|      8|     8|\n",
      "|  9|2024-03-18|2024-03-18 23:50:...|       9|      9|     9|\n",
      "| 10|2024-03-18|2024-03-18 23:50:...|      10|      1|     0|\n",
      "| 11|2024-03-18|2024-03-18 23:50:...|      11|      1|     1|\n",
      "| 12|2024-03-18|2024-03-18 23:50:...|      12|      1|     2|\n",
      "| 13|2024-03-18|2024-03-18 23:50:...|      13|      1|     3|\n",
      "| 14|2024-03-18|2024-03-18 23:50:...|      14|      1|     4|\n",
      "| 15|2024-03-18|2024-03-18 23:50:...|      15|      1|     5|\n",
      "| 16|2024-03-18|2024-03-18 23:50:...|      16|      1|     6|\n",
      "| 17|2024-03-18|2024-03-18 23:50:...|      17|      1|     7|\n",
      "| 18|2024-03-18|2024-03-18 23:50:...|      18|      1|     8|\n",
      "| 19|2024-03-18|2024-03-18 23:50:...|      19|      1|     9|\n",
      "+---+----------+--------------------+--------+-------+------+\n",
      "only showing top 20 rows\n",
      "\n"
     ]
    }
   ],
   "source": [
    "sdf.show()"
   ]
  },
  {
   "cell_type": "code",
   "execution_count": 12,
   "metadata": {},
   "outputs": [],
   "source": [
    "sdf_schema = \"id bigint, date date, timestamp timestamp, idstring string, idfirst string, idlast string\""
   ]
  },
  {
   "cell_type": "code",
   "execution_count": 13,
   "metadata": {},
   "outputs": [],
   "source": [
    "sc.setJobDescription(\"Write Dataset\")\n",
    "sdf.write.format(\"parquet\").mode(\"overwrite\").save(path_hive)\n",
    "sdf.write.format(\"parquet\").mode(\"overwrite\").save(path_no_hive)"
   ]
  },
  {
   "cell_type": "code",
   "execution_count": 15,
   "metadata": {},
   "outputs": [
    {
     "data": {
      "text/plain": [
       "DataFrame[]"
      ]
     },
     "execution_count": 15,
     "metadata": {},
     "output_type": "execute_result"
    }
   ],
   "source": [
    "spark.sql(f\"DROP TABLE IF EXISTS test\")\n",
    "spark.sql(f\"CREATE TABLE test USING PARQUET LOCATION '{path_hive}'\")"
   ]
  },
  {
   "cell_type": "code",
   "execution_count": 20,
   "metadata": {},
   "outputs": [],
   "source": [
    "spark.conf.set(\"spark.sql.sources.useV1SourceList\", \"parquet\")\n",
    "sc.setJobDescription(\"Load Parquet No Hive with schema\")\n",
    "sdf_parquet = spark.read.format(\"parquet\").schema(sdf_schema).load(path_no_hive)\n",
    "sdf_parquet.write.format(\"noop\").mode(\"overwrite\").save()"
   ]
  },
  {
   "cell_type": "code",
   "execution_count": 21,
   "metadata": {},
   "outputs": [],
   "source": [
    "spark.conf.set(\"spark.sql.sources.useV1SourceList\", \"parquet\")\n",
    "sc.setJobDescription(\"Load Parquet No Hive without schema\")\n",
    "sdf_parquet = spark.read.format(\"parquet\").load(path_no_hive)\n",
    "sdf_parquet.write.format(\"noop\").mode(\"overwrite\").save()"
   ]
  },
  {
   "cell_type": "code",
   "execution_count": 22,
   "metadata": {},
   "outputs": [],
   "source": [
    "spark.conf.set(\"spark.sql.sources.useV1SourceList\", \"parquet\")\n",
    "sc.setJobDescription(\"Load Parquet Hive\")\n",
    "sdf_parquet = spark.read.format(\"parquet\").load(path_hive)\n",
    "sdf_parquet.write.format(\"noop\").mode(\"overwrite\").save()"
   ]
  },
  {
   "cell_type": "code",
   "execution_count": 23,
   "metadata": {},
   "outputs": [],
   "source": [
    "sc.setJobDescription(\"Load Parquet Hive Table\")\n",
    "spark.sql(\"Select * from test\").write.format(\"noop\").mode(\"overwrite\").save()"
   ]
  },
  {
   "cell_type": "code",
   "execution_count": 28,
   "metadata": {},
   "outputs": [],
   "source": [
    "sc.setJobDescription(\"Filter Hive Table\")\n",
    "spark.sql(\"Select * from test where id < 10000\").write.format(\"noop\").mode(\"overwrite\").save()"
   ]
  },
  {
   "cell_type": "code",
   "execution_count": 29,
   "metadata": {},
   "outputs": [],
   "source": [
    "sc.setJobDescription(\"Filter Parquet Table\")\n",
    "sdf_parquet = spark.read.format(\"parquet\").schema(sdf_schema).load(path_no_hive)\n",
    "sdf_parquet = sdf_parquet.filter(f.col(\"id\") < 10000)\n",
    "sdf_parquet.write.format(\"noop\").mode(\"overwrite\").save()"
   ]
  },
  {
   "cell_type": "code",
   "execution_count": 31,
   "metadata": {},
   "outputs": [
    {
     "name": "stdout",
     "output_type": "stream",
     "text": [
      "+-------+\n",
      "|max(id)|\n",
      "+-------+\n",
      "|9999999|\n",
      "+-------+\n",
      "\n"
     ]
    }
   ],
   "source": [
    "spark.conf.set(\"spark.sql.sources.useV1SourceList\", \"parquet\")\n",
    "sc.setJobDescription(\"Max Parquet No Hive with schema\")\n",
    "sdf_parquet = spark.read.format(\"parquet\").schema(sdf_schema).load(path_no_hive)\n",
    "sdf_max = sdf_parquet.groupBy().max(\"id\")\n",
    "sdf_max.show()"
   ]
  },
  {
   "cell_type": "code",
   "execution_count": 31,
   "metadata": {},
   "outputs": [
    {
     "name": "stdout",
     "output_type": "stream",
     "text": [
      "+-------+\n",
      "|max(id)|\n",
      "+-------+\n",
      "|9999999|\n",
      "+-------+\n",
      "\n"
     ]
    }
   ],
   "source": [
    "spark.conf.set(\"spark.sql.sources.useV1SourceList\", \"parquet\")\n",
    "sc.setJobDescription(\"Max Parquet No Hive without schema\")\n",
    "sdf_parquet = spark.read.format(\"parquet\").load(path_no_hive)\n",
    "sdf_max = sdf_parquet.groupBy().max(\"id\")\n",
    "sdf_max.show()"
   ]
  },
  {
   "cell_type": "code",
   "execution_count": 30,
   "metadata": {},
   "outputs": [
    {
     "name": "stdout",
     "output_type": "stream",
     "text": [
      "+-------+\n",
      "|max(id)|\n",
      "+-------+\n",
      "|9999999|\n",
      "+-------+\n",
      "\n"
     ]
    }
   ],
   "source": [
    "spark.conf.set(\"spark.sql.sources.useV1SourceList\", \"parquet\")\n",
    "sc.setJobDescription(\"Max Parquet Hive\")\n",
    "sdf_parquet = spark.read.format(\"parquet\").load(path_hive)\n",
    "sdf_max = sdf_parquet.groupBy().max(\"id\")\n",
    "sdf_max.show()"
   ]
  },
  {
   "cell_type": "code",
   "execution_count": null,
   "metadata": {},
   "outputs": [],
   "source": [
    "spark.sql(\"Select * from test\").show()"
   ]
  },
  {
   "cell_type": "code",
   "execution_count": 25,
   "metadata": {},
   "outputs": [
    {
     "data": {
      "text/plain": [
       "DataFrame[]"
      ]
     },
     "execution_count": 25,
     "metadata": {},
     "output_type": "execute_result"
    }
   ],
   "source": [
    "spark.sql(\"ANALYZE TABLE test COMPUTE STATISTICS FOR ALL COLUMNS\")"
   ]
  },
  {
   "cell_type": "code",
   "execution_count": null,
   "metadata": {},
   "outputs": [
    {
     "name": "stdout",
     "output_type": "stream",
     "text": [
      "+--------------------+--------------------+-------+\n",
      "|            col_name|           data_type|comment|\n",
      "+--------------------+--------------------+-------+\n",
      "|                  id|              bigint|   NULL|\n",
      "|                date|                date|   NULL|\n",
      "|           timestamp|           timestamp|   NULL|\n",
      "|            idstring|              string|   NULL|\n",
      "|             idfirst|              string|   NULL|\n",
      "|              idlast|              string|   NULL|\n",
      "|                    |                    |       |\n",
      "|# Detailed Table ...|                    |       |\n",
      "|             Catalog|       spark_catalog|       |\n",
      "|            Database|             default|       |\n",
      "|               Table|                test|       |\n",
      "|               Owner|               nikol|       |\n",
      "|        Created Time|Mon Mar 18 17:55:...|       |\n",
      "|         Last Access|             UNKNOWN|       |\n",
      "|          Created By|         Spark 3.5.1|       |\n",
      "|                Type|            EXTERNAL|       |\n",
      "|            Provider|             PARQUET|       |\n",
      "|          Statistics|845887 bytes, 100...|       |\n",
      "|            Location|file:/D:/Data/hiv...|       |\n",
      "|       Serde Library|org.apache.hadoop...|       |\n",
      "+--------------------+--------------------+-------+\n",
      "only showing top 20 rows\n",
      "\n"
     ]
    }
   ],
   "source": [
    "spark.sql(\"DESC EXTENDED test\").show()"
   ]
  },
  {
   "cell_type": "code",
   "execution_count": null,
   "metadata": {},
   "outputs": [
    {
     "name": "stdout",
     "output_type": "stream",
     "text": [
      "+--------------+----------+\n",
      "|     info_name|info_value|\n",
      "+--------------+----------+\n",
      "|      col_name|        id|\n",
      "|     data_type|    bigint|\n",
      "|       comment|      NULL|\n",
      "|           min|         0|\n",
      "|           max|     99999|\n",
      "|     num_nulls|         0|\n",
      "|distinct_count|     95546|\n",
      "|   avg_col_len|         8|\n",
      "|   max_col_len|         8|\n",
      "|     histogram|      NULL|\n",
      "+--------------+----------+\n",
      "\n"
     ]
    }
   ],
   "source": [
    "spark.sql(\"DESC EXTENDED test id\").show()"
   ]
  },
  {
   "cell_type": "code",
   "execution_count": null,
   "metadata": {},
   "outputs": [],
   "source": []
  }
 ],
 "metadata": {
  "kernelspec": {
   "display_name": "pyspark-3.5.1",
   "language": "python",
   "name": "python3"
  },
  "language_info": {
   "codemirror_mode": {
    "name": "ipython",
    "version": 3
   },
   "file_extension": ".py",
   "mimetype": "text/x-python",
   "name": "python",
   "nbconvert_exporter": "python",
   "pygments_lexer": "ipython3",
   "version": "3.10.13"
  }
 },
 "nbformat": 4,
 "nbformat_minor": 2
}
